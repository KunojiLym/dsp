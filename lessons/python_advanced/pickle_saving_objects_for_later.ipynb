{
 "cells": [
  {
   "cell_type": "code",
   "execution_count": 1,
   "metadata": {},
   "outputs": [
    {
     "output_type": "stream",
     "name": "stdout",
     "text": "Python Version: 3.6.9 (default, Nov  7 2019, 10:44:02) \n[GCC 8.3.0] \n\n"
    }
   ],
   "source": [
    "import sys\n",
    "print(\"Python Version:\", sys.version, '\\n')"
   ]
  },
  {
   "cell_type": "markdown",
   "metadata": {},
   "source": [
    "# Pickle: Saving Objects for Later"
   ]
  },
  {
   "cell_type": "markdown",
   "metadata": {},
   "source": [
    "Often in data science, we'll create some model or some version of our data and want to use it later. We have many options - we can save the coefficients, or save the data to csv, or...\n",
    "\n",
    "Actually, we don't have that many options. \n",
    "\n",
    "One way to overcome that is to save the python object to a file as a serialized object. That means we convert the entire object to a bunch of bytes, save those bytes into a file, and then have the ability to unpack those bytes back into their original format later. \n",
    "\n",
    "This is done by a module called `pickle`. Let's see it in action."
   ]
  },
  {
   "cell_type": "code",
   "execution_count": 2,
   "metadata": {},
   "outputs": [],
   "source": [
    "import pickle\n",
    "import random\n",
    "\n",
    "lots_of_noise = {\n",
    "    'CA': [random.randint(0,65) for _ in range(100)],\n",
    "    'IL': [random.randint(0,65) for _ in range(50)],\n",
    "    'NY': [random.randint(0,65) for _ in range(90)],\n",
    "    'WA': [random.randint(0,65) for _ in range(33)]\n",
    "}"
   ]
  },
  {
   "cell_type": "code",
   "execution_count": 3,
   "metadata": {},
   "outputs": [
    {
     "output_type": "stream",
     "name": "stdout",
     "text": "{'CA': [13, 42, 65, 59, 13, 13, 35, 8, 34, 26, 56, 56, 1, 26, 15, 40, 55, 58, 63, 23, 53, 31, 59, 32, 9, 40, 53, 26, 15, 49, 51, 49, 32, 47, 45, 49, 16, 57, 54, 19, 42, 49, 13, 60, 41, 61, 24, 52, 27, 65, 1, 43, 11, 47, 49, 30, 2, 25, 46, 49, 10, 14, 35, 40, 45, 60, 46, 53, 31, 45, 1, 42, 3, 5, 0, 43, 25, 40, 16, 11, 6, 29, 18, 27, 42, 32, 65, 30, 6, 60, 64, 2, 58, 40, 23, 7, 19, 49, 37, 57], 'IL': [43, 23, 1, 61, 49, 53, 13, 27, 61, 64, 0, 32, 31, 15, 8, 55, 58, 64, 63, 15, 34, 3, 63, 59, 26, 35, 17, 38, 28, 9, 47, 61, 56, 25, 30, 2, 61, 13, 5, 26, 52, 25, 51, 29, 25, 37, 57, 39, 12, 33], 'NY': [32, 49, 52, 51, 19, 44, 31, 39, 35, 43, 50, 34, 45, 19, 35, 38, 44, 42, 50, 15, 8, 3, 51, 37, 55, 58, 26, 43, 58, 55, 1, 35, 36, 57, 31, 47, 24, 36, 43, 26, 22, 14, 29, 36, 61, 45, 49, 8, 63, 57, 56, 34, 2, 44, 47, 21, 10, 54, 5, 50, 57, 56, 39, 39, 47, 45, 25, 16, 57, 29, 60, 4, 17, 59, 56, 63, 36, 40, 26, 46, 12, 64, 34, 32, 47, 29, 4, 23, 24, 19], 'WA': [63, 10, 36, 10, 60, 33, 8, 43, 37, 16, 3, 55, 15, 50, 50, 51, 18, 46, 51, 18, 20, 26, 62, 9, 59, 1, 31, 43, 13, 0, 2, 9, 15]}\n"
    }
   ],
   "source": [
    "print(lots_of_noise)"
   ]
  },
  {
   "cell_type": "code",
   "execution_count": 4,
   "metadata": {},
   "outputs": [
    {
     "output_type": "stream",
     "name": "stdout",
     "text": "Variable        Type      Data/Info\n-----------------------------------\nlots_of_noise   dict      n=4\nos              module    <module 'os' from '/usr/lib/python3.6/os.py'>\npickle          module    <module 'pickle' from '/u<...>lib/python3.6/pickle.py'>\nrandom          module    <module 'random' from '/u<...>lib/python3.6/random.py'>\nsys             module    <module 'sys' (built-in)>\n"
    }
   ],
   "source": [
    "whos"
   ]
  },
  {
   "cell_type": "markdown",
   "metadata": {},
   "source": [
    "We can see in this `whos` command that the object `lots_of_noise` exists and is a `dict` with 4 keys. Nice. Now let's look at our file system and verify that there isn't a file called `noise.pickle`."
   ]
  },
  {
   "cell_type": "code",
   "execution_count": 5,
   "metadata": {},
   "outputs": [
    {
     "output_type": "stream",
     "name": "stdout",
     "text": "advanced_python_datatypes.ipynb  my_dataframe.pickle\ndeep_and_shallow_copy.ipynb\t noise.pickle\ndeep_copy_demo\t\t\t pickle_saving_objects_for_later.ipynb\ninstructor_guide_week1_day4.md\t readme.md\n"
    }
   ],
   "source": [
    "!ls"
   ]
  },
  {
   "cell_type": "markdown",
   "metadata": {},
   "source": [
    "Okay, now we're ready to create a file and write the bytes to it. To do this with `pickle`, we use python's read-write streamer `open` and create a writable-binary (`wb`) file. We'll then use `pickle.dump` to put an object into that file as a string of bytes."
   ]
  },
  {
   "cell_type": "code",
   "execution_count": 6,
   "metadata": {},
   "outputs": [],
   "source": [
    "with open('noise.pickle', 'wb') as to_write:\n",
    "    pickle.dump(lots_of_noise, to_write)"
   ]
  },
  {
   "cell_type": "code",
   "execution_count": 7,
   "metadata": {},
   "outputs": [
    {
     "output_type": "stream",
     "name": "stdout",
     "text": "advanced_python_datatypes.ipynb  my_dataframe.pickle\ndeep_and_shallow_copy.ipynb\t noise.pickle\ndeep_copy_demo\t\t\t pickle_saving_objects_for_later.ipynb\ninstructor_guide_week1_day4.md\t readme.md\n"
    }
   ],
   "source": [
    "!ls"
   ]
  },
  {
   "cell_type": "markdown",
   "metadata": {},
   "source": [
    "Now let's delete `lots_of_noise` and prove to ourselves it doesn't exist in Python's memory anymore."
   ]
  },
  {
   "cell_type": "code",
   "execution_count": 8,
   "metadata": {},
   "outputs": [],
   "source": [
    "del lots_of_noise"
   ]
  },
  {
   "cell_type": "code",
   "execution_count": 9,
   "metadata": {},
   "outputs": [
    {
     "output_type": "stream",
     "name": "stdout",
     "text": "Variable   Type              Data/Info\n--------------------------------------\nos         module            <module 'os' from '/usr/lib/python3.6/os.py'>\npickle     module            <module 'pickle' from '/u<...>lib/python3.6/pickle.py'>\nrandom     module            <module 'random' from '/u<...>lib/python3.6/random.py'>\nsys        module            <module 'sys' (built-in)>\nto_write   BufferedWriter    <_io.BufferedWriter name='noise.pickle'>\n"
    }
   ],
   "source": [
    "whos"
   ]
  },
  {
   "cell_type": "code",
   "execution_count": 10,
   "metadata": {},
   "outputs": [
    {
     "output_type": "error",
     "ename": "NameError",
     "evalue": "name 'lots_of_noise' is not defined",
     "traceback": [
      "\u001b[0;31m---------------------------------------------------------------------------\u001b[0m",
      "\u001b[0;31mNameError\u001b[0m                                 Traceback (most recent call last)",
      "\u001b[0;32m<ipython-input-10-69f22b4d5ca8>\u001b[0m in \u001b[0;36m<module>\u001b[0;34m\u001b[0m\n\u001b[0;32m----> 1\u001b[0;31m \u001b[0mprint\u001b[0m\u001b[0;34m(\u001b[0m\u001b[0mlots_of_noise\u001b[0m\u001b[0;34m)\u001b[0m\u001b[0;34m\u001b[0m\u001b[0;34m\u001b[0m\u001b[0m\n\u001b[0m",
      "\u001b[0;31mNameError\u001b[0m: name 'lots_of_noise' is not defined"
     ]
    }
   ],
   "source": [
    "print(lots_of_noise)"
   ]
  },
  {
   "cell_type": "markdown",
   "metadata": {},
   "source": [
    "Lovely. It's dead forever. Or is it?\n",
    "\n",
    "Let's open that `noise.pickle` file with read-binary (`rb`) mode. Then we'll ask pickle to retrieve the file with `pickle.load` and store it back in a variable."
   ]
  },
  {
   "cell_type": "code",
   "execution_count": 11,
   "metadata": {},
   "outputs": [],
   "source": [
    "with open('noise.pickle','rb') as read_file:\n",
    "    new_noise = pickle.load(read_file)"
   ]
  },
  {
   "cell_type": "code",
   "execution_count": 12,
   "metadata": {},
   "outputs": [
    {
     "output_type": "stream",
     "name": "stdout",
     "text": "{'CA': [13, 42, 65, 59, 13, 13, 35, 8, 34, 26, 56, 56, 1, 26, 15, 40, 55, 58, 63, 23, 53, 31, 59, 32, 9, 40, 53, 26, 15, 49, 51, 49, 32, 47, 45, 49, 16, 57, 54, 19, 42, 49, 13, 60, 41, 61, 24, 52, 27, 65, 1, 43, 11, 47, 49, 30, 2, 25, 46, 49, 10, 14, 35, 40, 45, 60, 46, 53, 31, 45, 1, 42, 3, 5, 0, 43, 25, 40, 16, 11, 6, 29, 18, 27, 42, 32, 65, 30, 6, 60, 64, 2, 58, 40, 23, 7, 19, 49, 37, 57], 'IL': [43, 23, 1, 61, 49, 53, 13, 27, 61, 64, 0, 32, 31, 15, 8, 55, 58, 64, 63, 15, 34, 3, 63, 59, 26, 35, 17, 38, 28, 9, 47, 61, 56, 25, 30, 2, 61, 13, 5, 26, 52, 25, 51, 29, 25, 37, 57, 39, 12, 33], 'NY': [32, 49, 52, 51, 19, 44, 31, 39, 35, 43, 50, 34, 45, 19, 35, 38, 44, 42, 50, 15, 8, 3, 51, 37, 55, 58, 26, 43, 58, 55, 1, 35, 36, 57, 31, 47, 24, 36, 43, 26, 22, 14, 29, 36, 61, 45, 49, 8, 63, 57, 56, 34, 2, 44, 47, 21, 10, 54, 5, 50, 57, 56, 39, 39, 47, 45, 25, 16, 57, 29, 60, 4, 17, 59, 56, 63, 36, 40, 26, 46, 12, 64, 34, 32, 47, 29, 4, 23, 24, 19], 'WA': [63, 10, 36, 10, 60, 33, 8, 43, 37, 16, 3, 55, 15, 50, 50, 51, 18, 46, 51, 18, 20, 26, 62, 9, 59, 1, 31, 43, 13, 0, 2, 9, 15]}\n"
    }
   ],
   "source": [
    "print(new_noise)"
   ]
  },
  {
   "cell_type": "code",
   "execution_count": 13,
   "metadata": {},
   "outputs": [
    {
     "output_type": "stream",
     "name": "stdout",
     "text": "Variable    Type              Data/Info\n---------------------------------------\nnew_noise   dict              n=4\nos          module            <module 'os' from '/usr/lib/python3.6/os.py'>\npickle      module            <module 'pickle' from '/u<...>lib/python3.6/pickle.py'>\nrandom      module            <module 'random' from '/u<...>lib/python3.6/random.py'>\nread_file   BufferedReader    <_io.BufferedReader name='noise.pickle'>\nsys         module            <module 'sys' (built-in)>\nto_write    BufferedWriter    <_io.BufferedWriter name='noise.pickle'>\n"
    }
   ],
   "source": [
    "whos"
   ]
  },
  {
   "cell_type": "markdown",
   "metadata": {},
   "source": [
    "Random noise lives! We retrieved the entire structure from file. Nice."
   ]
  },
  {
   "cell_type": "markdown",
   "metadata": {},
   "source": [
    "### Okay, but I don't use dictionaries... I use pandas."
   ]
  },
  {
   "cell_type": "code",
   "execution_count": 14,
   "metadata": {},
   "outputs": [
    {
     "output_type": "execute_result",
     "data": {
      "text/html": "<div>\n<style scoped>\n    .dataframe tbody tr th:only-of-type {\n        vertical-align: middle;\n    }\n\n    .dataframe tbody tr th {\n        vertical-align: top;\n    }\n\n    .dataframe thead th {\n        text-align: right;\n    }\n</style>\n<table border=\"1\" class=\"dataframe\">\n  <thead>\n    <tr style=\"text-align: right;\">\n      <th></th>\n      <th>Yay</th>\n      <th>specific</th>\n      <th>column</th>\n      <th>names</th>\n    </tr>\n  </thead>\n  <tbody>\n    <tr>\n      <th>0</th>\n      <td>9.375278</td>\n      <td>-9.067973</td>\n      <td>9.696432</td>\n      <td>-0.618030</td>\n    </tr>\n    <tr>\n      <th>1</th>\n      <td>7.741391</td>\n      <td>2.424191</td>\n      <td>-6.188278</td>\n      <td>6.004993</td>\n    </tr>\n    <tr>\n      <th>2</th>\n      <td>-6.647809</td>\n      <td>-6.508787</td>\n      <td>8.305908</td>\n      <td>5.549462</td>\n    </tr>\n    <tr>\n      <th>3</th>\n      <td>-7.766933</td>\n      <td>-3.732910</td>\n      <td>-0.471438</td>\n      <td>7.918132</td>\n    </tr>\n    <tr>\n      <th>4</th>\n      <td>1.708203</td>\n      <td>4.967413</td>\n      <td>1.902056</td>\n      <td>-5.524853</td>\n    </tr>\n  </tbody>\n</table>\n</div>",
      "text/plain": "        Yay  specific    column     names\n0  9.375278 -9.067973  9.696432 -0.618030\n1  7.741391  2.424191 -6.188278  6.004993\n2 -6.647809 -6.508787  8.305908  5.549462\n3 -7.766933 -3.732910 -0.471438  7.918132\n4  1.708203  4.967413  1.902056 -5.524853"
     },
     "metadata": {},
     "execution_count": 14
    }
   ],
   "source": [
    "import pandas as pd\n",
    "import numpy as np\n",
    "\n",
    "df = pd.DataFrame(np.random.uniform(-10,10, size=(100,4)), columns=['Yay','specific','column','names'])\n",
    "df.head(5)"
   ]
  },
  {
   "cell_type": "code",
   "execution_count": 15,
   "metadata": {},
   "outputs": [],
   "source": [
    "with open('my_dataframe.pickle', 'wb') as to_write:\n",
    "    pickle.dump(df, to_write)"
   ]
  },
  {
   "cell_type": "code",
   "execution_count": 16,
   "metadata": {},
   "outputs": [
    {
     "output_type": "error",
     "ename": "NameError",
     "evalue": "name 'df' is not defined",
     "traceback": [
      "\u001b[0;31m---------------------------------------------------------------------------\u001b[0m",
      "\u001b[0;31mNameError\u001b[0m                                 Traceback (most recent call last)",
      "\u001b[0;32m<ipython-input-16-3975f6306adf>\u001b[0m in \u001b[0;36m<module>\u001b[0;34m\u001b[0m\n\u001b[1;32m      1\u001b[0m \u001b[0;32mdel\u001b[0m \u001b[0mdf\u001b[0m\u001b[0;34m\u001b[0m\u001b[0;34m\u001b[0m\u001b[0m\n\u001b[1;32m      2\u001b[0m \u001b[0;34m\u001b[0m\u001b[0m\n\u001b[0;32m----> 3\u001b[0;31m \u001b[0mdf\u001b[0m\u001b[0;34m.\u001b[0m\u001b[0mhead\u001b[0m\u001b[0;34m(\u001b[0m\u001b[0;36m5\u001b[0m\u001b[0;34m)\u001b[0m\u001b[0;34m\u001b[0m\u001b[0;34m\u001b[0m\u001b[0m\n\u001b[0m",
      "\u001b[0;31mNameError\u001b[0m: name 'df' is not defined"
     ]
    }
   ],
   "source": [
    "del df\n",
    "\n",
    "df.head(5)"
   ]
  },
  {
   "cell_type": "code",
   "execution_count": 17,
   "metadata": {},
   "outputs": [
    {
     "output_type": "execute_result",
     "data": {
      "text/html": "<div>\n<style scoped>\n    .dataframe tbody tr th:only-of-type {\n        vertical-align: middle;\n    }\n\n    .dataframe tbody tr th {\n        vertical-align: top;\n    }\n\n    .dataframe thead th {\n        text-align: right;\n    }\n</style>\n<table border=\"1\" class=\"dataframe\">\n  <thead>\n    <tr style=\"text-align: right;\">\n      <th></th>\n      <th>Yay</th>\n      <th>specific</th>\n      <th>column</th>\n      <th>names</th>\n    </tr>\n  </thead>\n  <tbody>\n    <tr>\n      <th>0</th>\n      <td>9.375278</td>\n      <td>-9.067973</td>\n      <td>9.696432</td>\n      <td>-0.618030</td>\n    </tr>\n    <tr>\n      <th>1</th>\n      <td>7.741391</td>\n      <td>2.424191</td>\n      <td>-6.188278</td>\n      <td>6.004993</td>\n    </tr>\n    <tr>\n      <th>2</th>\n      <td>-6.647809</td>\n      <td>-6.508787</td>\n      <td>8.305908</td>\n      <td>5.549462</td>\n    </tr>\n    <tr>\n      <th>3</th>\n      <td>-7.766933</td>\n      <td>-3.732910</td>\n      <td>-0.471438</td>\n      <td>7.918132</td>\n    </tr>\n    <tr>\n      <th>4</th>\n      <td>1.708203</td>\n      <td>4.967413</td>\n      <td>1.902056</td>\n      <td>-5.524853</td>\n    </tr>\n  </tbody>\n</table>\n</div>",
      "text/plain": "        Yay  specific    column     names\n0  9.375278 -9.067973  9.696432 -0.618030\n1  7.741391  2.424191 -6.188278  6.004993\n2 -6.647809 -6.508787  8.305908  5.549462\n3 -7.766933 -3.732910 -0.471438  7.918132\n4  1.708203  4.967413  1.902056 -5.524853"
     },
     "metadata": {},
     "execution_count": 17
    }
   ],
   "source": [
    "with open('my_dataframe.pickle','rb') as read_file:\n",
    "    new_df = pickle.load(read_file)\n",
    "    \n",
    "new_df.head(5)"
   ]
  },
  {
   "cell_type": "markdown",
   "metadata": {},
   "source": [
    "Pickle is a great tool. One recommended way of using it is to make it an end point of every step in your process. Example:\n",
    "\n",
    "* I got my data! Nice. Pickle it and stop your \"getting the data\" notebook.\n",
    "* Load your data from pickle. Clean it. Save your clean data to a new pickle.\n",
    "* Load your cleaned_data pickle. Do analysis and visualize it.\n",
    "\n",
    "This can provide natural \"pick-up-where-I-left-off-but-before-I-broke-my-data\" points. It's a great way to control the flow of your data.\n",
    "\n",
    "#### Resources\n",
    "\n",
    "https://docs.python.org/3.7/library/pickle.html"
   ]
  },
  {
   "cell_type": "code",
   "execution_count": null,
   "metadata": {},
   "outputs": [],
   "source": []
  }
 ],
 "metadata": {
  "language_info": {
   "codemirror_mode": {
    "name": "ipython",
    "version": 3
   },
   "file_extension": ".py",
   "mimetype": "text/x-python",
   "name": "python",
   "nbconvert_exporter": "python",
   "pygments_lexer": "ipython3",
   "version": "2.7.17-final"
  },
  "kernelspec": {
   "name": "python36964bitfc6fa5ef2fa04484af92077c76417ad1",
   "display_name": "Python 3.6.9 64-bit"
  }
 },
 "nbformat": 4,
 "nbformat_minor": 1
}