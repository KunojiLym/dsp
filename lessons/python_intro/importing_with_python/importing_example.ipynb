{
 "cells": [
  {
   "cell_type": "markdown",
   "metadata": {},
   "source": [
    "# Let's learn a bit more about importing"
   ]
  },
  {
   "cell_type": "markdown",
   "metadata": {},
   "source": [
    "One of the key ways you can immediately make your code more professional looking is by using modules to import the functions and classes you'll need. As an example, let's imagine we wanted to import a module we wrote that measures metrics about linear regression. The file is called `regression_metrics.py`. Note that the `*.py` style naming is not optional unless you want to get way more complicated. For now, just know that if you're writing a module for Python, you want to call it `*something*.py`."
   ]
  },
  {
   "cell_type": "markdown",
   "metadata": {},
   "source": [
    "To get started, let's tell matplotlib to use the notebook as output. Notice that we're not importing matplotlib here! We're going to let it be imported in the module where the plotting code is. That has some complications which we'll explore in a bit. "
   ]
  },
  {
   "cell_type": "code",
   "execution_count": 2,
   "metadata": {
    "ExecuteTime": {
     "end_time": "2018-09-11T19:47:07.473790Z",
     "start_time": "2018-09-11T19:47:06.107464Z"
    }
   },
   "outputs": [],
   "source": [
    "%matplotlib inline"
   ]
  },
  {
   "cell_type": "markdown",
   "metadata": {},
   "source": [
    "Okay, we're ready to bring in our module. To do so, we can just ask python to import the file (by name, minus the .py). This is going to make all the stuff in that file available to us, but it will belong to that import name. Let's see what I mean."
   ]
  },
  {
   "cell_type": "code",
   "execution_count": 1,
   "metadata": {
    "ExecuteTime": {
     "end_time": "2018-09-11T19:47:10.379267Z",
     "start_time": "2018-09-11T19:47:09.202888Z"
    }
   },
   "outputs": [],
   "source": [
    "import regression_metrics as met"
   ]
  },
  {
   "cell_type": "code",
   "execution_count": 3,
   "metadata": {
    "ExecuteTime": {
     "end_time": "2018-09-11T19:47:10.432491Z",
     "start_time": "2018-09-11T19:47:10.414429Z"
    }
   },
   "outputs": [
    {
     "output_type": "execute_result",
     "data": {
      "text/plain": "['__name__',\n '__doc__',\n '__package__',\n '__loader__',\n '__spec__',\n '__file__',\n '__cached__',\n '__builtins__',\n 'stats',\n 'np',\n 'plt',\n 'mean_squared_error',\n 'root_mean_square_error',\n 'mean_absolute_error',\n 'sum_squared_error',\n 'r2_score',\n 'adj_r2',\n 'standard_error_estimate',\n 'plot_model_results',\n 'p_vals_per_coef',\n 'model_score']"
     },
     "metadata": {},
     "execution_count": 3
    }
   ],
   "source": [
    "met.__dir__()"
   ]
  },
  {
   "cell_type": "markdown",
   "metadata": {},
   "source": [
    "So all of the functions I wrote, like `model_score`, are now hanging out under the name of `met`. So if I wanted to call model score, I'd need to say `met.model_score(...)`. Also notice that we've got numpy in there as np. So let's try to run some code. "
   ]
  },
  {
   "cell_type": "code",
   "execution_count": 5,
   "metadata": {
    "ExecuteTime": {
     "end_time": "2018-09-11T19:47:13.294092Z",
     "start_time": "2018-09-11T19:47:12.263936Z"
    }
   },
   "outputs": [
    {
     "output_type": "error",
     "ename": "NameError",
     "evalue": "name 'np' is not defined",
     "traceback": [
      "\u001b[0;31m---------------------------------------------------------------------------\u001b[0m",
      "\u001b[0;31mNameError\u001b[0m                                 Traceback (most recent call last)",
      "\u001b[0;32m<ipython-input-5-1f5063bbe8a7>\u001b[0m in \u001b[0;36m<module>\u001b[0;34m\u001b[0m\n\u001b[1;32m      1\u001b[0m \u001b[0;32mfrom\u001b[0m \u001b[0msklearn\u001b[0m\u001b[0;34m.\u001b[0m\u001b[0mlinear_model\u001b[0m \u001b[0;32mimport\u001b[0m \u001b[0mLinearRegression\u001b[0m\u001b[0;34m\u001b[0m\u001b[0;34m\u001b[0m\u001b[0m\n\u001b[1;32m      2\u001b[0m \u001b[0;34m\u001b[0m\u001b[0m\n\u001b[0;32m----> 3\u001b[0;31m \u001b[0mX\u001b[0m \u001b[0;34m=\u001b[0m \u001b[0mnp\u001b[0m\u001b[0;34m.\u001b[0m\u001b[0mrandom\u001b[0m\u001b[0;34m.\u001b[0m\u001b[0muniform\u001b[0m\u001b[0;34m(\u001b[0m\u001b[0;34m-\u001b[0m\u001b[0;36m10\u001b[0m\u001b[0;34m,\u001b[0m\u001b[0;36m10\u001b[0m\u001b[0;34m,\u001b[0m\u001b[0;36m100\u001b[0m\u001b[0;34m)\u001b[0m\u001b[0;34m\u001b[0m\u001b[0;34m\u001b[0m\u001b[0m\n\u001b[0m\u001b[1;32m      4\u001b[0m \u001b[0my\u001b[0m \u001b[0;34m=\u001b[0m \u001b[0mX\u001b[0m \u001b[0;34m+\u001b[0m \u001b[0mnp\u001b[0m\u001b[0;34m.\u001b[0m\u001b[0mrandom\u001b[0m\u001b[0;34m.\u001b[0m\u001b[0mnormal\u001b[0m\u001b[0;34m(\u001b[0m\u001b[0;36m0\u001b[0m\u001b[0;34m,\u001b[0m\u001b[0;36m0.5\u001b[0m\u001b[0;34m,\u001b[0m \u001b[0;36m100\u001b[0m\u001b[0;34m)\u001b[0m \u001b[0;34m+\u001b[0m \u001b[0;36m9\u001b[0m\u001b[0;34m\u001b[0m\u001b[0;34m\u001b[0m\u001b[0m\n\u001b[1;32m      5\u001b[0m \u001b[0mX\u001b[0m \u001b[0;34m=\u001b[0m \u001b[0mX\u001b[0m\u001b[0;34m.\u001b[0m\u001b[0mreshape\u001b[0m\u001b[0;34m(\u001b[0m\u001b[0;34m-\u001b[0m\u001b[0;36m1\u001b[0m\u001b[0;34m,\u001b[0m\u001b[0;36m1\u001b[0m\u001b[0;34m)\u001b[0m\u001b[0;34m\u001b[0m\u001b[0;34m\u001b[0m\u001b[0m\n",
      "\u001b[0;31mNameError\u001b[0m: name 'np' is not defined"
     ]
    }
   ],
   "source": [
    "from sklearn.linear_model import LinearRegression\n",
    "\n",
    "X = np.random.uniform(-10,10,100)\n",
    "y = X + np.random.normal(0,0.5, 100) + 9\n",
    "X = X.reshape(-1,1)\n",
    "\n",
    "lr = LinearRegression()\n",
    "lr.fit(X, y)\n",
    "preds = lr.predict(X)\n",
    "\n",
    "_ = met.model_score(y, preds, X, verbose = 1)\n",
    ""
   ]
  },
  {
   "cell_type": "markdown",
   "metadata": {},
   "source": [
    "Whoa... why did it break? I already imported numpy!? Kind of. I did, but numpy is currently called `met.np` not just np. If I want to use numpy I have two options, either import it like normal, or tell python that I want the variable `np` to point to `met.np` so that everyone's sharing numpy together."
   ]
  },
  {
   "cell_type": "code",
   "execution_count": 6,
   "metadata": {
    "ExecuteTime": {
     "end_time": "2018-09-11T19:47:45.268052Z",
     "start_time": "2018-09-11T19:47:43.904453Z"
    }
   },
   "outputs": [],
   "source": [
    "from sklearn.linear_model import LinearRegression\n",
    "np = met.np\n",
    "\n",
    "X = np.random.uniform(-10,10,100)\n",
    "y = X + np.random.normal(0,0.5, 100) + 9\n",
    "X = X.reshape(-1,1)\n",
    "\n",
    "lr = LinearRegression()\n",
    "lr.fit(X, y)\n",
    "preds = lr.predict(X)"
   ]
  },
  {
   "cell_type": "markdown",
   "metadata": {},
   "source": [
    "Cool. We got the data and the model working. Now let's try to see the `model_score` function in action."
   ]
  },
  {
   "cell_type": "code",
   "execution_count": 7,
   "metadata": {
    "ExecuteTime": {
     "end_time": "2018-09-11T19:47:56.510463Z",
     "start_time": "2018-09-11T19:47:56.488082Z"
    }
   },
   "outputs": [
    {
     "output_type": "error",
     "ename": "NameError",
     "evalue": "name 'model_score' is not defined",
     "traceback": [
      "\u001b[0;31m---------------------------------------------------------------------------\u001b[0m",
      "\u001b[0;31mNameError\u001b[0m                                 Traceback (most recent call last)",
      "\u001b[0;32m<ipython-input-7-7a180630db0e>\u001b[0m in \u001b[0;36m<module>\u001b[0;34m\u001b[0m\n\u001b[0;32m----> 1\u001b[0;31m \u001b[0mmodel_score\u001b[0m\u001b[0;34m(\u001b[0m\u001b[0my\u001b[0m\u001b[0;34m,\u001b[0m \u001b[0mpreds\u001b[0m\u001b[0;34m,\u001b[0m \u001b[0mX\u001b[0m\u001b[0;34m,\u001b[0m \u001b[0mverbose\u001b[0m \u001b[0;34m=\u001b[0m \u001b[0;36m1\u001b[0m\u001b[0;34m)\u001b[0m\u001b[0;34m\u001b[0m\u001b[0;34m\u001b[0m\u001b[0m\n\u001b[0m",
      "\u001b[0;31mNameError\u001b[0m: name 'model_score' is not defined"
     ]
    }
   ],
   "source": [
    "model_score(y, preds, X, verbose = 1)"
   ]
  },
  {
   "cell_type": "markdown",
   "metadata": {},
   "source": [
    "Remember, we have to tell it where model score lives. Right now it lives under `met`'s house"
   ]
  },
  {
   "cell_type": "code",
   "execution_count": 8,
   "metadata": {
    "ExecuteTime": {
     "end_time": "2018-09-11T19:48:11.745093Z",
     "start_time": "2018-09-11T19:48:11.325979Z"
    }
   },
   "outputs": [
    {
     "output_type": "display_data",
     "data": {
      "image/png": "[encoded data removed]",
      "text/plain": "<Figure size 576x396 with 1 Axes>",
      "image/svg+xml": "<?xml version=\"1.0\" encoding=\"utf-8\" standalone=\"no\"?>\n<!DOCTYPE svg PUBLIC \"-//W3C//DTD SVG 1.1//EN\"\n  \"http://www.w3.org/Graphics/SVG/1.1/DTD/svg11.dtd\">\n<!-- Created with matplotlib (https://matplotlib.org/) -->\n<svg height=\"344.704062pt\" version=\"1.1\" viewBox=\"0 0 504.711562 344.704062\" width=\"504.711562pt\" xmlns=\"http://www.w3.org/2000/svg\" xmlns:xlink=\"http://www.w3.org/1999/xlink\">\n <defs>\n  <style type=\"text/css\">\n*{stroke-linecap:butt;stroke-linejoin:round;}\n  </style>\n </defs>\n <g id=\"figure_1\">\n  <g id=\"patch_1\">\n   <path d=\"M 0 344.704062 \nL 504.711562 344.704062 \nL 504.711562 0 \nL 0 0 \nz\n\" style=\"fill:#ffffff;\"/>\n  </g>\n  <g id=\"axes_1\">\n   <g id=\"patch_2\">\n    <path d=\"M 51.111563 306.18 \nL 497.511562 306.18 \nL 497.511562 7.2 \nL 51.111563 7.2 \nz\n\" style=\"fill:#eaeaf2;\"/>\n   </g>\n   <g id=\"matplotlib.axis_1\">\n    <g id=\"xtick_1\">\n     <g id=\"line2d_1\">\n      <path clip-path=\"url(#p7bf9aca2f5)\" d=\"M 87.825885 306.18 \nL 87.825885 7.2 \n\" style=\"fill:none;stroke:#ffffff;stroke-linecap:round;\"/>\n     </g>\n     <g id=\"line2d_2\"/>\n     <g id=\"text_1\">\n      <!-- 0.0 -->\n      <defs>\n       <path d=\"M 31.78125 66.40625 \nQ 24.171875 66.40625 20.328125 58.90625 \nQ 16.5 51.421875 16.5 36.375 \nQ 16.5 21.390625 20.328125 13.890625 \nQ 24.171875 6.390625 31.78125 6.390625 \nQ 39.453125 6.390625 43.28125 13.890625 \nQ 47.125 21.390625 47.125 36.375 \nQ 47.125 51.421875 43.28125 58.90625 \nQ 39.453125 66.40625 31.78125 66.40625 \nz\nM 31.78125 74.21875 \nQ 44.046875 74.21875 50.515625 64.515625 \nQ 56.984375 54.828125 56.984375 36.375 \nQ 56.984375 17.96875 50.515625 8.265625 \nQ 44.046875 -1.421875 31.78125 -1.421875 \nQ 19.53125 -1.421875 13.0625 8.265625 \nQ 6.59375 17.96875 6.59375 36.375 \nQ 6.59375 54.828125 13.0625 64.515625 \nQ 19.53125 74.21875 31.78125 74.21875 \nz\n\" id=\"DejaVuSans-48\"/>\n       <path d=\"M 10.6875 12.40625 \nL 21 12.40625 \nL 21 0 \nL 10.6875 0 \nz\n\" id=\"DejaVuSans-46\"/>\n      </defs>\n      <g style=\"fill:#262626;\" transform=\"translate(79.874323 320.778437)scale(0.1 -0.1)\">\n       <use xlink:href=\"#DejaVuSans-48\"/>\n       <use x=\"63.623047\" xlink:href=\"#DejaVuSans-46\"/>\n       <use x=\"95.410156\" xlink:href=\"#DejaVuSans-48\"/>\n      </g>\n     </g>\n    </g>\n    <g id=\"xtick_2\">\n     <g id=\"line2d_3\">\n      <path clip-path=\"url(#p7bf9aca2f5)\" d=\"M 139.137323 306.18 \nL 139.137323 7.2 \n\" style=\"fill:none;stroke:#ffffff;stroke-linecap:round;\"/>\n     </g>\n     <g id=\"line2d_4\"/>\n     <g id=\"text_2\">\n      <!-- 2.5 -->\n      <defs>\n       <path d=\"M 19.1875 8.296875 \nL 53.609375 8.296875 \nL 53.609375 0 \nL 7.328125 0 \nL 7.328125 8.296875 \nQ 12.9375 14.109375 22.625 23.890625 \nQ 32.328125 33.6875 34.8125 36.53125 \nQ 39.546875 41.84375 41.421875 45.53125 \nQ 43.3125 49.21875 43.3125 52.78125 \nQ 43.3125 58.59375 39.234375 62.25 \nQ 35.15625 65.921875 28.609375 65.921875 \nQ 23.96875 65.921875 18.8125 64.3125 \nQ 13.671875 62.703125 7.8125 59.421875 \nL 7.8125 69.390625 \nQ 13.765625 71.78125 18.9375 73 \nQ 24.125 74.21875 28.421875 74.21875 \nQ 39.75 74.21875 46.484375 68.546875 \nQ 53.21875 62.890625 53.21875 53.421875 \nQ 53.21875 48.921875 51.53125 44.890625 \nQ 49.859375 40.875 45.40625 35.40625 \nQ 44.1875 33.984375 37.640625 27.21875 \nQ 31.109375 20.453125 19.1875 8.296875 \nz\n\" id=\"DejaVuSans-50\"/>\n       <path d=\"M 10.796875 72.90625 \nL 49.515625 72.90625 \nL 49.515625 64.59375 \nL 19.828125 64.59375 \nL 19.828125 46.734375 \nQ 21.96875 47.46875 24.109375 47.828125 \nQ 26.265625 48.1875 28.421875 48.1875 \nQ 40.625 48.1875 47.75 41.5 \nQ 54.890625 34.8125 54.890625 23.390625 \nQ 54.890625 11.625 47.5625 5.09375 \nQ 40.234375 -1.421875 26.90625 -1.421875 \nQ 22.3125 -1.421875 17.546875 -0.640625 \nQ 12.796875 0.140625 7.71875 1.703125 \nL 7.71875 11.625 \nQ 12.109375 9.234375 16.796875 8.0625 \nQ 21.484375 6.890625 26.703125 6.890625 \nQ 35.15625 6.890625 40.078125 11.328125 \nQ 45.015625 15.765625 45.015625 23.390625 \nQ 45.015625 31 40.078125 35.4375 \nQ 35.15625 39.890625 26.703125 39.890625 \nQ 22.75 39.890625 18.8125 39.015625 \nQ 14.890625 38.140625 10.796875 36.28125 \nz\n\" id=\"DejaVuSans-53\"/>\n      </defs>\n      <g style=\"fill:#262626;\" transform=\"translate(131.185761 320.778437)scale(0.1 -0.1)\">\n       <use xlink:href=\"#DejaVuSans-50\"/>\n       <use x=\"63.623047\" xlink:href=\"#DejaVuSans-46\"/>\n       <use x=\"95.410156\" xlink:href=\"#DejaVuSans-53\"/>\n      </g>\n     </g>\n    </g>\n    <g id=\"xtick_3\">\n     <g id=\"line2d_5\">\n      <path clip-path=\"url(#p7bf9aca2f5)\" d=\"M 190.448761 306.18 \nL 190.448761 7.2 \n\" style=\"fill:none;stroke:#ffffff;stroke-linecap:round;\"/>\n     </g>\n     <g id=\"line2d_6\"/>\n     <g id=\"text_3\">\n      <!-- 5.0 -->\n      <g style=\"fill:#262626;\" transform=\"translate(182.497198 320.778437)scale(0.1 -0.1)\">\n       <use xlink:href=\"#DejaVuSans-53\"/>\n       <use x=\"63.623047\" xlink:href=\"#DejaVuSans-46\"/>\n       <use x=\"95.410156\" xlink:href=\"#DejaVuSans-48\"/>\n      </g>\n     </g>\n    </g>\n    <g id=\"xtick_4\">\n     <g id=\"line2d_7\">\n      <path clip-path=\"url(#p7bf9aca2f5)\" d=\"M 241.760199 306.18 \nL 241.760199 7.2 \n\" style=\"fill:none;stroke:#ffffff;stroke-linecap:round;\"/>\n     </g>\n     <g id=\"line2d_8\"/>\n     <g id=\"text_4\">\n      <!-- 7.5 -->\n      <defs>\n       <path d=\"M 8.203125 72.90625 \nL 55.078125 72.90625 \nL 55.078125 68.703125 \nL 28.609375 0 \nL 18.3125 0 \nL 43.21875 64.59375 \nL 8.203125 64.59375 \nz\n\" id=\"DejaVuSans-55\"/>\n      </defs>\n      <g style=\"fill:#262626;\" transform=\"translate(233.808636 320.778437)scale(0.1 -0.1)\">\n       <use xlink:href=\"#DejaVuSans-55\"/>\n       <use x=\"63.623047\" xlink:href=\"#DejaVuSans-46\"/>\n       <use x=\"95.410156\" xlink:href=\"#DejaVuSans-53\"/>\n      </g>\n     </g>\n    </g>\n    <g id=\"xtick_5\">\n     <g id=\"line2d_9\">\n      <path clip-path=\"url(#p7bf9aca2f5)\" d=\"M 293.071636 306.18 \nL 293.071636 7.2 \n\" style=\"fill:none;stroke:#ffffff;stroke-linecap:round;\"/>\n     </g>\n     <g id=\"line2d_10\"/>\n     <g id=\"text_5\">\n      <!-- 10.0 -->\n      <defs>\n       <path d=\"M 12.40625 8.296875 \nL 28.515625 8.296875 \nL 28.515625 63.921875 \nL 10.984375 60.40625 \nL 10.984375 69.390625 \nL 28.421875 72.90625 \nL 38.28125 72.90625 \nL 38.28125 8.296875 \nL 54.390625 8.296875 \nL 54.390625 0 \nL 12.40625 0 \nz\n\" id=\"DejaVuSans-49\"/>\n      </defs>\n      <g style=\"fill:#262626;\" transform=\"translate(281.938824 320.778437)scale(0.1 -0.1)\">\n       <use xlink:href=\"#DejaVuSans-49\"/>\n       <use x=\"63.623047\" xlink:href=\"#DejaVuSans-48\"/>\n       <use x=\"127.246094\" xlink:href=\"#DejaVuSans-46\"/>\n       <use x=\"159.033203\" xlink:href=\"#DejaVuSans-48\"/>\n      </g>\n     </g>\n    </g>\n    <g id=\"xtick_6\">\n     <g id=\"line2d_11\">\n      <path clip-path=\"url(#p7bf9aca2f5)\" d=\"M 344.383074 306.18 \nL 344.383074 7.2 \n\" style=\"fill:none;stroke:#ffffff;stroke-linecap:round;\"/>\n     </g>\n     <g id=\"line2d_12\"/>\n     <g id=\"text_6\">\n      <!-- 12.5 -->\n      <g style=\"fill:#262626;\" transform=\"translate(333.250262 320.778437)scale(0.1 -0.1)\">\n       <use xlink:href=\"#DejaVuSans-49\"/>\n       <use x=\"63.623047\" xlink:href=\"#DejaVuSans-50\"/>\n       <use x=\"127.246094\" xlink:href=\"#DejaVuSans-46\"/>\n       <use x=\"159.033203\" xlink:href=\"#DejaVuSans-53\"/>\n      </g>\n     </g>\n    </g>\n    <g id=\"xtick_7\">\n     <g id=\"line2d_13\">\n      <path clip-path=\"url(#p7bf9aca2f5)\" d=\"M 395.694512 306.18 \nL 395.694512 7.2 \n\" style=\"fill:none;stroke:#ffffff;stroke-linecap:round;\"/>\n     </g>\n     <g id=\"line2d_14\"/>\n     <g id=\"text_7\">\n      <!-- 15.0 -->\n      <g style=\"fill:#262626;\" transform=\"translate(384.561699 320.778437)scale(0.1 -0.1)\">\n       <use xlink:href=\"#DejaVuSans-49\"/>\n       <use x=\"63.623047\" xlink:href=\"#DejaVuSans-53\"/>\n       <use x=\"127.246094\" xlink:href=\"#DejaVuSans-46\"/>\n       <use x=\"159.033203\" xlink:href=\"#DejaVuSans-48\"/>\n      </g>\n     </g>\n    </g>\n    <g id=\"xtick_8\">\n     <g id=\"line2d_15\">\n      <path clip-path=\"url(#p7bf9aca2f5)\" d=\"M 447.00595 306.18 \nL 447.00595 7.2 \n\" style=\"fill:none;stroke:#ffffff;stroke-linecap:round;\"/>\n     </g>\n     <g id=\"line2d_16\"/>\n     <g id=\"text_8\">\n      <!-- 17.5 -->\n      <g style=\"fill:#262626;\" transform=\"translate(435.873137 320.778437)scale(0.1 -0.1)\">\n       <use xlink:href=\"#DejaVuSans-49\"/>\n       <use x=\"63.623047\" xlink:href=\"#DejaVuSans-55\"/>\n       <use x=\"127.246094\" xlink:href=\"#DejaVuSans-46\"/>\n       <use x=\"159.033203\" xlink:href=\"#DejaVuSans-53\"/>\n      </g>\n     </g>\n    </g>\n    <g id=\"text_9\">\n     <!-- Predicted -->\n     <defs>\n      <path d=\"M 19.671875 64.796875 \nL 19.671875 37.40625 \nL 32.078125 37.40625 \nQ 38.96875 37.40625 42.71875 40.96875 \nQ 46.484375 44.53125 46.484375 51.125 \nQ 46.484375 57.671875 42.71875 61.234375 \nQ 38.96875 64.796875 32.078125 64.796875 \nz\nM 9.8125 72.90625 \nL 32.078125 72.90625 \nQ 44.34375 72.90625 50.609375 67.359375 \nQ 56.890625 61.8125 56.890625 51.125 \nQ 56.890625 40.328125 50.609375 34.8125 \nQ 44.34375 29.296875 32.078125 29.296875 \nL 19.671875 29.296875 \nL 19.671875 0 \nL 9.8125 0 \nz\n\" id=\"DejaVuSans-80\"/>\n      <path d=\"M 41.109375 46.296875 \nQ 39.59375 47.171875 37.8125 47.578125 \nQ 36.03125 48 33.890625 48 \nQ 26.265625 48 22.1875 43.046875 \nQ 18.109375 38.09375 18.109375 28.8125 \nL 18.109375 0 \nL 9.078125 0 \nL 9.078125 54.6875 \nL 18.109375 54.6875 \nL 18.109375 46.1875 \nQ 20.953125 51.171875 25.484375 53.578125 \nQ 30.03125 56 36.53125 56 \nQ 37.453125 56 38.578125 55.875 \nQ 39.703125 55.765625 41.0625 55.515625 \nz\n\" id=\"DejaVuSans-114\"/>\n      <path d=\"M 56.203125 29.59375 \nL 56.203125 25.203125 \nL 14.890625 25.203125 \nQ 15.484375 15.921875 20.484375 11.0625 \nQ 25.484375 6.203125 34.421875 6.203125 \nQ 39.59375 6.203125 44.453125 7.46875 \nQ 49.3125 8.734375 54.109375 11.28125 \nL 54.109375 2.78125 \nQ 49.265625 0.734375 44.1875 -0.34375 \nQ 39.109375 -1.421875 33.890625 -1.421875 \nQ 20.796875 -1.421875 13.15625 6.1875 \nQ 5.515625 13.8125 5.515625 26.8125 \nQ 5.515625 40.234375 12.765625 48.109375 \nQ 20.015625 56 32.328125 56 \nQ 43.359375 56 49.78125 48.890625 \nQ 56.203125 41.796875 56.203125 29.59375 \nz\nM 47.21875 32.234375 \nQ 47.125 39.59375 43.09375 43.984375 \nQ 39.0625 48.390625 32.421875 48.390625 \nQ 24.90625 48.390625 20.390625 44.140625 \nQ 15.875 39.890625 15.1875 32.171875 \nz\n\" id=\"DejaVuSans-101\"/>\n      <path d=\"M 45.40625 46.390625 \nL 45.40625 75.984375 \nL 54.390625 75.984375 \nL 54.390625 0 \nL 45.40625 0 \nL 45.40625 8.203125 \nQ 42.578125 3.328125 38.25 0.953125 \nQ 33.9375 -1.421875 27.875 -1.421875 \nQ 17.96875 -1.421875 11.734375 6.484375 \nQ 5.515625 14.40625 5.515625 27.296875 \nQ 5.515625 40.1875 11.734375 48.09375 \nQ 17.96875 56 27.875 56 \nQ 33.9375 56 38.25 53.625 \nQ 42.578125 51.265625 45.40625 46.390625 \nz\nM 14.796875 27.296875 \nQ 14.796875 17.390625 18.875 11.75 \nQ 22.953125 6.109375 30.078125 6.109375 \nQ 37.203125 6.109375 41.296875 11.75 \nQ 45.40625 17.390625 45.40625 27.296875 \nQ 45.40625 37.203125 41.296875 42.84375 \nQ 37.203125 48.484375 30.078125 48.484375 \nQ 22.953125 48.484375 18.875 42.84375 \nQ 14.796875 37.203125 14.796875 27.296875 \nz\n\" id=\"DejaVuSans-100\"/>\n      <path d=\"M 9.421875 54.6875 \nL 18.40625 54.6875 \nL 18.40625 0 \nL 9.421875 0 \nz\nM 9.421875 75.984375 \nL 18.40625 75.984375 \nL 18.40625 64.59375 \nL 9.421875 64.59375 \nz\n\" id=\"DejaVuSans-105\"/>\n      <path d=\"M 48.78125 52.59375 \nL 48.78125 44.1875 \nQ 44.96875 46.296875 41.140625 47.34375 \nQ 37.3125 48.390625 33.40625 48.390625 \nQ 24.65625 48.390625 19.8125 42.84375 \nQ 14.984375 37.3125 14.984375 27.296875 \nQ 14.984375 17.28125 19.8125 11.734375 \nQ 24.65625 6.203125 33.40625 6.203125 \nQ 37.3125 6.203125 41.140625 7.25 \nQ 44.96875 8.296875 48.78125 10.40625 \nL 48.78125 2.09375 \nQ 45.015625 0.34375 40.984375 -0.53125 \nQ 36.96875 -1.421875 32.421875 -1.421875 \nQ 20.0625 -1.421875 12.78125 6.34375 \nQ 5.515625 14.109375 5.515625 27.296875 \nQ 5.515625 40.671875 12.859375 48.328125 \nQ 20.21875 56 33.015625 56 \nQ 37.15625 56 41.109375 55.140625 \nQ 45.0625 54.296875 48.78125 52.59375 \nz\n\" id=\"DejaVuSans-99\"/>\n      <path d=\"M 18.3125 70.21875 \nL 18.3125 54.6875 \nL 36.8125 54.6875 \nL 36.8125 47.703125 \nL 18.3125 47.703125 \nL 18.3125 18.015625 \nQ 18.3125 11.328125 20.140625 9.421875 \nQ 21.96875 7.515625 27.59375 7.515625 \nL 36.8125 7.515625 \nL 36.8125 0 \nL 27.59375 0 \nQ 17.1875 0 13.234375 3.875 \nQ 9.28125 7.765625 9.28125 18.015625 \nL 9.28125 47.703125 \nL 2.6875 47.703125 \nL 2.6875 54.6875 \nL 9.28125 54.6875 \nL 9.28125 70.21875 \nz\n\" id=\"DejaVuSans-116\"/>\n     </defs>\n     <g style=\"fill:#262626;\" transform=\"translate(248.494219 335.216406)scale(0.11 -0.11)\">\n      <use xlink:href=\"#DejaVuSans-80\"/>\n      <use x=\"58.552734\" xlink:href=\"#DejaVuSans-114\"/>\n      <use x=\"97.416016\" xlink:href=\"#DejaVuSans-101\"/>\n      <use x=\"158.939453\" xlink:href=\"#DejaVuSans-100\"/>\n      <use x=\"222.416016\" xlink:href=\"#DejaVuSans-105\"/>\n      <use x=\"250.199219\" xlink:href=\"#DejaVuSans-99\"/>\n      <use x=\"305.179688\" xlink:href=\"#DejaVuSans-116\"/>\n      <use x=\"344.388672\" xlink:href=\"#DejaVuSans-101\"/>\n      <use x=\"405.912109\" xlink:href=\"#DejaVuSans-100\"/>\n     </g>\n    </g>\n   </g>\n   <g id=\"matplotlib.axis_2\">\n    <g id=\"ytick_1\">\n     <g id=\"line2d_17\">\n      <path clip-path=\"url(#p7bf9aca2f5)\" d=\"M 51.111563 281.61024 \nL 497.511562 281.61024 \n\" style=\"fill:none;stroke:#ffffff;stroke-linecap:round;\"/>\n     </g>\n     <g id=\"line2d_18\"/>\n     <g id=\"text_10\">\n      <!-- 0.0 -->\n      <g style=\"fill:#262626;\" transform=\"translate(28.208438 285.409459)scale(0.1 -0.1)\">\n       <use xlink:href=\"#DejaVuSans-48\"/>\n       <use x=\"63.623047\" xlink:href=\"#DejaVuSans-46\"/>\n       <use x=\"95.410156\" xlink:href=\"#DejaVuSans-48\"/>\n      </g>\n     </g>\n    </g>\n    <g id=\"ytick_2\">\n     <g id=\"line2d_19\">\n      <path clip-path=\"url(#p7bf9aca2f5)\" d=\"M 51.111563 246.246142 \nL 497.511562 246.246142 \n\" style=\"fill:none;stroke:#ffffff;stroke-linecap:round;\"/>\n     </g>\n     <g id=\"line2d_20\"/>\n     <g id=\"text_11\">\n      <!-- 2.5 -->\n      <g style=\"fill:#262626;\" transform=\"translate(28.208438 250.04536)scale(0.1 -0.1)\">\n       <use xlink:href=\"#DejaVuSans-50\"/>\n       <use x=\"63.623047\" xlink:href=\"#DejaVuSans-46\"/>\n       <use x=\"95.410156\" xlink:href=\"#DejaVuSans-53\"/>\n      </g>\n     </g>\n    </g>\n    <g id=\"ytick_3\">\n     <g id=\"line2d_21\">\n      <path clip-path=\"url(#p7bf9aca2f5)\" d=\"M 51.111563 210.882043 \nL 497.511562 210.882043 \n\" style=\"fill:none;stroke:#ffffff;stroke-linecap:round;\"/>\n     </g>\n     <g id=\"line2d_22\"/>\n     <g id=\"text_12\">\n      <!-- 5.0 -->\n      <g style=\"fill:#262626;\" transform=\"translate(28.208438 214.681262)scale(0.1 -0.1)\">\n       <use xlink:href=\"#DejaVuSans-53\"/>\n       <use x=\"63.623047\" xlink:href=\"#DejaVuSans-46\"/>\n       <use x=\"95.410156\" xlink:href=\"#DejaVuSans-48\"/>\n      </g>\n     </g>\n    </g>\n    <g id=\"ytick_4\">\n     <g id=\"line2d_23\">\n      <path clip-path=\"url(#p7bf9aca2f5)\" d=\"M 51.111563 175.517945 \nL 497.511562 175.517945 \n\" style=\"fill:none;stroke:#ffffff;stroke-linecap:round;\"/>\n     </g>\n     <g id=\"line2d_24\"/>\n     <g id=\"text_13\">\n      <!-- 7.5 -->\n      <g style=\"fill:#262626;\" transform=\"translate(28.208438 179.317164)scale(0.1 -0.1)\">\n       <use xlink:href=\"#DejaVuSans-55\"/>\n       <use x=\"63.623047\" xlink:href=\"#DejaVuSans-46\"/>\n       <use x=\"95.410156\" xlink:href=\"#DejaVuSans-53\"/>\n      </g>\n     </g>\n    </g>\n    <g id=\"ytick_5\">\n     <g id=\"line2d_25\">\n      <path clip-path=\"url(#p7bf9aca2f5)\" d=\"M 51.111563 140.153847 \nL 497.511562 140.153847 \n\" style=\"fill:none;stroke:#ffffff;stroke-linecap:round;\"/>\n     </g>\n     <g id=\"line2d_26\"/>\n     <g id=\"text_14\">\n      <!-- 10.0 -->\n      <g style=\"fill:#262626;\" transform=\"translate(21.845938 143.953066)scale(0.1 -0.1)\">\n       <use xlink:href=\"#DejaVuSans-49\"/>\n       <use x=\"63.623047\" xlink:href=\"#DejaVuSans-48\"/>\n       <use x=\"127.246094\" xlink:href=\"#DejaVuSans-46\"/>\n       <use x=\"159.033203\" xlink:href=\"#DejaVuSans-48\"/>\n      </g>\n     </g>\n    </g>\n    <g id=\"ytick_6\">\n     <g id=\"line2d_27\">\n      <path clip-path=\"url(#p7bf9aca2f5)\" d=\"M 51.111563 104.789749 \nL 497.511562 104.789749 \n\" style=\"fill:none;stroke:#ffffff;stroke-linecap:round;\"/>\n     </g>\n     <g id=\"line2d_28\"/>\n     <g id=\"text_15\">\n      <!-- 12.5 -->\n      <g style=\"fill:#262626;\" transform=\"translate(21.845938 108.588967)scale(0.1 -0.1)\">\n       <use xlink:href=\"#DejaVuSans-49\"/>\n       <use x=\"63.623047\" xlink:href=\"#DejaVuSans-50\"/>\n       <use x=\"127.246094\" xlink:href=\"#DejaVuSans-46\"/>\n       <use x=\"159.033203\" xlink:href=\"#DejaVuSans-53\"/>\n      </g>\n     </g>\n    </g>\n    <g id=\"ytick_7\">\n     <g id=\"line2d_29\">\n      <path clip-path=\"url(#p7bf9aca2f5)\" d=\"M 51.111563 69.42565 \nL 497.511562 69.42565 \n\" style=\"fill:none;stroke:#ffffff;stroke-linecap:round;\"/>\n     </g>\n     <g id=\"line2d_30\"/>\n     <g id=\"text_16\">\n      <!-- 15.0 -->\n      <g style=\"fill:#262626;\" transform=\"translate(21.845938 73.224869)scale(0.1 -0.1)\">\n       <use xlink:href=\"#DejaVuSans-49\"/>\n       <use x=\"63.623047\" xlink:href=\"#DejaVuSans-53\"/>\n       <use x=\"127.246094\" xlink:href=\"#DejaVuSans-46\"/>\n       <use x=\"159.033203\" xlink:href=\"#DejaVuSans-48\"/>\n      </g>\n     </g>\n    </g>\n    <g id=\"ytick_8\">\n     <g id=\"line2d_31\">\n      <path clip-path=\"url(#p7bf9aca2f5)\" d=\"M 51.111563 34.061552 \nL 497.511562 34.061552 \n\" style=\"fill:none;stroke:#ffffff;stroke-linecap:round;\"/>\n     </g>\n     <g id=\"line2d_32\"/>\n     <g id=\"text_17\">\n      <!-- 17.5 -->\n      <g style=\"fill:#262626;\" transform=\"translate(21.845938 37.860771)scale(0.1 -0.1)\">\n       <use xlink:href=\"#DejaVuSans-49\"/>\n       <use x=\"63.623047\" xlink:href=\"#DejaVuSans-55\"/>\n       <use x=\"127.246094\" xlink:href=\"#DejaVuSans-46\"/>\n       <use x=\"159.033203\" xlink:href=\"#DejaVuSans-53\"/>\n      </g>\n     </g>\n    </g>\n    <g id=\"text_18\">\n     <!-- True -->\n     <defs>\n      <path d=\"M -0.296875 72.90625 \nL 61.375 72.90625 \nL 61.375 64.59375 \nL 35.5 64.59375 \nL 35.5 0 \nL 25.59375 0 \nL 25.59375 64.59375 \nL -0.296875 64.59375 \nz\n\" id=\"DejaVuSans-84\"/>\n      <path d=\"M 8.5 21.578125 \nL 8.5 54.6875 \nL 17.484375 54.6875 \nL 17.484375 21.921875 \nQ 17.484375 14.15625 20.5 10.265625 \nQ 23.53125 6.390625 29.59375 6.390625 \nQ 36.859375 6.390625 41.078125 11.03125 \nQ 45.3125 15.671875 45.3125 23.6875 \nL 45.3125 54.6875 \nL 54.296875 54.6875 \nL 54.296875 0 \nL 45.3125 0 \nL 45.3125 8.40625 \nQ 42.046875 3.421875 37.71875 1 \nQ 33.40625 -1.421875 27.6875 -1.421875 \nQ 18.265625 -1.421875 13.375 4.4375 \nQ 8.5 10.296875 8.5 21.578125 \nz\nM 31.109375 56 \nz\n\" id=\"DejaVuSans-117\"/>\n     </defs>\n     <g style=\"fill:#262626;\" transform=\"translate(15.558281 168.368906)rotate(-90)scale(0.11 -0.11)\">\n      <use xlink:href=\"#DejaVuSans-84\"/>\n      <use x=\"46.333984\" xlink:href=\"#DejaVuSans-114\"/>\n      <use x=\"87.447266\" xlink:href=\"#DejaVuSans-117\"/>\n      <use x=\"150.826172\" xlink:href=\"#DejaVuSans-101\"/>\n     </g>\n    </g>\n   </g>\n   <g id=\"PathCollection_1\">\n    <defs>\n     <path d=\"M 0 3.708099 \nC 0.983399 3.708099 1.926654 3.317391 2.622022 2.622022 \nC 3.317391 1.926654 3.708099 0.983399 3.708099 0 \nC 3.708099 -0.983399 3.317391 -1.926654 2.622022 -2.622022 \nC 1.926654 -3.317391 0.983399 -3.708099 0 -3.708099 \nC -0.983399 -3.708099 -1.926654 -3.317391 -2.622022 -2.622022 \nC -3.317391 -1.926654 -3.708099 -0.983399 -3.708099 0 \nC -3.708099 0.983399 -3.317391 1.926654 -2.622022 2.622022 \nC -1.926654 3.317391 -0.983399 3.708099 0 3.708099 \nz\n\" id=\"m683761890e\" style=\"stroke:#4c72b0;stroke-width:0.3;\"/>\n    </defs>\n    <g clip-path=\"url(#p7bf9aca2f5)\">\n     <use style=\"fill:#4c72b0;stroke:#4c72b0;stroke-width:0.3;\" x=\"213.757577\" xlink:href=\"#m683761890e\" y=\"207.164063\"/>\n     <use style=\"fill:#4c72b0;stroke:#4c72b0;stroke-width:0.3;\" x=\"284.027154\" xlink:href=\"#m683761890e\" y=\"156.744919\"/>\n     <use style=\"fill:#4c72b0;stroke:#4c72b0;stroke-width:0.3;\" x=\"377.780118\" xlink:href=\"#m683761890e\" y=\"91.471692\"/>\n     <use style=\"fill:#4c72b0;stroke:#4c72b0;stroke-width:0.3;\" x=\"161.372253\" xlink:href=\"#m683761890e\" y=\"225.99368\"/>\n     <use style=\"fill:#4c72b0;stroke:#4c72b0;stroke-width:0.3;\" x=\"320.694684\" xlink:href=\"#m683761890e\" y=\"116.405901\"/>\n     <use style=\"fill:#4c72b0;stroke:#4c72b0;stroke-width:0.3;\" x=\"279.808623\" xlink:href=\"#m683761890e\" y=\"141.893472\"/>\n     <use style=\"fill:#4c72b0;stroke:#4c72b0;stroke-width:0.3;\" x=\"384.062652\" xlink:href=\"#m683761890e\" y=\"77.066025\"/>\n     <use style=\"fill:#4c72b0;stroke:#4c72b0;stroke-width:0.3;\" x=\"364.535517\" xlink:href=\"#m683761890e\" y=\"89.667717\"/>\n     <use style=\"fill:#4c72b0;stroke:#4c72b0;stroke-width:0.3;\" x=\"362.258115\" xlink:href=\"#m683761890e\" y=\"78.301628\"/>\n     <use style=\"fill:#4c72b0;stroke:#4c72b0;stroke-width:0.3;\" x=\"226.131722\" xlink:href=\"#m683761890e\" y=\"187.810468\"/>\n     <use style=\"fill:#4c72b0;stroke:#4c72b0;stroke-width:0.3;\" x=\"391.066598\" xlink:href=\"#m683761890e\" y=\"75.731979\"/>\n     <use style=\"fill:#4c72b0;stroke:#4c72b0;stroke-width:0.3;\" x=\"85.77549\" xlink:href=\"#m683761890e\" y=\"289.744913\"/>\n     <use style=\"fill:#4c72b0;stroke:#4c72b0;stroke-width:0.3;\" x=\"410.287261\" xlink:href=\"#m683761890e\" y=\"55.264721\"/>\n     <use style=\"fill:#4c72b0;stroke:#4c72b0;stroke-width:0.3;\" x=\"243.939471\" xlink:href=\"#m683761890e\" y=\"169.518962\"/>\n     <use style=\"fill:#4c72b0;stroke:#4c72b0;stroke-width:0.3;\" x=\"426.91188\" xlink:href=\"#m683761890e\" y=\"37.668693\"/>\n     <use style=\"fill:#4c72b0;stroke:#4c72b0;stroke-width:0.3;\" x=\"425.909948\" xlink:href=\"#m683761890e\" y=\"51.897247\"/>\n     <use style=\"fill:#4c72b0;stroke:#4c72b0;stroke-width:0.3;\" x=\"186.792256\" xlink:href=\"#m683761890e\" y=\"222.034448\"/>\n     <use style=\"fill:#4c72b0;stroke:#4c72b0;stroke-width:0.3;\" x=\"342.959187\" xlink:href=\"#m683761890e\" y=\"99.145504\"/>\n     <use style=\"fill:#4c72b0;stroke:#4c72b0;stroke-width:0.3;\" x=\"149.884218\" xlink:href=\"#m683761890e\" y=\"225.234248\"/>\n     <use style=\"fill:#4c72b0;stroke:#4c72b0;stroke-width:0.3;\" x=\"445.526378\" xlink:href=\"#m683761890e\" y=\"45.542665\"/>\n     <use style=\"fill:#4c72b0;stroke:#4c72b0;stroke-width:0.3;\" x=\"174.501216\" xlink:href=\"#m683761890e\" y=\"224.509473\"/>\n     <use style=\"fill:#4c72b0;stroke:#4c72b0;stroke-width:0.3;\" x=\"96.400993\" xlink:href=\"#m683761890e\" y=\"275.851417\"/>\n     <use style=\"fill:#4c72b0;stroke:#4c72b0;stroke-width:0.3;\" x=\"386.833458\" xlink:href=\"#m683761890e\" y=\"67.240197\"/>\n     <use style=\"fill:#4c72b0;stroke:#4c72b0;stroke-width:0.3;\" x=\"372.010369\" xlink:href=\"#m683761890e\" y=\"88.128434\"/>\n     <use style=\"fill:#4c72b0;stroke:#4c72b0;stroke-width:0.3;\" x=\"352.774978\" xlink:href=\"#m683761890e\" y=\"107.55692\"/>\n     <use style=\"fill:#4c72b0;stroke:#4c72b0;stroke-width:0.3;\" x=\"96.932402\" xlink:href=\"#m683761890e\" y=\"265.705764\"/>\n     <use style=\"fill:#4c72b0;stroke:#4c72b0;stroke-width:0.3;\" x=\"278.850447\" xlink:href=\"#m683761890e\" y=\"155.054418\"/>\n     <use style=\"fill:#4c72b0;stroke:#4c72b0;stroke-width:0.3;\" x=\"162.4099\" xlink:href=\"#m683761890e\" y=\"239.884946\"/>\n     <use style=\"fill:#4c72b0;stroke:#4c72b0;stroke-width:0.3;\" x=\"427.450926\" xlink:href=\"#m683761890e\" y=\"34.749905\"/>\n     <use style=\"fill:#4c72b0;stroke:#4c72b0;stroke-width:0.3;\" x=\"247.460376\" xlink:href=\"#m683761890e\" y=\"170.968317\"/>\n     <use style=\"fill:#4c72b0;stroke:#4c72b0;stroke-width:0.3;\" x=\"87.258889\" xlink:href=\"#m683761890e\" y=\"278.468494\"/>\n     <use style=\"fill:#4c72b0;stroke:#4c72b0;stroke-width:0.3;\" x=\"91.697394\" xlink:href=\"#m683761890e\" y=\"279.483446\"/>\n     <use style=\"fill:#4c72b0;stroke:#4c72b0;stroke-width:0.3;\" x=\"439.124745\" xlink:href=\"#m683761890e\" y=\"21.411924\"/>\n     <use style=\"fill:#4c72b0;stroke:#4c72b0;stroke-width:0.3;\" x=\"274.78185\" xlink:href=\"#m683761890e\" y=\"158.734867\"/>\n     <use style=\"fill:#4c72b0;stroke:#4c72b0;stroke-width:0.3;\" x=\"357.952812\" xlink:href=\"#m683761890e\" y=\"89.543961\"/>\n     <use style=\"fill:#4c72b0;stroke:#4c72b0;stroke-width:0.3;\" x=\"77.629038\" xlink:href=\"#m683761890e\" y=\"286.281281\"/>\n     <use style=\"fill:#4c72b0;stroke:#4c72b0;stroke-width:0.3;\" x=\"131.403513\" xlink:href=\"#m683761890e\" y=\"252.96453\"/>\n     <use style=\"fill:#4c72b0;stroke:#4c72b0;stroke-width:0.3;\" x=\"71.402472\" xlink:href=\"#m683761890e\" y=\"292.59\"/>\n     <use style=\"fill:#4c72b0;stroke:#4c72b0;stroke-width:0.3;\" x=\"268.159148\" xlink:href=\"#m683761890e\" y=\"160.061269\"/>\n     <use style=\"fill:#4c72b0;stroke:#4c72b0;stroke-width:0.3;\" x=\"328.245539\" xlink:href=\"#m683761890e\" y=\"120.384537\"/>\n     <use style=\"fill:#4c72b0;stroke:#4c72b0;stroke-width:0.3;\" x=\"365.891593\" xlink:href=\"#m683761890e\" y=\"81.896451\"/>\n     <use style=\"fill:#4c72b0;stroke:#4c72b0;stroke-width:0.3;\" x=\"456.493992\" xlink:href=\"#m683761890e\" y=\"31.16874\"/>\n     <use style=\"fill:#4c72b0;stroke:#4c72b0;stroke-width:0.3;\" x=\"464.055753\" xlink:href=\"#m683761890e\" y=\"26.658308\"/>\n     <use style=\"fill:#4c72b0;stroke:#4c72b0;stroke-width:0.3;\" x=\"197.422507\" xlink:href=\"#m683761890e\" y=\"206.621193\"/>\n     <use style=\"fill:#4c72b0;stroke:#4c72b0;stroke-width:0.3;\" x=\"433.967249\" xlink:href=\"#m683761890e\" y=\"46.790414\"/>\n     <use style=\"fill:#4c72b0;stroke:#4c72b0;stroke-width:0.3;\" x=\"404.079097\" xlink:href=\"#m683761890e\" y=\"62.948075\"/>\n     <use style=\"fill:#4c72b0;stroke:#4c72b0;stroke-width:0.3;\" x=\"466.462236\" xlink:href=\"#m683761890e\" y=\"20.79\"/>\n     <use style=\"fill:#4c72b0;stroke:#4c72b0;stroke-width:0.3;\" x=\"394.112743\" xlink:href=\"#m683761890e\" y=\"66.402505\"/>\n     <use style=\"fill:#4c72b0;stroke:#4c72b0;stroke-width:0.3;\" x=\"185.754623\" xlink:href=\"#m683761890e\" y=\"224.866449\"/>\n     <use style=\"fill:#4c72b0;stroke:#4c72b0;stroke-width:0.3;\" x=\"387.975763\" xlink:href=\"#m683761890e\" y=\"60.305243\"/>\n     <use style=\"fill:#4c72b0;stroke:#4c72b0;stroke-width:0.3;\" x=\"182.141013\" xlink:href=\"#m683761890e\" y=\"216.583439\"/>\n     <use style=\"fill:#4c72b0;stroke:#4c72b0;stroke-width:0.3;\" x=\"215.150666\" xlink:href=\"#m683761890e\" y=\"199.794941\"/>\n     <use style=\"fill:#4c72b0;stroke:#4c72b0;stroke-width:0.3;\" x=\"74.629611\" xlink:href=\"#m683761890e\" y=\"285.486401\"/>\n     <use style=\"fill:#4c72b0;stroke:#4c72b0;stroke-width:0.3;\" x=\"453.77669\" xlink:href=\"#m683761890e\" y=\"36.342838\"/>\n     <use style=\"fill:#4c72b0;stroke:#4c72b0;stroke-width:0.3;\" x=\"258.563711\" xlink:href=\"#m683761890e\" y=\"146.302061\"/>\n     <use style=\"fill:#4c72b0;stroke:#4c72b0;stroke-width:0.3;\" x=\"335.005619\" xlink:href=\"#m683761890e\" y=\"106.484128\"/>\n     <use style=\"fill:#4c72b0;stroke:#4c72b0;stroke-width:0.3;\" x=\"362.67558\" xlink:href=\"#m683761890e\" y=\"101.840351\"/>\n     <use style=\"fill:#4c72b0;stroke:#4c72b0;stroke-width:0.3;\" x=\"147.7683\" xlink:href=\"#m683761890e\" y=\"240.93032\"/>\n     <use style=\"fill:#4c72b0;stroke:#4c72b0;stroke-width:0.3;\" x=\"215.983309\" xlink:href=\"#m683761890e\" y=\"192.900275\"/>\n     <use style=\"fill:#4c72b0;stroke:#4c72b0;stroke-width:0.3;\" x=\"403.056466\" xlink:href=\"#m683761890e\" y=\"69.437149\"/>\n     <use style=\"fill:#4c72b0;stroke:#4c72b0;stroke-width:0.3;\" x=\"370.849899\" xlink:href=\"#m683761890e\" y=\"96.751006\"/>\n     <use style=\"fill:#4c72b0;stroke:#4c72b0;stroke-width:0.3;\" x=\"311.277472\" xlink:href=\"#m683761890e\" y=\"137.495744\"/>\n     <use style=\"fill:#4c72b0;stroke:#4c72b0;stroke-width:0.3;\" x=\"400.283578\" xlink:href=\"#m683761890e\" y=\"69.397662\"/>\n     <use style=\"fill:#4c72b0;stroke:#4c72b0;stroke-width:0.3;\" x=\"218.812249\" xlink:href=\"#m683761890e\" y=\"208.778719\"/>\n     <use style=\"fill:#4c72b0;stroke:#4c72b0;stroke-width:0.3;\" x=\"115.776498\" xlink:href=\"#m683761890e\" y=\"256.277084\"/>\n     <use style=\"fill:#4c72b0;stroke:#4c72b0;stroke-width:0.3;\" x=\"106.275077\" xlink:href=\"#m683761890e\" y=\"275.752375\"/>\n     <use style=\"fill:#4c72b0;stroke:#4c72b0;stroke-width:0.3;\" x=\"83.929146\" xlink:href=\"#m683761890e\" y=\"286.152508\"/>\n     <use style=\"fill:#4c72b0;stroke:#4c72b0;stroke-width:0.3;\" x=\"117.09278\" xlink:href=\"#m683761890e\" y=\"255.281728\"/>\n     <use style=\"fill:#4c72b0;stroke:#4c72b0;stroke-width:0.3;\" x=\"399.651005\" xlink:href=\"#m683761890e\" y=\"66.432454\"/>\n     <use style=\"fill:#4c72b0;stroke:#4c72b0;stroke-width:0.3;\" x=\"477.220653\" xlink:href=\"#m683761890e\" y=\"20.844935\"/>\n     <use style=\"fill:#4c72b0;stroke:#4c72b0;stroke-width:0.3;\" x=\"133.86063\" xlink:href=\"#m683761890e\" y=\"255.043203\"/>\n     <use style=\"fill:#4c72b0;stroke:#4c72b0;stroke-width:0.3;\" x=\"330.710565\" xlink:href=\"#m683761890e\" y=\"113.839053\"/>\n     <use style=\"fill:#4c72b0;stroke:#4c72b0;stroke-width:0.3;\" x=\"391.808006\" xlink:href=\"#m683761890e\" y=\"64.244531\"/>\n     <use style=\"fill:#4c72b0;stroke:#4c72b0;stroke-width:0.3;\" x=\"138.885252\" xlink:href=\"#m683761890e\" y=\"252.67147\"/>\n     <use style=\"fill:#4c72b0;stroke:#4c72b0;stroke-width:0.3;\" x=\"215.931484\" xlink:href=\"#m683761890e\" y=\"201.318442\"/>\n     <use style=\"fill:#4c72b0;stroke:#4c72b0;stroke-width:0.3;\" x=\"140.928474\" xlink:href=\"#m683761890e\" y=\"248.595425\"/>\n     <use style=\"fill:#4c72b0;stroke:#4c72b0;stroke-width:0.3;\" x=\"204.966939\" xlink:href=\"#m683761890e\" y=\"208.714193\"/>\n     <use style=\"fill:#4c72b0;stroke:#4c72b0;stroke-width:0.3;\" x=\"120.242469\" xlink:href=\"#m683761890e\" y=\"255.485383\"/>\n     <use style=\"fill:#4c72b0;stroke:#4c72b0;stroke-width:0.3;\" x=\"89.895732\" xlink:href=\"#m683761890e\" y=\"283.709241\"/>\n     <use style=\"fill:#4c72b0;stroke:#4c72b0;stroke-width:0.3;\" x=\"465.398333\" xlink:href=\"#m683761890e\" y=\"27.595341\"/>\n     <use style=\"fill:#4c72b0;stroke:#4c72b0;stroke-width:0.3;\" x=\"421.593362\" xlink:href=\"#m683761890e\" y=\"49.851287\"/>\n     <use style=\"fill:#4c72b0;stroke:#4c72b0;stroke-width:0.3;\" x=\"134.607646\" xlink:href=\"#m683761890e\" y=\"231.073156\"/>\n     <use style=\"fill:#4c72b0;stroke:#4c72b0;stroke-width:0.3;\" x=\"277.14775\" xlink:href=\"#m683761890e\" y=\"157.929275\"/>\n     <use style=\"fill:#4c72b0;stroke:#4c72b0;stroke-width:0.3;\" x=\"426.89431\" xlink:href=\"#m683761890e\" y=\"39.515551\"/>\n     <use style=\"fill:#4c72b0;stroke:#4c72b0;stroke-width:0.3;\" x=\"424.41443\" xlink:href=\"#m683761890e\" y=\"56.196757\"/>\n     <use style=\"fill:#4c72b0;stroke:#4c72b0;stroke-width:0.3;\" x=\"157.630219\" xlink:href=\"#m683761890e\" y=\"225.726346\"/>\n     <use style=\"fill:#4c72b0;stroke:#4c72b0;stroke-width:0.3;\" x=\"272.079403\" xlink:href=\"#m683761890e\" y=\"156.697276\"/>\n     <use style=\"fill:#4c72b0;stroke:#4c72b0;stroke-width:0.3;\" x=\"198.264664\" xlink:href=\"#m683761890e\" y=\"207.412358\"/>\n     <use style=\"fill:#4c72b0;stroke:#4c72b0;stroke-width:0.3;\" x=\"161.941821\" xlink:href=\"#m683761890e\" y=\"222.557768\"/>\n     <use style=\"fill:#4c72b0;stroke:#4c72b0;stroke-width:0.3;\" x=\"352.295814\" xlink:href=\"#m683761890e\" y=\"99.615381\"/>\n     <use style=\"fill:#4c72b0;stroke:#4c72b0;stroke-width:0.3;\" x=\"360.106848\" xlink:href=\"#m683761890e\" y=\"83.06916\"/>\n     <use style=\"fill:#4c72b0;stroke:#4c72b0;stroke-width:0.3;\" x=\"173.115591\" xlink:href=\"#m683761890e\" y=\"222.732823\"/>\n     <use style=\"fill:#4c72b0;stroke:#4c72b0;stroke-width:0.3;\" x=\"277.60098\" xlink:href=\"#m683761890e\" y=\"152.536133\"/>\n     <use style=\"fill:#4c72b0;stroke:#4c72b0;stroke-width:0.3;\" x=\"263.520911\" xlink:href=\"#m683761890e\" y=\"156.937524\"/>\n     <use style=\"fill:#4c72b0;stroke:#4c72b0;stroke-width:0.3;\" x=\"80.559474\" xlink:href=\"#m683761890e\" y=\"286.299417\"/>\n     <use style=\"fill:#4c72b0;stroke:#4c72b0;stroke-width:0.3;\" x=\"89.687549\" xlink:href=\"#m683761890e\" y=\"288.287587\"/>\n     <use style=\"fill:#4c72b0;stroke:#4c72b0;stroke-width:0.3;\" x=\"146.661164\" xlink:href=\"#m683761890e\" y=\"245.334539\"/>\n     <use style=\"fill:#4c72b0;stroke:#4c72b0;stroke-width:0.3;\" x=\"155.752462\" xlink:href=\"#m683761890e\" y=\"225.096896\"/>\n     <use style=\"fill:#4c72b0;stroke:#4c72b0;stroke-width:0.3;\" x=\"91.124714\" xlink:href=\"#m683761890e\" y=\"272.562311\"/>\n     <use style=\"fill:#4c72b0;stroke:#4c72b0;stroke-width:0.3;\" x=\"92.512362\" xlink:href=\"#m683761890e\" y=\"276.844676\"/>\n    </g>\n   </g>\n   <g id=\"line2d_33\">\n    <path clip-path=\"url(#p7bf9aca2f5)\" d=\"M 71.894833 292.59 \nL 466.262271 20.79 \n\" style=\"fill:none;stroke:#ff0000;stroke-linecap:round;stroke-width:1.75;\"/>\n   </g>\n   <g id=\"patch_3\">\n    <path d=\"M 51.111563 306.18 \nL 51.111563 7.2 \n\" style=\"fill:none;\"/>\n   </g>\n   <g id=\"patch_4\">\n    <path d=\"M 497.511562 306.18 \nL 497.511562 7.2 \n\" style=\"fill:none;\"/>\n   </g>\n   <g id=\"patch_5\">\n    <path d=\"M 51.111563 306.18 \nL 497.511562 306.18 \n\" style=\"fill:none;\"/>\n   </g>\n   <g id=\"patch_6\">\n    <path d=\"M 51.111563 7.2 \nL 497.511562 7.2 \n\" style=\"fill:none;\"/>\n   </g>\n  </g>\n </g>\n <defs>\n  <clipPath id=\"p7bf9aca2f5\">\n   <rect height=\"298.98\" width=\"446.4\" x=\"51.111563\" y=\"7.2\"/>\n  </clipPath>\n </defs>\n</svg>\n"
     },
     "metadata": {}
    },
    {
     "output_type": "stream",
     "name": "stdout",
     "text": "Mean Squared Error:  0.2644818958210739\nRoot Mean Squared Error:  0.5142780335782133\nMean Absolute Error:  0.4105115936949399\nR2:  0.9930240138780045\nAdj R2:  0.9929528303461475\nStandard Error of Estimate:  0.5194992642263394\n"
    }
   ],
   "source": [
    "_ = met.model_score(y,preds,X,verbose=1) \n",
    "# The \"_ =\" is just telling Python to call whatever comes back from that \n",
    "# function '_', which is the convention for, \"I don't care about what comes back\""
   ]
  },
  {
   "cell_type": "code",
   "execution_count": 9,
   "metadata": {
    "ExecuteTime": {
     "end_time": "2018-09-11T19:48:12.608847Z",
     "start_time": "2018-09-11T19:48:12.575466Z"
    }
   },
   "outputs": [
    {
     "output_type": "execute_result",
     "data": {
      "text/plain": "array([[0.]])"
     },
     "metadata": {},
     "execution_count": 9
    }
   ],
   "source": [
    "met.p_vals_per_coef(preds, y, lr.coef_, X)"
   ]
  },
  {
   "cell_type": "markdown",
   "metadata": {},
   "source": [
    "Let's look at the code for regression metrics. \n",
    "\n",
    "> Note: Jupyter has a magic command if you type `%load filename` it will put the text/code from `filename` into the cell for you\n",
    "\n",
    "**Note, don't run the cell below, it will work but breaks a demo later on**"
   ]
  },
  {
   "cell_type": "code",
   "execution_count": null,
   "metadata": {
    "ExecuteTime": {
     "end_time": "2018-07-18T15:22:44.446043Z",
     "start_time": "2018-07-18T15:22:44.301367Z"
    }
   },
   "outputs": [],
   "source": [
    "# %load regression_metrics.py\n",
    "from scipy import stats\n",
    "import numpy as np\n",
    "import matplotlib.pyplot as plt\n",
    "\n",
    "def mean_squared_error(true, pred):\n",
    "    return np.mean((pred - true)**2)\n",
    "\n",
    "def root_mean_square_error(true,pred):\n",
    "    return np.sqrt(mean_squared_error(true,pred))\n",
    "\n",
    "def mean_absolute_error(true,pred):\n",
    "    return np.mean(np.abs(pred - true))\n",
    "\n",
    "def sum_squared_error(true,pred):\n",
    "    return np.sum((pred - true)**2)\n",
    "\n",
    "def r2_score(true,pred):\n",
    "    y_bar = np.mean(true)\n",
    "    SSE = np.sum((pred - true)**2)\n",
    "    SST = np.sum((true - y_bar)**2)\n",
    "    return 1.-(SSE/SST)\n",
    "\n",
    "def adj_r2(rsquare, num_data, num_features):\n",
    "    temp = (1-rsquare)*(num_data-1)\n",
    "    temp = temp/(num_data-num_features-1)\n",
    "    temp = 1 - temp\n",
    "    return temp\n",
    "\n",
    "def standard_error_estimate(true,pred,num_data):\n",
    "    SSE = np.sum((pred - true)**2)\n",
    "    return np.sqrt(SSE/(num_data-2))\n",
    "\n",
    "def plot_model_results(X,y,ypred):\n",
    "    plt.style.use('seaborn')\n",
    "    plt.scatter(ypred,y,s=55)\n",
    "    plt.plot([min(y),max(y)],[min(y),max(y)],'r-')\n",
    "    plt.xlabel('Predicted')\n",
    "    plt.ylabel('True');\n",
    "    plt.show()\n",
    "    \n",
    "def p_vals_per_coef(pred, true, coefs, X):\n",
    "    sse =  sum_squared_error(pred,true)/ float(X.shape[0] - X.shape[1])\n",
    "    standard_error = np.array([np.sqrt(np.diagonal(sse * np.linalg.inv(np.dot(X.T, X))))])\n",
    "    t_stats = coefs / standard_error\n",
    "    p_vals = 2 * (1 - stats.t.cdf(np.abs(t_stats), true.shape[0] - X.shape[1]))\n",
    "    return p_vals\n",
    "\n",
    "def model_score(true, pred, X, verbose=0):\n",
    "    r2 = r2_score(true,pred)\n",
    "    adjr2 = adj_r2(r2,X.shape[0],X.shape[1])\n",
    "    if verbose:\n",
    "        plot_model_results(X,true,pred)\n",
    "        print(\"Mean Squared Error: \", mean_squared_error(true,pred))\n",
    "        print(\"Root Mean Squared Error: \", np.sqrt(mean_squared_error(true,pred)))\n",
    "        print(\"Mean Absolute Error: \",mean_absolute_error(true,pred))\n",
    "        print(\"R2: \", r2)\n",
    "        print(\"Adj R2: \", adjr2)\n",
    "        print(\"Standard Error of Estimate: \", standard_error_estimate(true,pred,X.shape[0]))\n",
    "    return r2, adjr2\n",
    "\n",
    "\n",
    "if __name__ == '__main__':\n",
    "\n",
    "    from sklearn.linear_model import LinearRegression\n",
    "\n",
    "    X = np.random.uniform(-10,10,100)\n",
    "    y = X + np.random.normal(0,0.5, 100) + 9\n",
    "    X = X.reshape(-1,1)\n",
    "\n",
    "    lr = LinearRegression()\n",
    "    lr.fit(X, y)\n",
    "    preds = lr.predict(X)\n",
    "\n",
    "    _ = model_score(y, preds, X, verbose = 1)\n"
   ]
  },
  {
   "cell_type": "markdown",
   "metadata": {},
   "source": [
    "When I did the import... none of the stuff at the bottom ran, despite not being wrapped in a function name. Why? It turns out that when you run a python program, there's a hidden variable called `__name__`. If I run a program directly, it's `__name__` is set to `__main__`. If I import a file, it's name is not `__main__`. So by tucking that code into the `if __name__ == '__main__'` block, I made sure that code only runs if someone called, `python regression_metrics.py`. "
   ]
  },
  {
   "cell_type": "markdown",
   "metadata": {},
   "source": [
    "### What if I don't want to use namespaces (the whole `met.function_name` thing)"
   ]
  },
  {
   "cell_type": "markdown",
   "metadata": {},
   "source": [
    "If I don't want my functions to live underneath the name of who they belong to, then I can ask to bring them in outside of the name space by explicity getting them \"from\" the file where they live."
   ]
  },
  {
   "cell_type": "code",
   "execution_count": 10,
   "metadata": {
    "ExecuteTime": {
     "end_time": "2018-09-11T19:48:36.323064Z",
     "start_time": "2018-09-11T19:48:36.312071Z"
    }
   },
   "outputs": [],
   "source": [
    "from regression_metrics import model_score"
   ]
  },
  {
   "cell_type": "code",
   "execution_count": 11,
   "metadata": {
    "ExecuteTime": {
     "end_time": "2018-09-11T19:48:37.210806Z",
     "start_time": "2018-09-11T19:48:36.873663Z"
    }
   },
   "outputs": [
    {
     "output_type": "display_data",
     "data": {
      "image/png": "[encoded data removed]",
      "text/plain": "<Figure size 576x396 with 1 Axes>",
      "image/svg+xml": "<?xml version=\"1.0\" encoding=\"utf-8\" standalone=\"no\"?>\n<!DOCTYPE svg PUBLIC \"-//W3C//DTD SVG 1.1//EN\"\n  \"http://www.w3.org/Graphics/SVG/1.1/DTD/svg11.dtd\">\n<!-- Created with matplotlib (https://matplotlib.org/) -->\n<svg height=\"344.704062pt\" version=\"1.1\" viewBox=\"0 0 504.711562 344.704062\" width=\"504.711562pt\" xmlns=\"http://www.w3.org/2000/svg\" xmlns:xlink=\"http://www.w3.org/1999/xlink\">\n <defs>\n  <style type=\"text/css\">\n*{stroke-linecap:butt;stroke-linejoin:round;}\n  </style>\n </defs>\n <g id=\"figure_1\">\n  <g id=\"patch_1\">\n   <path d=\"M 0 344.704062 \nL 504.711562 344.704062 \nL 504.711562 0 \nL 0 0 \nz\n\" style=\"fill:#ffffff;\"/>\n  </g>\n  <g id=\"axes_1\">\n   <g id=\"patch_2\">\n    <path d=\"M 51.111563 306.18 \nL 497.511562 306.18 \nL 497.511562 7.2 \nL 51.111563 7.2 \nz\n\" style=\"fill:#eaeaf2;\"/>\n   </g>\n   <g id=\"matplotlib.axis_1\">\n    <g id=\"xtick_1\">\n     <g id=\"line2d_1\">\n      <path clip-path=\"url(#p6d4f8de7dd)\" d=\"M 87.825885 306.18 \nL 87.825885 7.2 \n\" style=\"fill:none;stroke:#ffffff;stroke-linecap:round;\"/>\n     </g>\n     <g id=\"line2d_2\"/>\n     <g id=\"text_1\">\n      <!-- 0.0 -->\n      <defs>\n       <path d=\"M 31.78125 66.40625 \nQ 24.171875 66.40625 20.328125 58.90625 \nQ 16.5 51.421875 16.5 36.375 \nQ 16.5 21.390625 20.328125 13.890625 \nQ 24.171875 6.390625 31.78125 6.390625 \nQ 39.453125 6.390625 43.28125 13.890625 \nQ 47.125 21.390625 47.125 36.375 \nQ 47.125 51.421875 43.28125 58.90625 \nQ 39.453125 66.40625 31.78125 66.40625 \nz\nM 31.78125 74.21875 \nQ 44.046875 74.21875 50.515625 64.515625 \nQ 56.984375 54.828125 56.984375 36.375 \nQ 56.984375 17.96875 50.515625 8.265625 \nQ 44.046875 -1.421875 31.78125 -1.421875 \nQ 19.53125 -1.421875 13.0625 8.265625 \nQ 6.59375 17.96875 6.59375 36.375 \nQ 6.59375 54.828125 13.0625 64.515625 \nQ 19.53125 74.21875 31.78125 74.21875 \nz\n\" id=\"DejaVuSans-48\"/>\n       <path d=\"M 10.6875 12.40625 \nL 21 12.40625 \nL 21 0 \nL 10.6875 0 \nz\n\" id=\"DejaVuSans-46\"/>\n      </defs>\n      <g style=\"fill:#262626;\" transform=\"translate(79.874323 320.778437)scale(0.1 -0.1)\">\n       <use xlink:href=\"#DejaVuSans-48\"/>\n       <use x=\"63.623047\" xlink:href=\"#DejaVuSans-46\"/>\n       <use x=\"95.410156\" xlink:href=\"#DejaVuSans-48\"/>\n      </g>\n     </g>\n    </g>\n    <g id=\"xtick_2\">\n     <g id=\"line2d_3\">\n      <path clip-path=\"url(#p6d4f8de7dd)\" d=\"M 139.137323 306.18 \nL 139.137323 7.2 \n\" style=\"fill:none;stroke:#ffffff;stroke-linecap:round;\"/>\n     </g>\n     <g id=\"line2d_4\"/>\n     <g id=\"text_2\">\n      <!-- 2.5 -->\n      <defs>\n       <path d=\"M 19.1875 8.296875 \nL 53.609375 8.296875 \nL 53.609375 0 \nL 7.328125 0 \nL 7.328125 8.296875 \nQ 12.9375 14.109375 22.625 23.890625 \nQ 32.328125 33.6875 34.8125 36.53125 \nQ 39.546875 41.84375 41.421875 45.53125 \nQ 43.3125 49.21875 43.3125 52.78125 \nQ 43.3125 58.59375 39.234375 62.25 \nQ 35.15625 65.921875 28.609375 65.921875 \nQ 23.96875 65.921875 18.8125 64.3125 \nQ 13.671875 62.703125 7.8125 59.421875 \nL 7.8125 69.390625 \nQ 13.765625 71.78125 18.9375 73 \nQ 24.125 74.21875 28.421875 74.21875 \nQ 39.75 74.21875 46.484375 68.546875 \nQ 53.21875 62.890625 53.21875 53.421875 \nQ 53.21875 48.921875 51.53125 44.890625 \nQ 49.859375 40.875 45.40625 35.40625 \nQ 44.1875 33.984375 37.640625 27.21875 \nQ 31.109375 20.453125 19.1875 8.296875 \nz\n\" id=\"DejaVuSans-50\"/>\n       <path d=\"M 10.796875 72.90625 \nL 49.515625 72.90625 \nL 49.515625 64.59375 \nL 19.828125 64.59375 \nL 19.828125 46.734375 \nQ 21.96875 47.46875 24.109375 47.828125 \nQ 26.265625 48.1875 28.421875 48.1875 \nQ 40.625 48.1875 47.75 41.5 \nQ 54.890625 34.8125 54.890625 23.390625 \nQ 54.890625 11.625 47.5625 5.09375 \nQ 40.234375 -1.421875 26.90625 -1.421875 \nQ 22.3125 -1.421875 17.546875 -0.640625 \nQ 12.796875 0.140625 7.71875 1.703125 \nL 7.71875 11.625 \nQ 12.109375 9.234375 16.796875 8.0625 \nQ 21.484375 6.890625 26.703125 6.890625 \nQ 35.15625 6.890625 40.078125 11.328125 \nQ 45.015625 15.765625 45.015625 23.390625 \nQ 45.015625 31 40.078125 35.4375 \nQ 35.15625 39.890625 26.703125 39.890625 \nQ 22.75 39.890625 18.8125 39.015625 \nQ 14.890625 38.140625 10.796875 36.28125 \nz\n\" id=\"DejaVuSans-53\"/>\n      </defs>\n      <g style=\"fill:#262626;\" transform=\"translate(131.185761 320.778437)scale(0.1 -0.1)\">\n       <use xlink:href=\"#DejaVuSans-50\"/>\n       <use x=\"63.623047\" xlink:href=\"#DejaVuSans-46\"/>\n       <use x=\"95.410156\" xlink:href=\"#DejaVuSans-53\"/>\n      </g>\n     </g>\n    </g>\n    <g id=\"xtick_3\">\n     <g id=\"line2d_5\">\n      <path clip-path=\"url(#p6d4f8de7dd)\" d=\"M 190.448761 306.18 \nL 190.448761 7.2 \n\" style=\"fill:none;stroke:#ffffff;stroke-linecap:round;\"/>\n     </g>\n     <g id=\"line2d_6\"/>\n     <g id=\"text_3\">\n      <!-- 5.0 -->\n      <g style=\"fill:#262626;\" transform=\"translate(182.497198 320.778437)scale(0.1 -0.1)\">\n       <use xlink:href=\"#DejaVuSans-53\"/>\n       <use x=\"63.623047\" xlink:href=\"#DejaVuSans-46\"/>\n       <use x=\"95.410156\" xlink:href=\"#DejaVuSans-48\"/>\n      </g>\n     </g>\n    </g>\n    <g id=\"xtick_4\">\n     <g id=\"line2d_7\">\n      <path clip-path=\"url(#p6d4f8de7dd)\" d=\"M 241.760199 306.18 \nL 241.760199 7.2 \n\" style=\"fill:none;stroke:#ffffff;stroke-linecap:round;\"/>\n     </g>\n     <g id=\"line2d_8\"/>\n     <g id=\"text_4\">\n      <!-- 7.5 -->\n      <defs>\n       <path d=\"M 8.203125 72.90625 \nL 55.078125 72.90625 \nL 55.078125 68.703125 \nL 28.609375 0 \nL 18.3125 0 \nL 43.21875 64.59375 \nL 8.203125 64.59375 \nz\n\" id=\"DejaVuSans-55\"/>\n      </defs>\n      <g style=\"fill:#262626;\" transform=\"translate(233.808636 320.778437)scale(0.1 -0.1)\">\n       <use xlink:href=\"#DejaVuSans-55\"/>\n       <use x=\"63.623047\" xlink:href=\"#DejaVuSans-46\"/>\n       <use x=\"95.410156\" xlink:href=\"#DejaVuSans-53\"/>\n      </g>\n     </g>\n    </g>\n    <g id=\"xtick_5\">\n     <g id=\"line2d_9\">\n      <path clip-path=\"url(#p6d4f8de7dd)\" d=\"M 293.071636 306.18 \nL 293.071636 7.2 \n\" style=\"fill:none;stroke:#ffffff;stroke-linecap:round;\"/>\n     </g>\n     <g id=\"line2d_10\"/>\n     <g id=\"text_5\">\n      <!-- 10.0 -->\n      <defs>\n       <path d=\"M 12.40625 8.296875 \nL 28.515625 8.296875 \nL 28.515625 63.921875 \nL 10.984375 60.40625 \nL 10.984375 69.390625 \nL 28.421875 72.90625 \nL 38.28125 72.90625 \nL 38.28125 8.296875 \nL 54.390625 8.296875 \nL 54.390625 0 \nL 12.40625 0 \nz\n\" id=\"DejaVuSans-49\"/>\n      </defs>\n      <g style=\"fill:#262626;\" transform=\"translate(281.938824 320.778437)scale(0.1 -0.1)\">\n       <use xlink:href=\"#DejaVuSans-49\"/>\n       <use x=\"63.623047\" xlink:href=\"#DejaVuSans-48\"/>\n       <use x=\"127.246094\" xlink:href=\"#DejaVuSans-46\"/>\n       <use x=\"159.033203\" xlink:href=\"#DejaVuSans-48\"/>\n      </g>\n     </g>\n    </g>\n    <g id=\"xtick_6\">\n     <g id=\"line2d_11\">\n      <path clip-path=\"url(#p6d4f8de7dd)\" d=\"M 344.383074 306.18 \nL 344.383074 7.2 \n\" style=\"fill:none;stroke:#ffffff;stroke-linecap:round;\"/>\n     </g>\n     <g id=\"line2d_12\"/>\n     <g id=\"text_6\">\n      <!-- 12.5 -->\n      <g style=\"fill:#262626;\" transform=\"translate(333.250262 320.778437)scale(0.1 -0.1)\">\n       <use xlink:href=\"#DejaVuSans-49\"/>\n       <use x=\"63.623047\" xlink:href=\"#DejaVuSans-50\"/>\n       <use x=\"127.246094\" xlink:href=\"#DejaVuSans-46\"/>\n       <use x=\"159.033203\" xlink:href=\"#DejaVuSans-53\"/>\n      </g>\n     </g>\n    </g>\n    <g id=\"xtick_7\">\n     <g id=\"line2d_13\">\n      <path clip-path=\"url(#p6d4f8de7dd)\" d=\"M 395.694512 306.18 \nL 395.694512 7.2 \n\" style=\"fill:none;stroke:#ffffff;stroke-linecap:round;\"/>\n     </g>\n     <g id=\"line2d_14\"/>\n     <g id=\"text_7\">\n      <!-- 15.0 -->\n      <g style=\"fill:#262626;\" transform=\"translate(384.561699 320.778437)scale(0.1 -0.1)\">\n       <use xlink:href=\"#DejaVuSans-49\"/>\n       <use x=\"63.623047\" xlink:href=\"#DejaVuSans-53\"/>\n       <use x=\"127.246094\" xlink:href=\"#DejaVuSans-46\"/>\n       <use x=\"159.033203\" xlink:href=\"#DejaVuSans-48\"/>\n      </g>\n     </g>\n    </g>\n    <g id=\"xtick_8\">\n     <g id=\"line2d_15\">\n      <path clip-path=\"url(#p6d4f8de7dd)\" d=\"M 447.00595 306.18 \nL 447.00595 7.2 \n\" style=\"fill:none;stroke:#ffffff;stroke-linecap:round;\"/>\n     </g>\n     <g id=\"line2d_16\"/>\n     <g id=\"text_8\">\n      <!-- 17.5 -->\n      <g style=\"fill:#262626;\" transform=\"translate(435.873137 320.778437)scale(0.1 -0.1)\">\n       <use xlink:href=\"#DejaVuSans-49\"/>\n       <use x=\"63.623047\" xlink:href=\"#DejaVuSans-55\"/>\n       <use x=\"127.246094\" xlink:href=\"#DejaVuSans-46\"/>\n       <use x=\"159.033203\" xlink:href=\"#DejaVuSans-53\"/>\n      </g>\n     </g>\n    </g>\n    <g id=\"text_9\">\n     <!-- Predicted -->\n     <defs>\n      <path d=\"M 19.671875 64.796875 \nL 19.671875 37.40625 \nL 32.078125 37.40625 \nQ 38.96875 37.40625 42.71875 40.96875 \nQ 46.484375 44.53125 46.484375 51.125 \nQ 46.484375 57.671875 42.71875 61.234375 \nQ 38.96875 64.796875 32.078125 64.796875 \nz\nM 9.8125 72.90625 \nL 32.078125 72.90625 \nQ 44.34375 72.90625 50.609375 67.359375 \nQ 56.890625 61.8125 56.890625 51.125 \nQ 56.890625 40.328125 50.609375 34.8125 \nQ 44.34375 29.296875 32.078125 29.296875 \nL 19.671875 29.296875 \nL 19.671875 0 \nL 9.8125 0 \nz\n\" id=\"DejaVuSans-80\"/>\n      <path d=\"M 41.109375 46.296875 \nQ 39.59375 47.171875 37.8125 47.578125 \nQ 36.03125 48 33.890625 48 \nQ 26.265625 48 22.1875 43.046875 \nQ 18.109375 38.09375 18.109375 28.8125 \nL 18.109375 0 \nL 9.078125 0 \nL 9.078125 54.6875 \nL 18.109375 54.6875 \nL 18.109375 46.1875 \nQ 20.953125 51.171875 25.484375 53.578125 \nQ 30.03125 56 36.53125 56 \nQ 37.453125 56 38.578125 55.875 \nQ 39.703125 55.765625 41.0625 55.515625 \nz\n\" id=\"DejaVuSans-114\"/>\n      <path d=\"M 56.203125 29.59375 \nL 56.203125 25.203125 \nL 14.890625 25.203125 \nQ 15.484375 15.921875 20.484375 11.0625 \nQ 25.484375 6.203125 34.421875 6.203125 \nQ 39.59375 6.203125 44.453125 7.46875 \nQ 49.3125 8.734375 54.109375 11.28125 \nL 54.109375 2.78125 \nQ 49.265625 0.734375 44.1875 -0.34375 \nQ 39.109375 -1.421875 33.890625 -1.421875 \nQ 20.796875 -1.421875 13.15625 6.1875 \nQ 5.515625 13.8125 5.515625 26.8125 \nQ 5.515625 40.234375 12.765625 48.109375 \nQ 20.015625 56 32.328125 56 \nQ 43.359375 56 49.78125 48.890625 \nQ 56.203125 41.796875 56.203125 29.59375 \nz\nM 47.21875 32.234375 \nQ 47.125 39.59375 43.09375 43.984375 \nQ 39.0625 48.390625 32.421875 48.390625 \nQ 24.90625 48.390625 20.390625 44.140625 \nQ 15.875 39.890625 15.1875 32.171875 \nz\n\" id=\"DejaVuSans-101\"/>\n      <path d=\"M 45.40625 46.390625 \nL 45.40625 75.984375 \nL 54.390625 75.984375 \nL 54.390625 0 \nL 45.40625 0 \nL 45.40625 8.203125 \nQ 42.578125 3.328125 38.25 0.953125 \nQ 33.9375 -1.421875 27.875 -1.421875 \nQ 17.96875 -1.421875 11.734375 6.484375 \nQ 5.515625 14.40625 5.515625 27.296875 \nQ 5.515625 40.1875 11.734375 48.09375 \nQ 17.96875 56 27.875 56 \nQ 33.9375 56 38.25 53.625 \nQ 42.578125 51.265625 45.40625 46.390625 \nz\nM 14.796875 27.296875 \nQ 14.796875 17.390625 18.875 11.75 \nQ 22.953125 6.109375 30.078125 6.109375 \nQ 37.203125 6.109375 41.296875 11.75 \nQ 45.40625 17.390625 45.40625 27.296875 \nQ 45.40625 37.203125 41.296875 42.84375 \nQ 37.203125 48.484375 30.078125 48.484375 \nQ 22.953125 48.484375 18.875 42.84375 \nQ 14.796875 37.203125 14.796875 27.296875 \nz\n\" id=\"DejaVuSans-100\"/>\n      <path d=\"M 9.421875 54.6875 \nL 18.40625 54.6875 \nL 18.40625 0 \nL 9.421875 0 \nz\nM 9.421875 75.984375 \nL 18.40625 75.984375 \nL 18.40625 64.59375 \nL 9.421875 64.59375 \nz\n\" id=\"DejaVuSans-105\"/>\n      <path d=\"M 48.78125 52.59375 \nL 48.78125 44.1875 \nQ 44.96875 46.296875 41.140625 47.34375 \nQ 37.3125 48.390625 33.40625 48.390625 \nQ 24.65625 48.390625 19.8125 42.84375 \nQ 14.984375 37.3125 14.984375 27.296875 \nQ 14.984375 17.28125 19.8125 11.734375 \nQ 24.65625 6.203125 33.40625 6.203125 \nQ 37.3125 6.203125 41.140625 7.25 \nQ 44.96875 8.296875 48.78125 10.40625 \nL 48.78125 2.09375 \nQ 45.015625 0.34375 40.984375 -0.53125 \nQ 36.96875 -1.421875 32.421875 -1.421875 \nQ 20.0625 -1.421875 12.78125 6.34375 \nQ 5.515625 14.109375 5.515625 27.296875 \nQ 5.515625 40.671875 12.859375 48.328125 \nQ 20.21875 56 33.015625 56 \nQ 37.15625 56 41.109375 55.140625 \nQ 45.0625 54.296875 48.78125 52.59375 \nz\n\" id=\"DejaVuSans-99\"/>\n      <path d=\"M 18.3125 70.21875 \nL 18.3125 54.6875 \nL 36.8125 54.6875 \nL 36.8125 47.703125 \nL 18.3125 47.703125 \nL 18.3125 18.015625 \nQ 18.3125 11.328125 20.140625 9.421875 \nQ 21.96875 7.515625 27.59375 7.515625 \nL 36.8125 7.515625 \nL 36.8125 0 \nL 27.59375 0 \nQ 17.1875 0 13.234375 3.875 \nQ 9.28125 7.765625 9.28125 18.015625 \nL 9.28125 47.703125 \nL 2.6875 47.703125 \nL 2.6875 54.6875 \nL 9.28125 54.6875 \nL 9.28125 70.21875 \nz\n\" id=\"DejaVuSans-116\"/>\n     </defs>\n     <g style=\"fill:#262626;\" transform=\"translate(248.494219 335.216406)scale(0.11 -0.11)\">\n      <use xlink:href=\"#DejaVuSans-80\"/>\n      <use x=\"58.552734\" xlink:href=\"#DejaVuSans-114\"/>\n      <use x=\"97.416016\" xlink:href=\"#DejaVuSans-101\"/>\n      <use x=\"158.939453\" xlink:href=\"#DejaVuSans-100\"/>\n      <use x=\"222.416016\" xlink:href=\"#DejaVuSans-105\"/>\n      <use x=\"250.199219\" xlink:href=\"#DejaVuSans-99\"/>\n      <use x=\"305.179688\" xlink:href=\"#DejaVuSans-116\"/>\n      <use x=\"344.388672\" xlink:href=\"#DejaVuSans-101\"/>\n      <use x=\"405.912109\" xlink:href=\"#DejaVuSans-100\"/>\n     </g>\n    </g>\n   </g>\n   <g id=\"matplotlib.axis_2\">\n    <g id=\"ytick_1\">\n     <g id=\"line2d_17\">\n      <path clip-path=\"url(#p6d4f8de7dd)\" d=\"M 51.111563 281.61024 \nL 497.511562 281.61024 \n\" style=\"fill:none;stroke:#ffffff;stroke-linecap:round;\"/>\n     </g>\n     <g id=\"line2d_18\"/>\n     <g id=\"text_10\">\n      <!-- 0.0 -->\n      <g style=\"fill:#262626;\" transform=\"translate(28.208438 285.409459)scale(0.1 -0.1)\">\n       <use xlink:href=\"#DejaVuSans-48\"/>\n       <use x=\"63.623047\" xlink:href=\"#DejaVuSans-46\"/>\n       <use x=\"95.410156\" xlink:href=\"#DejaVuSans-48\"/>\n      </g>\n     </g>\n    </g>\n    <g id=\"ytick_2\">\n     <g id=\"line2d_19\">\n      <path clip-path=\"url(#p6d4f8de7dd)\" d=\"M 51.111563 246.246142 \nL 497.511562 246.246142 \n\" style=\"fill:none;stroke:#ffffff;stroke-linecap:round;\"/>\n     </g>\n     <g id=\"line2d_20\"/>\n     <g id=\"text_11\">\n      <!-- 2.5 -->\n      <g style=\"fill:#262626;\" transform=\"translate(28.208438 250.04536)scale(0.1 -0.1)\">\n       <use xlink:href=\"#DejaVuSans-50\"/>\n       <use x=\"63.623047\" xlink:href=\"#DejaVuSans-46\"/>\n       <use x=\"95.410156\" xlink:href=\"#DejaVuSans-53\"/>\n      </g>\n     </g>\n    </g>\n    <g id=\"ytick_3\">\n     <g id=\"line2d_21\">\n      <path clip-path=\"url(#p6d4f8de7dd)\" d=\"M 51.111563 210.882043 \nL 497.511562 210.882043 \n\" style=\"fill:none;stroke:#ffffff;stroke-linecap:round;\"/>\n     </g>\n     <g id=\"line2d_22\"/>\n     <g id=\"text_12\">\n      <!-- 5.0 -->\n      <g style=\"fill:#262626;\" transform=\"translate(28.208438 214.681262)scale(0.1 -0.1)\">\n       <use xlink:href=\"#DejaVuSans-53\"/>\n       <use x=\"63.623047\" xlink:href=\"#DejaVuSans-46\"/>\n       <use x=\"95.410156\" xlink:href=\"#DejaVuSans-48\"/>\n      </g>\n     </g>\n    </g>\n    <g id=\"ytick_4\">\n     <g id=\"line2d_23\">\n      <path clip-path=\"url(#p6d4f8de7dd)\" d=\"M 51.111563 175.517945 \nL 497.511562 175.517945 \n\" style=\"fill:none;stroke:#ffffff;stroke-linecap:round;\"/>\n     </g>\n     <g id=\"line2d_24\"/>\n     <g id=\"text_13\">\n      <!-- 7.5 -->\n      <g style=\"fill:#262626;\" transform=\"translate(28.208438 179.317164)scale(0.1 -0.1)\">\n       <use xlink:href=\"#DejaVuSans-55\"/>\n       <use x=\"63.623047\" xlink:href=\"#DejaVuSans-46\"/>\n       <use x=\"95.410156\" xlink:href=\"#DejaVuSans-53\"/>\n      </g>\n     </g>\n    </g>\n    <g id=\"ytick_5\">\n     <g id=\"line2d_25\">\n      <path clip-path=\"url(#p6d4f8de7dd)\" d=\"M 51.111563 140.153847 \nL 497.511562 140.153847 \n\" style=\"fill:none;stroke:#ffffff;stroke-linecap:round;\"/>\n     </g>\n     <g id=\"line2d_26\"/>\n     <g id=\"text_14\">\n      <!-- 10.0 -->\n      <g style=\"fill:#262626;\" transform=\"translate(21.845938 143.953066)scale(0.1 -0.1)\">\n       <use xlink:href=\"#DejaVuSans-49\"/>\n       <use x=\"63.623047\" xlink:href=\"#DejaVuSans-48\"/>\n       <use x=\"127.246094\" xlink:href=\"#DejaVuSans-46\"/>\n       <use x=\"159.033203\" xlink:href=\"#DejaVuSans-48\"/>\n      </g>\n     </g>\n    </g>\n    <g id=\"ytick_6\">\n     <g id=\"line2d_27\">\n      <path clip-path=\"url(#p6d4f8de7dd)\" d=\"M 51.111563 104.789749 \nL 497.511562 104.789749 \n\" style=\"fill:none;stroke:#ffffff;stroke-linecap:round;\"/>\n     </g>\n     <g id=\"line2d_28\"/>\n     <g id=\"text_15\">\n      <!-- 12.5 -->\n      <g style=\"fill:#262626;\" transform=\"translate(21.845938 108.588967)scale(0.1 -0.1)\">\n       <use xlink:href=\"#DejaVuSans-49\"/>\n       <use x=\"63.623047\" xlink:href=\"#DejaVuSans-50\"/>\n       <use x=\"127.246094\" xlink:href=\"#DejaVuSans-46\"/>\n       <use x=\"159.033203\" xlink:href=\"#DejaVuSans-53\"/>\n      </g>\n     </g>\n    </g>\n    <g id=\"ytick_7\">\n     <g id=\"line2d_29\">\n      <path clip-path=\"url(#p6d4f8de7dd)\" d=\"M 51.111563 69.42565 \nL 497.511562 69.42565 \n\" style=\"fill:none;stroke:#ffffff;stroke-linecap:round;\"/>\n     </g>\n     <g id=\"line2d_30\"/>\n     <g id=\"text_16\">\n      <!-- 15.0 -->\n      <g style=\"fill:#262626;\" transform=\"translate(21.845938 73.224869)scale(0.1 -0.1)\">\n       <use xlink:href=\"#DejaVuSans-49\"/>\n       <use x=\"63.623047\" xlink:href=\"#DejaVuSans-53\"/>\n       <use x=\"127.246094\" xlink:href=\"#DejaVuSans-46\"/>\n       <use x=\"159.033203\" xlink:href=\"#DejaVuSans-48\"/>\n      </g>\n     </g>\n    </g>\n    <g id=\"ytick_8\">\n     <g id=\"line2d_31\">\n      <path clip-path=\"url(#p6d4f8de7dd)\" d=\"M 51.111563 34.061552 \nL 497.511562 34.061552 \n\" style=\"fill:none;stroke:#ffffff;stroke-linecap:round;\"/>\n     </g>\n     <g id=\"line2d_32\"/>\n     <g id=\"text_17\">\n      <!-- 17.5 -->\n      <g style=\"fill:#262626;\" transform=\"translate(21.845938 37.860771)scale(0.1 -0.1)\">\n       <use xlink:href=\"#DejaVuSans-49\"/>\n       <use x=\"63.623047\" xlink:href=\"#DejaVuSans-55\"/>\n       <use x=\"127.246094\" xlink:href=\"#DejaVuSans-46\"/>\n       <use x=\"159.033203\" xlink:href=\"#DejaVuSans-53\"/>\n      </g>\n     </g>\n    </g>\n    <g id=\"text_18\">\n     <!-- True -->\n     <defs>\n      <path d=\"M -0.296875 72.90625 \nL 61.375 72.90625 \nL 61.375 64.59375 \nL 35.5 64.59375 \nL 35.5 0 \nL 25.59375 0 \nL 25.59375 64.59375 \nL -0.296875 64.59375 \nz\n\" id=\"DejaVuSans-84\"/>\n      <path d=\"M 8.5 21.578125 \nL 8.5 54.6875 \nL 17.484375 54.6875 \nL 17.484375 21.921875 \nQ 17.484375 14.15625 20.5 10.265625 \nQ 23.53125 6.390625 29.59375 6.390625 \nQ 36.859375 6.390625 41.078125 11.03125 \nQ 45.3125 15.671875 45.3125 23.6875 \nL 45.3125 54.6875 \nL 54.296875 54.6875 \nL 54.296875 0 \nL 45.3125 0 \nL 45.3125 8.40625 \nQ 42.046875 3.421875 37.71875 1 \nQ 33.40625 -1.421875 27.6875 -1.421875 \nQ 18.265625 -1.421875 13.375 4.4375 \nQ 8.5 10.296875 8.5 21.578125 \nz\nM 31.109375 56 \nz\n\" id=\"DejaVuSans-117\"/>\n     </defs>\n     <g style=\"fill:#262626;\" transform=\"translate(15.558281 168.368906)rotate(-90)scale(0.11 -0.11)\">\n      <use xlink:href=\"#DejaVuSans-84\"/>\n      <use x=\"46.333984\" xlink:href=\"#DejaVuSans-114\"/>\n      <use x=\"87.447266\" xlink:href=\"#DejaVuSans-117\"/>\n      <use x=\"150.826172\" xlink:href=\"#DejaVuSans-101\"/>\n     </g>\n    </g>\n   </g>\n   <g id=\"PathCollection_1\">\n    <defs>\n     <path d=\"M 0 3.708099 \nC 0.983399 3.708099 1.926654 3.317391 2.622022 2.622022 \nC 3.317391 1.926654 3.708099 0.983399 3.708099 0 \nC 3.708099 -0.983399 3.317391 -1.926654 2.622022 -2.622022 \nC 1.926654 -3.317391 0.983399 -3.708099 0 -3.708099 \nC -0.983399 -3.708099 -1.926654 -3.317391 -2.622022 -2.622022 \nC -3.317391 -1.926654 -3.708099 -0.983399 -3.708099 0 \nC -3.708099 0.983399 -3.317391 1.926654 -2.622022 2.622022 \nC -1.926654 3.317391 -0.983399 3.708099 0 3.708099 \nz\n\" id=\"m3491dd0962\" style=\"stroke:#4c72b0;stroke-width:0.3;\"/>\n    </defs>\n    <g clip-path=\"url(#p6d4f8de7dd)\">\n     <use style=\"fill:#4c72b0;stroke:#4c72b0;stroke-width:0.3;\" x=\"213.757577\" xlink:href=\"#m3491dd0962\" y=\"207.164063\"/>\n     <use style=\"fill:#4c72b0;stroke:#4c72b0;stroke-width:0.3;\" x=\"284.027154\" xlink:href=\"#m3491dd0962\" y=\"156.744919\"/>\n     <use style=\"fill:#4c72b0;stroke:#4c72b0;stroke-width:0.3;\" x=\"377.780118\" xlink:href=\"#m3491dd0962\" y=\"91.471692\"/>\n     <use style=\"fill:#4c72b0;stroke:#4c72b0;stroke-width:0.3;\" x=\"161.372253\" xlink:href=\"#m3491dd0962\" y=\"225.99368\"/>\n     <use style=\"fill:#4c72b0;stroke:#4c72b0;stroke-width:0.3;\" x=\"320.694684\" xlink:href=\"#m3491dd0962\" y=\"116.405901\"/>\n     <use style=\"fill:#4c72b0;stroke:#4c72b0;stroke-width:0.3;\" x=\"279.808623\" xlink:href=\"#m3491dd0962\" y=\"141.893472\"/>\n     <use style=\"fill:#4c72b0;stroke:#4c72b0;stroke-width:0.3;\" x=\"384.062652\" xlink:href=\"#m3491dd0962\" y=\"77.066025\"/>\n     <use style=\"fill:#4c72b0;stroke:#4c72b0;stroke-width:0.3;\" x=\"364.535517\" xlink:href=\"#m3491dd0962\" y=\"89.667717\"/>\n     <use style=\"fill:#4c72b0;stroke:#4c72b0;stroke-width:0.3;\" x=\"362.258115\" xlink:href=\"#m3491dd0962\" y=\"78.301628\"/>\n     <use style=\"fill:#4c72b0;stroke:#4c72b0;stroke-width:0.3;\" x=\"226.131722\" xlink:href=\"#m3491dd0962\" y=\"187.810468\"/>\n     <use style=\"fill:#4c72b0;stroke:#4c72b0;stroke-width:0.3;\" x=\"391.066598\" xlink:href=\"#m3491dd0962\" y=\"75.731979\"/>\n     <use style=\"fill:#4c72b0;stroke:#4c72b0;stroke-width:0.3;\" x=\"85.77549\" xlink:href=\"#m3491dd0962\" y=\"289.744913\"/>\n     <use style=\"fill:#4c72b0;stroke:#4c72b0;stroke-width:0.3;\" x=\"410.287261\" xlink:href=\"#m3491dd0962\" y=\"55.264721\"/>\n     <use style=\"fill:#4c72b0;stroke:#4c72b0;stroke-width:0.3;\" x=\"243.939471\" xlink:href=\"#m3491dd0962\" y=\"169.518962\"/>\n     <use style=\"fill:#4c72b0;stroke:#4c72b0;stroke-width:0.3;\" x=\"426.91188\" xlink:href=\"#m3491dd0962\" y=\"37.668693\"/>\n     <use style=\"fill:#4c72b0;stroke:#4c72b0;stroke-width:0.3;\" x=\"425.909948\" xlink:href=\"#m3491dd0962\" y=\"51.897247\"/>\n     <use style=\"fill:#4c72b0;stroke:#4c72b0;stroke-width:0.3;\" x=\"186.792256\" xlink:href=\"#m3491dd0962\" y=\"222.034448\"/>\n     <use style=\"fill:#4c72b0;stroke:#4c72b0;stroke-width:0.3;\" x=\"342.959187\" xlink:href=\"#m3491dd0962\" y=\"99.145504\"/>\n     <use style=\"fill:#4c72b0;stroke:#4c72b0;stroke-width:0.3;\" x=\"149.884218\" xlink:href=\"#m3491dd0962\" y=\"225.234248\"/>\n     <use style=\"fill:#4c72b0;stroke:#4c72b0;stroke-width:0.3;\" x=\"445.526378\" xlink:href=\"#m3491dd0962\" y=\"45.542665\"/>\n     <use style=\"fill:#4c72b0;stroke:#4c72b0;stroke-width:0.3;\" x=\"174.501216\" xlink:href=\"#m3491dd0962\" y=\"224.509473\"/>\n     <use style=\"fill:#4c72b0;stroke:#4c72b0;stroke-width:0.3;\" x=\"96.400993\" xlink:href=\"#m3491dd0962\" y=\"275.851417\"/>\n     <use style=\"fill:#4c72b0;stroke:#4c72b0;stroke-width:0.3;\" x=\"386.833458\" xlink:href=\"#m3491dd0962\" y=\"67.240197\"/>\n     <use style=\"fill:#4c72b0;stroke:#4c72b0;stroke-width:0.3;\" x=\"372.010369\" xlink:href=\"#m3491dd0962\" y=\"88.128434\"/>\n     <use style=\"fill:#4c72b0;stroke:#4c72b0;stroke-width:0.3;\" x=\"352.774978\" xlink:href=\"#m3491dd0962\" y=\"107.55692\"/>\n     <use style=\"fill:#4c72b0;stroke:#4c72b0;stroke-width:0.3;\" x=\"96.932402\" xlink:href=\"#m3491dd0962\" y=\"265.705764\"/>\n     <use style=\"fill:#4c72b0;stroke:#4c72b0;stroke-width:0.3;\" x=\"278.850447\" xlink:href=\"#m3491dd0962\" y=\"155.054418\"/>\n     <use style=\"fill:#4c72b0;stroke:#4c72b0;stroke-width:0.3;\" x=\"162.4099\" xlink:href=\"#m3491dd0962\" y=\"239.884946\"/>\n     <use style=\"fill:#4c72b0;stroke:#4c72b0;stroke-width:0.3;\" x=\"427.450926\" xlink:href=\"#m3491dd0962\" y=\"34.749905\"/>\n     <use style=\"fill:#4c72b0;stroke:#4c72b0;stroke-width:0.3;\" x=\"247.460376\" xlink:href=\"#m3491dd0962\" y=\"170.968317\"/>\n     <use style=\"fill:#4c72b0;stroke:#4c72b0;stroke-width:0.3;\" x=\"87.258889\" xlink:href=\"#m3491dd0962\" y=\"278.468494\"/>\n     <use style=\"fill:#4c72b0;stroke:#4c72b0;stroke-width:0.3;\" x=\"91.697394\" xlink:href=\"#m3491dd0962\" y=\"279.483446\"/>\n     <use style=\"fill:#4c72b0;stroke:#4c72b0;stroke-width:0.3;\" x=\"439.124745\" xlink:href=\"#m3491dd0962\" y=\"21.411924\"/>\n     <use style=\"fill:#4c72b0;stroke:#4c72b0;stroke-width:0.3;\" x=\"274.78185\" xlink:href=\"#m3491dd0962\" y=\"158.734867\"/>\n     <use style=\"fill:#4c72b0;stroke:#4c72b0;stroke-width:0.3;\" x=\"357.952812\" xlink:href=\"#m3491dd0962\" y=\"89.543961\"/>\n     <use style=\"fill:#4c72b0;stroke:#4c72b0;stroke-width:0.3;\" x=\"77.629038\" xlink:href=\"#m3491dd0962\" y=\"286.281281\"/>\n     <use style=\"fill:#4c72b0;stroke:#4c72b0;stroke-width:0.3;\" x=\"131.403513\" xlink:href=\"#m3491dd0962\" y=\"252.96453\"/>\n     <use style=\"fill:#4c72b0;stroke:#4c72b0;stroke-width:0.3;\" x=\"71.402472\" xlink:href=\"#m3491dd0962\" y=\"292.59\"/>\n     <use style=\"fill:#4c72b0;stroke:#4c72b0;stroke-width:0.3;\" x=\"268.159148\" xlink:href=\"#m3491dd0962\" y=\"160.061269\"/>\n     <use style=\"fill:#4c72b0;stroke:#4c72b0;stroke-width:0.3;\" x=\"328.245539\" xlink:href=\"#m3491dd0962\" y=\"120.384537\"/>\n     <use style=\"fill:#4c72b0;stroke:#4c72b0;stroke-width:0.3;\" x=\"365.891593\" xlink:href=\"#m3491dd0962\" y=\"81.896451\"/>\n     <use style=\"fill:#4c72b0;stroke:#4c72b0;stroke-width:0.3;\" x=\"456.493992\" xlink:href=\"#m3491dd0962\" y=\"31.16874\"/>\n     <use style=\"fill:#4c72b0;stroke:#4c72b0;stroke-width:0.3;\" x=\"464.055753\" xlink:href=\"#m3491dd0962\" y=\"26.658308\"/>\n     <use style=\"fill:#4c72b0;stroke:#4c72b0;stroke-width:0.3;\" x=\"197.422507\" xlink:href=\"#m3491dd0962\" y=\"206.621193\"/>\n     <use style=\"fill:#4c72b0;stroke:#4c72b0;stroke-width:0.3;\" x=\"433.967249\" xlink:href=\"#m3491dd0962\" y=\"46.790414\"/>\n     <use style=\"fill:#4c72b0;stroke:#4c72b0;stroke-width:0.3;\" x=\"404.079097\" xlink:href=\"#m3491dd0962\" y=\"62.948075\"/>\n     <use style=\"fill:#4c72b0;stroke:#4c72b0;stroke-width:0.3;\" x=\"466.462236\" xlink:href=\"#m3491dd0962\" y=\"20.79\"/>\n     <use style=\"fill:#4c72b0;stroke:#4c72b0;stroke-width:0.3;\" x=\"394.112743\" xlink:href=\"#m3491dd0962\" y=\"66.402505\"/>\n     <use style=\"fill:#4c72b0;stroke:#4c72b0;stroke-width:0.3;\" x=\"185.754623\" xlink:href=\"#m3491dd0962\" y=\"224.866449\"/>\n     <use style=\"fill:#4c72b0;stroke:#4c72b0;stroke-width:0.3;\" x=\"387.975763\" xlink:href=\"#m3491dd0962\" y=\"60.305243\"/>\n     <use style=\"fill:#4c72b0;stroke:#4c72b0;stroke-width:0.3;\" x=\"182.141013\" xlink:href=\"#m3491dd0962\" y=\"216.583439\"/>\n     <use style=\"fill:#4c72b0;stroke:#4c72b0;stroke-width:0.3;\" x=\"215.150666\" xlink:href=\"#m3491dd0962\" y=\"199.794941\"/>\n     <use style=\"fill:#4c72b0;stroke:#4c72b0;stroke-width:0.3;\" x=\"74.629611\" xlink:href=\"#m3491dd0962\" y=\"285.486401\"/>\n     <use style=\"fill:#4c72b0;stroke:#4c72b0;stroke-width:0.3;\" x=\"453.77669\" xlink:href=\"#m3491dd0962\" y=\"36.342838\"/>\n     <use style=\"fill:#4c72b0;stroke:#4c72b0;stroke-width:0.3;\" x=\"258.563711\" xlink:href=\"#m3491dd0962\" y=\"146.302061\"/>\n     <use style=\"fill:#4c72b0;stroke:#4c72b0;stroke-width:0.3;\" x=\"335.005619\" xlink:href=\"#m3491dd0962\" y=\"106.484128\"/>\n     <use style=\"fill:#4c72b0;stroke:#4c72b0;stroke-width:0.3;\" x=\"362.67558\" xlink:href=\"#m3491dd0962\" y=\"101.840351\"/>\n     <use style=\"fill:#4c72b0;stroke:#4c72b0;stroke-width:0.3;\" x=\"147.7683\" xlink:href=\"#m3491dd0962\" y=\"240.93032\"/>\n     <use style=\"fill:#4c72b0;stroke:#4c72b0;stroke-width:0.3;\" x=\"215.983309\" xlink:href=\"#m3491dd0962\" y=\"192.900275\"/>\n     <use style=\"fill:#4c72b0;stroke:#4c72b0;stroke-width:0.3;\" x=\"403.056466\" xlink:href=\"#m3491dd0962\" y=\"69.437149\"/>\n     <use style=\"fill:#4c72b0;stroke:#4c72b0;stroke-width:0.3;\" x=\"370.849899\" xlink:href=\"#m3491dd0962\" y=\"96.751006\"/>\n     <use style=\"fill:#4c72b0;stroke:#4c72b0;stroke-width:0.3;\" x=\"311.277472\" xlink:href=\"#m3491dd0962\" y=\"137.495744\"/>\n     <use style=\"fill:#4c72b0;stroke:#4c72b0;stroke-width:0.3;\" x=\"400.283578\" xlink:href=\"#m3491dd0962\" y=\"69.397662\"/>\n     <use style=\"fill:#4c72b0;stroke:#4c72b0;stroke-width:0.3;\" x=\"218.812249\" xlink:href=\"#m3491dd0962\" y=\"208.778719\"/>\n     <use style=\"fill:#4c72b0;stroke:#4c72b0;stroke-width:0.3;\" x=\"115.776498\" xlink:href=\"#m3491dd0962\" y=\"256.277084\"/>\n     <use style=\"fill:#4c72b0;stroke:#4c72b0;stroke-width:0.3;\" x=\"106.275077\" xlink:href=\"#m3491dd0962\" y=\"275.752375\"/>\n     <use style=\"fill:#4c72b0;stroke:#4c72b0;stroke-width:0.3;\" x=\"83.929146\" xlink:href=\"#m3491dd0962\" y=\"286.152508\"/>\n     <use style=\"fill:#4c72b0;stroke:#4c72b0;stroke-width:0.3;\" x=\"117.09278\" xlink:href=\"#m3491dd0962\" y=\"255.281728\"/>\n     <use style=\"fill:#4c72b0;stroke:#4c72b0;stroke-width:0.3;\" x=\"399.651005\" xlink:href=\"#m3491dd0962\" y=\"66.432454\"/>\n     <use style=\"fill:#4c72b0;stroke:#4c72b0;stroke-width:0.3;\" x=\"477.220653\" xlink:href=\"#m3491dd0962\" y=\"20.844935\"/>\n     <use style=\"fill:#4c72b0;stroke:#4c72b0;stroke-width:0.3;\" x=\"133.86063\" xlink:href=\"#m3491dd0962\" y=\"255.043203\"/>\n     <use style=\"fill:#4c72b0;stroke:#4c72b0;stroke-width:0.3;\" x=\"330.710565\" xlink:href=\"#m3491dd0962\" y=\"113.839053\"/>\n     <use style=\"fill:#4c72b0;stroke:#4c72b0;stroke-width:0.3;\" x=\"391.808006\" xlink:href=\"#m3491dd0962\" y=\"64.244531\"/>\n     <use style=\"fill:#4c72b0;stroke:#4c72b0;stroke-width:0.3;\" x=\"138.885252\" xlink:href=\"#m3491dd0962\" y=\"252.67147\"/>\n     <use style=\"fill:#4c72b0;stroke:#4c72b0;stroke-width:0.3;\" x=\"215.931484\" xlink:href=\"#m3491dd0962\" y=\"201.318442\"/>\n     <use style=\"fill:#4c72b0;stroke:#4c72b0;stroke-width:0.3;\" x=\"140.928474\" xlink:href=\"#m3491dd0962\" y=\"248.595425\"/>\n     <use style=\"fill:#4c72b0;stroke:#4c72b0;stroke-width:0.3;\" x=\"204.966939\" xlink:href=\"#m3491dd0962\" y=\"208.714193\"/>\n     <use style=\"fill:#4c72b0;stroke:#4c72b0;stroke-width:0.3;\" x=\"120.242469\" xlink:href=\"#m3491dd0962\" y=\"255.485383\"/>\n     <use style=\"fill:#4c72b0;stroke:#4c72b0;stroke-width:0.3;\" x=\"89.895732\" xlink:href=\"#m3491dd0962\" y=\"283.709241\"/>\n     <use style=\"fill:#4c72b0;stroke:#4c72b0;stroke-width:0.3;\" x=\"465.398333\" xlink:href=\"#m3491dd0962\" y=\"27.595341\"/>\n     <use style=\"fill:#4c72b0;stroke:#4c72b0;stroke-width:0.3;\" x=\"421.593362\" xlink:href=\"#m3491dd0962\" y=\"49.851287\"/>\n     <use style=\"fill:#4c72b0;stroke:#4c72b0;stroke-width:0.3;\" x=\"134.607646\" xlink:href=\"#m3491dd0962\" y=\"231.073156\"/>\n     <use style=\"fill:#4c72b0;stroke:#4c72b0;stroke-width:0.3;\" x=\"277.14775\" xlink:href=\"#m3491dd0962\" y=\"157.929275\"/>\n     <use style=\"fill:#4c72b0;stroke:#4c72b0;stroke-width:0.3;\" x=\"426.89431\" xlink:href=\"#m3491dd0962\" y=\"39.515551\"/>\n     <use style=\"fill:#4c72b0;stroke:#4c72b0;stroke-width:0.3;\" x=\"424.41443\" xlink:href=\"#m3491dd0962\" y=\"56.196757\"/>\n     <use style=\"fill:#4c72b0;stroke:#4c72b0;stroke-width:0.3;\" x=\"157.630219\" xlink:href=\"#m3491dd0962\" y=\"225.726346\"/>\n     <use style=\"fill:#4c72b0;stroke:#4c72b0;stroke-width:0.3;\" x=\"272.079403\" xlink:href=\"#m3491dd0962\" y=\"156.697276\"/>\n     <use style=\"fill:#4c72b0;stroke:#4c72b0;stroke-width:0.3;\" x=\"198.264664\" xlink:href=\"#m3491dd0962\" y=\"207.412358\"/>\n     <use style=\"fill:#4c72b0;stroke:#4c72b0;stroke-width:0.3;\" x=\"161.941821\" xlink:href=\"#m3491dd0962\" y=\"222.557768\"/>\n     <use style=\"fill:#4c72b0;stroke:#4c72b0;stroke-width:0.3;\" x=\"352.295814\" xlink:href=\"#m3491dd0962\" y=\"99.615381\"/>\n     <use style=\"fill:#4c72b0;stroke:#4c72b0;stroke-width:0.3;\" x=\"360.106848\" xlink:href=\"#m3491dd0962\" y=\"83.06916\"/>\n     <use style=\"fill:#4c72b0;stroke:#4c72b0;stroke-width:0.3;\" x=\"173.115591\" xlink:href=\"#m3491dd0962\" y=\"222.732823\"/>\n     <use style=\"fill:#4c72b0;stroke:#4c72b0;stroke-width:0.3;\" x=\"277.60098\" xlink:href=\"#m3491dd0962\" y=\"152.536133\"/>\n     <use style=\"fill:#4c72b0;stroke:#4c72b0;stroke-width:0.3;\" x=\"263.520911\" xlink:href=\"#m3491dd0962\" y=\"156.937524\"/>\n     <use style=\"fill:#4c72b0;stroke:#4c72b0;stroke-width:0.3;\" x=\"80.559474\" xlink:href=\"#m3491dd0962\" y=\"286.299417\"/>\n     <use style=\"fill:#4c72b0;stroke:#4c72b0;stroke-width:0.3;\" x=\"89.687549\" xlink:href=\"#m3491dd0962\" y=\"288.287587\"/>\n     <use style=\"fill:#4c72b0;stroke:#4c72b0;stroke-width:0.3;\" x=\"146.661164\" xlink:href=\"#m3491dd0962\" y=\"245.334539\"/>\n     <use style=\"fill:#4c72b0;stroke:#4c72b0;stroke-width:0.3;\" x=\"155.752462\" xlink:href=\"#m3491dd0962\" y=\"225.096896\"/>\n     <use style=\"fill:#4c72b0;stroke:#4c72b0;stroke-width:0.3;\" x=\"91.124714\" xlink:href=\"#m3491dd0962\" y=\"272.562311\"/>\n     <use style=\"fill:#4c72b0;stroke:#4c72b0;stroke-width:0.3;\" x=\"92.512362\" xlink:href=\"#m3491dd0962\" y=\"276.844676\"/>\n    </g>\n   </g>\n   <g id=\"line2d_33\">\n    <path clip-path=\"url(#p6d4f8de7dd)\" d=\"M 71.894833 292.59 \nL 466.262271 20.79 \n\" style=\"fill:none;stroke:#ff0000;stroke-linecap:round;stroke-width:1.75;\"/>\n   </g>\n   <g id=\"patch_3\">\n    <path d=\"M 51.111563 306.18 \nL 51.111563 7.2 \n\" style=\"fill:none;\"/>\n   </g>\n   <g id=\"patch_4\">\n    <path d=\"M 497.511562 306.18 \nL 497.511562 7.2 \n\" style=\"fill:none;\"/>\n   </g>\n   <g id=\"patch_5\">\n    <path d=\"M 51.111563 306.18 \nL 497.511562 306.18 \n\" style=\"fill:none;\"/>\n   </g>\n   <g id=\"patch_6\">\n    <path d=\"M 51.111563 7.2 \nL 497.511562 7.2 \n\" style=\"fill:none;\"/>\n   </g>\n  </g>\n </g>\n <defs>\n  <clipPath id=\"p6d4f8de7dd\">\n   <rect height=\"298.98\" width=\"446.4\" x=\"51.111563\" y=\"7.2\"/>\n  </clipPath>\n </defs>\n</svg>\n"
     },
     "metadata": {}
    },
    {
     "output_type": "stream",
     "name": "stdout",
     "text": "Mean Squared Error:  0.2644818958210739\nRoot Mean Squared Error:  0.5142780335782133\nMean Absolute Error:  0.4105115936949399\nR2:  0.9930240138780045\nAdj R2:  0.9929528303461475\nStandard Error of Estimate:  0.5194992642263394\n"
    },
    {
     "output_type": "execute_result",
     "data": {
      "text/plain": "(0.9930240138780045, 0.9929528303461475)"
     },
     "metadata": {},
     "execution_count": 11
    }
   ],
   "source": [
    "model_score(y, preds, X, verbose=1)"
   ]
  },
  {
   "cell_type": "markdown",
   "metadata": {},
   "source": [
    "If I wanted them all to be available"
   ]
  },
  {
   "cell_type": "code",
   "execution_count": 12,
   "metadata": {
    "ExecuteTime": {
     "end_time": "2018-09-11T19:48:38.448354Z",
     "start_time": "2018-09-11T19:48:38.443597Z"
    }
   },
   "outputs": [],
   "source": [
    "def mean_squared_error(x,y):\n",
    "    print(\"I'M MEAN SQUARED ERROR\")"
   ]
  },
  {
   "cell_type": "code",
   "execution_count": 13,
   "metadata": {
    "ExecuteTime": {
     "end_time": "2018-09-11T19:48:39.125648Z",
     "start_time": "2018-09-11T19:48:39.116933Z"
    }
   },
   "outputs": [
    {
     "output_type": "stream",
     "name": "stdout",
     "text": "I'M MEAN SQUARED ERROR\n"
    }
   ],
   "source": [
    "mean_squared_error(y, preds)"
   ]
  },
  {
   "cell_type": "code",
   "execution_count": 14,
   "metadata": {
    "ExecuteTime": {
     "end_time": "2018-09-11T19:48:39.705255Z",
     "start_time": "2018-09-11T19:48:39.698014Z"
    }
   },
   "outputs": [],
   "source": [
    "from regression_metrics import *"
   ]
  },
  {
   "cell_type": "code",
   "execution_count": 15,
   "metadata": {
    "ExecuteTime": {
     "end_time": "2018-09-11T19:48:40.653400Z",
     "start_time": "2018-09-11T19:48:40.646760Z"
    }
   },
   "outputs": [
    {
     "output_type": "execute_result",
     "data": {
      "text/plain": "0.2644818958210739"
     },
     "metadata": {},
     "execution_count": 15
    }
   ],
   "source": [
    "mean_squared_error(y, preds)"
   ]
  },
  {
   "cell_type": "markdown",
   "metadata": {},
   "source": [
    "# So what does this all mean?"
   ]
  },
  {
   "cell_type": "markdown",
   "metadata": {},
   "source": [
    "At the end of the day, Jupyter notebooks are unacceptable for production. They just don't work. So you'll need to be able to put your code into module form. There are two options for that: \n",
    "\n",
    ">1) Write some big, awful single python file that contains everything in your notebook and makes everyone who ever sees it weep.\n",
    ">\n",
    ">2) Make lots of small files that contain all the functions/classes to do a specific thing\n",
    "\n",
    "Let's show an example of 2. Let's look at an example directory for a project.\n",
    "\n",
    "```\n",
    "project_name\n",
    "|\n",
    "|--- README.md\n",
    "|--- project_name.py # the main file that runs things\n",
    "|--- src # all the files you want to import from\n",
    "    |\n",
    "    |--- web_scraping.py\n",
    "    |--- regression_metrics.py\n",
    "    |--- linear_regression_helpers.py\n",
    "    |--- plotting_methods.py\n",
    "    |--- data_cleaning.py\n",
    "|--- Notebooks\n",
    "    |\n",
    "    |--- data_scraping_prototype.py\n",
    "    |--- data_cleaning_prototype.py\n",
    "    |--- visualization_prototype.py\n",
    "    |--- eda.py\n",
    "```\n",
    "    \n",
    "If this were a real project, I'd be providing a single python file that the user is supposed to run to do the things. It would have only code that is specific to reading from the user/sending things to the user and managing the processes. All of the functions and classes would live inside the `src` folder.\n",
    "\n",
    "The reason for this is twofold:\n",
    "\n",
    ">1) It's easy to maintain code when all the related functions are in the same file. It's also easier to track down errors.\n",
    ">\n",
    ">2) If something needs to be updated or \"swapped out\", I just change it in the file that's being imported from, without changing the main code - which risks breaking everything. "
   ]
  },
  {
   "cell_type": "markdown",
   "metadata": {},
   "source": [
    "# Okay, but we always imported from the same directory... how would I import from another directory?"
   ]
  },
  {
   "cell_type": "code",
   "execution_count": 16,
   "metadata": {
    "ExecuteTime": {
     "end_time": "2018-09-11T19:48:44.132451Z",
     "start_time": "2018-09-11T19:48:44.118744Z"
    }
   },
   "outputs": [
    {
     "output_type": "error",
     "ename": "ModuleNotFoundError",
     "evalue": "No module named 'regression_metrics_in_src'",
     "traceback": [
      "\u001b[0;31m---------------------------------------------------------------------------\u001b[0m",
      "\u001b[0;31mModuleNotFoundError\u001b[0m                       Traceback (most recent call last)",
      "\u001b[0;32m<ipython-input-16-8280f6a080f7>\u001b[0m in \u001b[0;36m<module>\u001b[0;34m\u001b[0m\n\u001b[0;32m----> 1\u001b[0;31m \u001b[0;32mimport\u001b[0m \u001b[0mregression_metrics_in_src\u001b[0m\u001b[0;34m\u001b[0m\u001b[0;34m\u001b[0m\u001b[0m\n\u001b[0m",
      "\u001b[0;31mModuleNotFoundError\u001b[0m: No module named 'regression_metrics_in_src'"
     ]
    }
   ],
   "source": [
    "import regression_metrics_in_src"
   ]
  },
  {
   "cell_type": "code",
   "execution_count": 17,
   "metadata": {
    "ExecuteTime": {
     "end_time": "2018-09-11T19:48:44.747954Z",
     "start_time": "2018-09-11T19:48:44.742268Z"
    }
   },
   "outputs": [],
   "source": [
    "import sys"
   ]
  },
  {
   "cell_type": "code",
   "execution_count": 18,
   "metadata": {
    "ExecuteTime": {
     "end_time": "2018-09-11T19:48:45.554037Z",
     "start_time": "2018-09-11T19:48:45.545428Z"
    }
   },
   "outputs": [],
   "source": [
    "sys.path.append(\"./src\")"
   ]
  },
  {
   "cell_type": "code",
   "execution_count": 19,
   "metadata": {
    "ExecuteTime": {
     "end_time": "2018-09-11T19:48:46.577556Z",
     "start_time": "2018-09-11T19:48:46.565542Z"
    }
   },
   "outputs": [],
   "source": [
    "import regression_metrics_in_src as rmis"
   ]
  },
  {
   "cell_type": "code",
   "execution_count": 20,
   "metadata": {
    "ExecuteTime": {
     "end_time": "2018-09-11T19:48:47.377272Z",
     "start_time": "2018-09-11T19:48:47.361188Z"
    }
   },
   "outputs": [
    {
     "output_type": "execute_result",
     "data": {
      "text/plain": "0.2644818958210739"
     },
     "metadata": {},
     "execution_count": 20
    }
   ],
   "source": [
    "rmis.mean_squared_error(preds, y)"
   ]
  },
  {
   "cell_type": "code",
   "execution_count": 21,
   "metadata": {
    "ExecuteTime": {
     "end_time": "2018-09-11T19:48:48.096597Z",
     "start_time": "2018-09-11T19:48:48.086522Z"
    }
   },
   "outputs": [
    {
     "output_type": "execute_result",
     "data": {
      "text/plain": "['/mnt/c/Users/vi_ci/Downloads/metis/github/dsp/lessons/python_intro/importing_with_python',\n '/usr/lib/python36.zip',\n '/usr/lib/python3.6',\n '/usr/lib/python3.6/lib-dynload',\n '',\n '/home/kunojilym/.local/lib/python3.6/site-packages',\n '/usr/local/lib/python3.6/dist-packages',\n '/usr/lib/python3/dist-packages',\n '/home/kunojilym/.local/lib/python3.6/site-packages/IPython/extensions',\n '/home/kunojilym/.ipython',\n './src']"
     },
     "metadata": {},
     "execution_count": 21
    }
   ],
   "source": [
    "sys.path"
   ]
  },
  {
   "cell_type": "code",
   "execution_count": null,
   "metadata": {},
   "outputs": [],
   "source": []
  },
  {
   "cell_type": "code",
   "execution_count": null,
   "metadata": {},
   "outputs": [],
   "source": []
  }
 ],
 "metadata": {
  "kernelspec": {
   "display_name": "Python 3.6.9 64-bit",
   "language": "python",
   "name": "python36964bitc1d1e0b4163b49d4820ce74134ca452a"
  },
  "language_info": {
   "codemirror_mode": {
    "name": "ipython",
    "version": 3
   },
   "file_extension": ".py",
   "mimetype": "text/x-python",
   "name": "python",
   "nbconvert_exporter": "python",
   "pygments_lexer": "ipython3",
   "version": "3.6.9-final"
  },
  "toc": {
   "nav_menu": {},
   "number_sections": true,
   "sideBar": true,
   "skip_h1_title": false,
   "toc_cell": false,
   "toc_position": {},
   "toc_section_display": "block",
   "toc_window_display": false
  },
  "varInspector": {
   "cols": {
    "lenName": 16,
    "lenType": 16,
    "lenVar": 40
   },
   "kernels_config": {
    "python": {
     "delete_cmd_postfix": "",
     "delete_cmd_prefix": "del ",
     "library": "var_list.py",
     "varRefreshCmd": "print(var_dic_list())"
    },
    "r": {
     "delete_cmd_postfix": ") ",
     "delete_cmd_prefix": "rm(",
     "library": "var_list.r",
     "varRefreshCmd": "cat(var_dic_list()) "
    }
   },
   "types_to_exclude": [
    "module",
    "function",
    "builtin_function_or_method",
    "instance",
    "_Feature"
   ],
   "window_display": false
  }
 },
 "nbformat": 4,
 "nbformat_minor": 2
}