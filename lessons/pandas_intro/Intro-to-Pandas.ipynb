{
 "cells": [
  {
   "cell_type": "code",
   "execution_count": 6,
   "metadata": {
    "slideshow": {
     "slide_type": "skip"
    }
   },
   "outputs": [
    {
     "output_type": "stream",
     "name": "stderr",
     "text": "UsageError: Line magic function `%` not found.\n"
    }
   ],
   "source": [
    "#######################\n",
    "# standard code block #\n",
    "#######################\n",
    "\n",
    "% pylab inline\n",
    "# see https://ipython.readthedocs.io/en/stable/interactive/magics.html\n",
    "\n",
    "%config InlineBackend.figure_format = 'svg'"
   ]
  },
  {
   "cell_type": "markdown",
   "metadata": {
    "slideshow": {
     "slide_type": "slide"
    }
   },
   "source": [
    "# Introduction to Pandas"
   ]
  },
  {
   "cell_type": "markdown",
   "metadata": {},
   "source": [
    "## From the Pandas Documentation:\n",
    "\n",
    "Here are just a few of the things that pandas does well:\n",
    "\n",
    "- Easy handling of **missing data** (represented as NaN) in floating point as well as non-floating point data\n",
    "- Size mutability: columns can be **inserted and deleted** from DataFrame and higher dimensional objects\n",
    "- Automatic and explicit **data alignment**: objects can be explicitly aligned to a set of labels, or the user can simply ignore the labels and let Series, DataFrame, etc. automatically align the data for you in computations\n",
    "- Powerful, flexible **group by** functionality to perform split-apply-combine operations on data sets, for both aggregating and transforming data\n",
    "- Make it **easy to convert** ragged, differently-indexed data in other Python and NumPy data structures into DataFrame objects\n",
    "- Intelligent **label-based slicing**, **fancy indexing**, and **subsetting** of large data sets\n",
    "- Intuitive **merging** and **joining** data sets\n",
    "- Flexible **reshaping** and **pivoting** of data sets\n",
    "- **Hierarchical labeling** of axes (possible to have multiple labels per tick)\n",
    "- **Robust IO tools** for loading data from flat files (CSV and delimited), Excel files, databases, and saving / loading data from the ultrafast HDF5 format\n",
    "- **Time series**-specific functionality: date range generation and frequency conversion, moving window statistics, moving window linear regressions, date shifting and lagging, etc."
   ]
  },
  {
   "cell_type": "markdown",
   "metadata": {
    "slideshow": {
     "slide_type": "slide"
    }
   },
   "source": [
    "### 10 Minutes Intro to Pandas ###\n",
    "\n",
    "Pandas has an official 10 minute intro.\n",
    "\n",
    "http://pandas.pydata.org/pandas-docs/stable/10min.html"
   ]
  },
  {
   "cell_type": "markdown",
   "metadata": {
    "slideshow": {
     "slide_type": "slide"
    }
   },
   "source": [
    "## Set Up Pandas Default Parameters"
   ]
  },
  {
   "cell_type": "code",
   "execution_count": 7,
   "metadata": {
    "slideshow": {
     "slide_type": "fragment"
    }
   },
   "outputs": [],
   "source": [
    "# imports a library 'pandas', names it as 'pd'\n",
    "# this is a common convention\n",
    "import pandas as pd\n",
    "import numpy as np"
   ]
  },
  {
   "cell_type": "code",
   "execution_count": 8,
   "metadata": {
    "slideshow": {
     "slide_type": "fragment"
    }
   },
   "outputs": [
    {
     "output_type": "stream",
     "name": "stdout",
     "text": "Pandas version: 1.0.3\nNumpy version: 1.18.1\n"
    }
   ],
   "source": [
    "# if you run into trouble, it's often helpful to know which version you're on\n",
    "print(\"Pandas version:\", pd.__version__)\n",
    "print(\"Numpy version:\", np.__version__)"
   ]
  },
  {
   "cell_type": "code",
   "execution_count": 9,
   "metadata": {
    "slideshow": {
     "slide_type": "fragment"
    }
   },
   "outputs": [],
   "source": [
    "# various options in pandas\n",
    "pd.set_option('display.max_columns', None)\n",
    "pd.set_option('display.max_rows', 25)\n",
    "pd.set_option('display.precision', 3)"
   ]
  },
  {
   "cell_type": "markdown",
   "metadata": {
    "slideshow": {
     "slide_type": "slide"
    }
   },
   "source": [
    "## Data Structures"
   ]
  },
  {
   "cell_type": "markdown",
   "metadata": {
    "slideshow": {
     "slide_type": "fragment"
    }
   },
   "source": [
    "### 1. Series\n",
    "\n",
    "One Dimensional Array / Vector of Values (Think these as your data columns).  One important aspect of them is that they carry an \"index\" (which you can think of as a row indicator)."
   ]
  },
  {
   "cell_type": "markdown",
   "metadata": {
    "slideshow": {
     "slide_type": "fragment"
    }
   },
   "source": [
    "### 2. DataFrames\n",
    "\n",
    "Think of DataFrame as a Table with Columns.  This is the workhorse of everything you will do with data analysis.  Learning Pandas and its functions can be challenging, but stick with it and ask questions.  Structurally, a DataFrame can be thought of as a collection of Series objects with the same index."
   ]
  },
  {
   "cell_type": "markdown",
   "metadata": {
    "slideshow": {
     "slide_type": "fragment"
    }
   },
   "source": [
    "### 3. [Panel Data](http://pandas.pydata.org/pandas-docs/stable/generated/pandas.Panel.html)\n",
    "\n",
    "Three Dimensional Arrays  (Mentioned for reference, but we will not get much into these)"
   ]
  },
  {
   "cell_type": "markdown",
   "metadata": {
    "slideshow": {
     "slide_type": "slide"
    }
   },
   "source": [
    "## So, What is a Pandas DataFrame?"
   ]
  },
  {
   "cell_type": "code",
   "execution_count": 10,
   "metadata": {
    "slideshow": {
     "slide_type": "fragment"
    }
   },
   "outputs": [
    {
     "output_type": "stream",
     "text": "\u001b[0;31mInit signature:\u001b[0m\n\u001b[0mpd\u001b[0m\u001b[0;34m.\u001b[0m\u001b[0mSeries\u001b[0m\u001b[0;34m(\u001b[0m\u001b[0;34m\u001b[0m\n\u001b[0;34m\u001b[0m    \u001b[0mdata\u001b[0m\u001b[0;34m=\u001b[0m\u001b[0;32mNone\u001b[0m\u001b[0;34m,\u001b[0m\u001b[0;34m\u001b[0m\n\u001b[0;34m\u001b[0m    \u001b[0mindex\u001b[0m\u001b[0;34m=\u001b[0m\u001b[0;32mNone\u001b[0m\u001b[0;34m,\u001b[0m\u001b[0;34m\u001b[0m\n\u001b[0;34m\u001b[0m    \u001b[0mdtype\u001b[0m\u001b[0;34m=\u001b[0m\u001b[0;32mNone\u001b[0m\u001b[0;34m,\u001b[0m\u001b[0;34m\u001b[0m\n\u001b[0;34m\u001b[0m    \u001b[0mname\u001b[0m\u001b[0;34m=\u001b[0m\u001b[0;32mNone\u001b[0m\u001b[0;34m,\u001b[0m\u001b[0;34m\u001b[0m\n\u001b[0;34m\u001b[0m    \u001b[0mcopy\u001b[0m\u001b[0;34m=\u001b[0m\u001b[0;32mFalse\u001b[0m\u001b[0;34m,\u001b[0m\u001b[0;34m\u001b[0m\n\u001b[0;34m\u001b[0m    \u001b[0mfastpath\u001b[0m\u001b[0;34m=\u001b[0m\u001b[0;32mFalse\u001b[0m\u001b[0;34m,\u001b[0m\u001b[0;34m\u001b[0m\n\u001b[0;34m\u001b[0m\u001b[0;34m)\u001b[0m\u001b[0;34m\u001b[0m\u001b[0;34m\u001b[0m\u001b[0m\n\u001b[0;31mDocstring:\u001b[0m     \nOne-dimensional ndarray with axis labels (including time series).\n\nLabels need not be unique but must be a hashable type. The object\nsupports both integer- and label-based indexing and provides a host of\nmethods for performing operations involving the index. Statistical\nmethods from ndarray have been overridden to automatically exclude\nmissing data (currently represented as NaN).\n\nOperations between Series (+, -, /, *, **) align values based on their\nassociated index values-- they need not be the same length. The result\nindex will be the sorted union of the two indexes.\n\nParameters\n----------\ndata : array-like, Iterable, dict, or scalar value\n    Contains data stored in Series.\n\n    .. versionchanged:: 0.23.0\n       If data is a dict, argument order is maintained for Python 3.6\n       and later.\n\nindex : array-like or Index (1d)\n    Values must be hashable and have the same length as `data`.\n    Non-unique index values are allowed. Will default to\n    RangeIndex (0, 1, 2, ..., n) if not provided. If both a dict and index\n    sequence are used, the index will override the keys found in the\n    dict.\ndtype : str, numpy.dtype, or ExtensionDtype, optional\n    Data type for the output Series. If not specified, this will be\n    inferred from `data`.\n    See the :ref:`user guide <basics.dtypes>` for more usages.\nname : str, optional\n    The name to give to the Series.\ncopy : bool, default False\n    Copy input data.\n\u001b[0;31mFile:\u001b[0m           ~/.local/lib/python3.6/site-packages/pandas/core/series.py\n\u001b[0;31mType:\u001b[0m           type\n\u001b[0;31mSubclasses:\u001b[0m     SubclassedSeries\n",
     "metadata": {},
     "execution_count": 10
    }
   ],
   "source": [
    "pd.Series?"
   ]
  },
  {
   "cell_type": "code",
   "execution_count": 11,
   "metadata": {
    "slideshow": {
     "slide_type": "fragment"
    }
   },
   "outputs": [
    {
     "output_type": "execute_result",
     "data": {
      "text/plain": "0    1.0\n1    3.0\n2    5.0\n3    NaN\n4    6.0\n5    8.0\ndtype: float64"
     },
     "metadata": {},
     "execution_count": 11
    }
   ],
   "source": [
    "## Make a Series\n",
    "s = pd.Series([1, 3, 5, np.nan, 6, 8])\n",
    "\n",
    "s"
   ]
  },
  {
   "cell_type": "code",
   "execution_count": 12,
   "metadata": {
    "slideshow": {
     "slide_type": "subslide"
    }
   },
   "outputs": [
    {
     "output_type": "stream",
     "text": "\u001b[0;31mInit signature:\u001b[0m\n\u001b[0mpd\u001b[0m\u001b[0;34m.\u001b[0m\u001b[0mDataFrame\u001b[0m\u001b[0;34m(\u001b[0m\u001b[0;34m\u001b[0m\n\u001b[0;34m\u001b[0m    \u001b[0mdata\u001b[0m\u001b[0;34m=\u001b[0m\u001b[0;32mNone\u001b[0m\u001b[0;34m,\u001b[0m\u001b[0;34m\u001b[0m\n\u001b[0;34m\u001b[0m    \u001b[0mindex\u001b[0m\u001b[0;34m:\u001b[0m\u001b[0mUnion\u001b[0m\u001b[0;34m[\u001b[0m\u001b[0mCollection\u001b[0m\u001b[0;34m,\u001b[0m \u001b[0mNoneType\u001b[0m\u001b[0;34m]\u001b[0m\u001b[0;34m=\u001b[0m\u001b[0;32mNone\u001b[0m\u001b[0;34m,\u001b[0m\u001b[0;34m\u001b[0m\n\u001b[0;34m\u001b[0m    \u001b[0mcolumns\u001b[0m\u001b[0;34m:\u001b[0m\u001b[0mUnion\u001b[0m\u001b[0;34m[\u001b[0m\u001b[0mCollection\u001b[0m\u001b[0;34m,\u001b[0m \u001b[0mNoneType\u001b[0m\u001b[0;34m]\u001b[0m\u001b[0;34m=\u001b[0m\u001b[0;32mNone\u001b[0m\u001b[0;34m,\u001b[0m\u001b[0;34m\u001b[0m\n\u001b[0;34m\u001b[0m    \u001b[0mdtype\u001b[0m\u001b[0;34m:\u001b[0m\u001b[0mUnion\u001b[0m\u001b[0;34m[\u001b[0m\u001b[0mstr\u001b[0m\u001b[0;34m,\u001b[0m \u001b[0mnumpy\u001b[0m\u001b[0;34m.\u001b[0m\u001b[0mdtype\u001b[0m\u001b[0;34m,\u001b[0m \u001b[0m_ForwardRef\u001b[0m\u001b[0;34m(\u001b[0m\u001b[0;34m'ExtensionDtype'\u001b[0m\u001b[0;34m)\u001b[0m\u001b[0;34m,\u001b[0m \u001b[0mNoneType\u001b[0m\u001b[0;34m]\u001b[0m\u001b[0;34m=\u001b[0m\u001b[0;32mNone\u001b[0m\u001b[0;34m,\u001b[0m\u001b[0;34m\u001b[0m\n\u001b[0;34m\u001b[0m    \u001b[0mcopy\u001b[0m\u001b[0;34m:\u001b[0m\u001b[0mbool\u001b[0m\u001b[0;34m=\u001b[0m\u001b[0;32mFalse\u001b[0m\u001b[0;34m,\u001b[0m\u001b[0;34m\u001b[0m\n\u001b[0;34m\u001b[0m\u001b[0;34m)\u001b[0m\u001b[0;34m\u001b[0m\u001b[0;34m\u001b[0m\u001b[0m\n\u001b[0;31mDocstring:\u001b[0m     \nTwo-dimensional, size-mutable, potentially heterogeneous tabular data.\n\nData structure also contains labeled axes (rows and columns).\nArithmetic operations align on both row and column labels. Can be\nthought of as a dict-like container for Series objects. The primary\npandas data structure.\n\nParameters\n----------\ndata : ndarray (structured or homogeneous), Iterable, dict, or DataFrame\n    Dict can contain Series, arrays, constants, or list-like objects.\n\n    .. versionchanged:: 0.23.0\n       If data is a dict, column order follows insertion-order for\n       Python 3.6 and later.\n\n    .. versionchanged:: 0.25.0\n       If data is a list of dicts, column order follows insertion-order\n       for Python 3.6 and later.\n\nindex : Index or array-like\n    Index to use for resulting frame. Will default to RangeIndex if\n    no indexing information part of input data and no index provided.\ncolumns : Index or array-like\n    Column labels to use for resulting frame. Will default to\n    RangeIndex (0, 1, 2, ..., n) if no column labels are provided.\ndtype : dtype, default None\n    Data type to force. Only a single dtype is allowed. If None, infer.\ncopy : bool, default False\n    Copy data from inputs. Only affects DataFrame / 2d ndarray input.\n\nSee Also\n--------\nDataFrame.from_records : Constructor from tuples, also record arrays.\nDataFrame.from_dict : From dicts of Series, arrays, or dicts.\nread_csv\nread_table\nread_clipboard\n\nExamples\n--------\nConstructing DataFrame from a dictionary.\n\n>>> d = {'col1': [1, 2], 'col2': [3, 4]}\n>>> df = pd.DataFrame(data=d)\n>>> df\n   col1  col2\n0     1     3\n1     2     4\n\nNotice that the inferred dtype is int64.\n\n>>> df.dtypes\ncol1    int64\ncol2    int64\ndtype: object\n\nTo enforce a single dtype:\n\n>>> df = pd.DataFrame(data=d, dtype=np.int8)\n>>> df.dtypes\ncol1    int8\ncol2    int8\ndtype: object\n\nConstructing DataFrame from numpy ndarray:\n\n>>> df2 = pd.DataFrame(np.array([[1, 2, 3], [4, 5, 6], [7, 8, 9]]),\n...                    columns=['a', 'b', 'c'])\n>>> df2\n   a  b  c\n0  1  2  3\n1  4  5  6\n2  7  8  9\n\u001b[0;31mFile:\u001b[0m           ~/.local/lib/python3.6/site-packages/pandas/core/frame.py\n\u001b[0;31mType:\u001b[0m           type\n\u001b[0;31mSubclasses:\u001b[0m     SubclassedDataFrame\n",
     "metadata": {},
     "execution_count": 12
    }
   ],
   "source": [
    "pd.DataFrame?"
   ]
  },
  {
   "cell_type": "code",
   "execution_count": 13,
   "metadata": {
    "slideshow": {
     "slide_type": "fragment"
    }
   },
   "outputs": [
    {
     "output_type": "execute_result",
     "data": {
      "text/html": "<div>\n<style scoped>\n    .dataframe tbody tr th:only-of-type {\n        vertical-align: middle;\n    }\n\n    .dataframe tbody tr th {\n        vertical-align: top;\n    }\n\n    .dataframe thead th {\n        text-align: right;\n    }\n</style>\n<table border=\"1\" class=\"dataframe\">\n  <thead>\n    <tr style=\"text-align: right;\">\n      <th></th>\n      <th>A</th>\n      <th>B</th>\n      <th>C</th>\n      <th>D</th>\n    </tr>\n  </thead>\n  <tbody>\n    <tr>\n      <th>0</th>\n      <td>1.137</td>\n      <td>0.719</td>\n      <td>1.993</td>\n      <td>-2.408</td>\n    </tr>\n    <tr>\n      <th>1</th>\n      <td>0.463</td>\n      <td>0.732</td>\n      <td>0.356</td>\n      <td>0.759</td>\n    </tr>\n    <tr>\n      <th>2</th>\n      <td>-0.446</td>\n      <td>0.464</td>\n      <td>-0.442</td>\n      <td>1.014</td>\n    </tr>\n    <tr>\n      <th>3</th>\n      <td>-0.092</td>\n      <td>0.829</td>\n      <td>2.215</td>\n      <td>0.644</td>\n    </tr>\n    <tr>\n      <th>4</th>\n      <td>-1.600</td>\n      <td>0.530</td>\n      <td>-1.514</td>\n      <td>0.740</td>\n    </tr>\n    <tr>\n      <th>5</th>\n      <td>-2.165</td>\n      <td>-0.193</td>\n      <td>0.546</td>\n      <td>-0.505</td>\n    </tr>\n  </tbody>\n</table>\n</div>",
      "text/plain": "       A      B      C      D\n0  1.137  0.719  1.993 -2.408\n1  0.463  0.732  0.356  0.759\n2 -0.446  0.464 -0.442  1.014\n3 -0.092  0.829  2.215  0.644\n4 -1.600  0.530 -1.514  0.740\n5 -2.165 -0.193  0.546 -0.505"
     },
     "metadata": {},
     "execution_count": 13
    }
   ],
   "source": [
    "## Make a dataframe from a numpy array\n",
    "df1 = pd.DataFrame(np.random.randn(6, 4), columns=list('ABCD'))\n",
    "df1"
   ]
  },
  {
   "cell_type": "code",
   "execution_count": 14,
   "metadata": {
    "slideshow": {
     "slide_type": "subslide"
    }
   },
   "outputs": [
    {
     "output_type": "execute_result",
     "data": {
      "text/html": "<div>\n<style scoped>\n    .dataframe tbody tr th:only-of-type {\n        vertical-align: middle;\n    }\n\n    .dataframe tbody tr th {\n        vertical-align: top;\n    }\n\n    .dataframe thead th {\n        text-align: right;\n    }\n</style>\n<table border=\"1\" class=\"dataframe\">\n  <thead>\n    <tr style=\"text-align: right;\">\n      <th></th>\n      <th>A</th>\n      <th>B</th>\n      <th>C</th>\n      <th>D</th>\n      <th>E</th>\n      <th>F</th>\n    </tr>\n  </thead>\n  <tbody>\n    <tr>\n      <th>0</th>\n      <td>1.0</td>\n      <td>2013-01-02</td>\n      <td>1.0</td>\n      <td>3</td>\n      <td>test</td>\n      <td>foo</td>\n    </tr>\n    <tr>\n      <th>1</th>\n      <td>1.0</td>\n      <td>2013-01-02</td>\n      <td>1.0</td>\n      <td>3</td>\n      <td>train</td>\n      <td>foo</td>\n    </tr>\n    <tr>\n      <th>2</th>\n      <td>1.0</td>\n      <td>2013-01-02</td>\n      <td>1.0</td>\n      <td>3</td>\n      <td>test</td>\n      <td>foo</td>\n    </tr>\n    <tr>\n      <th>3</th>\n      <td>1.0</td>\n      <td>2013-01-02</td>\n      <td>1.0</td>\n      <td>3</td>\n      <td>train</td>\n      <td>foo</td>\n    </tr>\n  </tbody>\n</table>\n</div>",
      "text/plain": "     A          B    C  D      E    F\n0  1.0 2013-01-02  1.0  3   test  foo\n1  1.0 2013-01-02  1.0  3  train  foo\n2  1.0 2013-01-02  1.0  3   test  foo\n3  1.0 2013-01-02  1.0  3  train  foo"
     },
     "metadata": {},
     "execution_count": 14
    }
   ],
   "source": [
    "## Make a dataframe from a dictionary\n",
    "df2 = pd.DataFrame({\n",
    "    'A': 1.,\n",
    "    'B': pd.Timestamp('20130102'),\n",
    "    'C': pd.Series(1, index=list(range(4)), dtype='float32'),\n",
    "    'D': np.array([3] * 4, dtype='int32'),\n",
    "    'E': pd.Categorical([\"test\", \"train\", \"test\", \"train\"]),\n",
    "    'F': 'foo'\n",
    "})\n",
    "df2"
   ]
  },
  {
   "cell_type": "markdown",
   "metadata": {
    "slideshow": {
     "slide_type": "slide"
    }
   },
   "source": [
    "## Load a Data Set"
   ]
  },
  {
   "cell_type": "markdown",
   "metadata": {
    "slideshow": {
     "slide_type": "fragment"
    }
   },
   "source": [
    "### \"Census Income\" Dataset\n",
    "\n",
    "http://archive.ics.uci.edu/ml/  \n",
    "pandas can load a lot more than csvs, this tutorial shows how pandas can read excel, sql, and even copy and paste...\n",
    "http://www.gregreda.com/2013/10/26/intro-to-pandas-data-structures/"
   ]
  },
  {
   "cell_type": "code",
   "execution_count": 15,
   "metadata": {
    "slideshow": {
     "slide_type": "subslide"
    }
   },
   "outputs": [],
   "source": [
    "# download the data and name the columns\n",
    "cols = [\n",
    "    'age', 'workclass', 'fnlwgt', 'education', 'education_num',\n",
    "    'marital_status', 'occupation', 'relationship', 'ethnicity', 'gender',\n",
    "    'capital_gain', 'capital_loss', 'hours_per_week', 'country_of_origin',\n",
    "    'income'\n",
    "]\n",
    "\n",
    "df = pd.read_csv(\n",
    "    'http://archive.ics.uci.edu/ml/machine-learning-databases/adult/adult.data',\n",
    "    names=cols)"
   ]
  },
  {
   "cell_type": "markdown",
   "metadata": {
    "slideshow": {
     "slide_type": "fragment"
    }
   },
   "source": [
    "### Q: What's happening in the above cell?"
   ]
  },
  {
   "cell_type": "code",
   "execution_count": 16,
   "metadata": {},
   "outputs": [],
   "source": [
    "# adult.data has been loaded into the df dataframe"
   ]
  },
  {
   "cell_type": "markdown",
   "metadata": {
    "slideshow": {
     "slide_type": "slide"
    }
   },
   "source": [
    "## Viewing Data\n",
    "\n",
    "* .info() \n",
    "* .head()\n",
    "* .tail()\n",
    "* .columns\n",
    "* .values\n",
    "* .dtype"
   ]
  },
  {
   "cell_type": "markdown",
   "metadata": {
    "slideshow": {
     "slide_type": "subslide"
    }
   },
   "source": [
    "### info\n",
    "\n",
    "Displays the Columns, Types, Rows and the memory used by the dataframe"
   ]
  },
  {
   "cell_type": "code",
   "execution_count": 17,
   "metadata": {
    "slideshow": {
     "slide_type": "fragment"
    }
   },
   "outputs": [
    {
     "output_type": "stream",
     "name": "stdout",
     "text": "<class 'pandas.core.frame.DataFrame'>\nRangeIndex: 32561 entries, 0 to 32560\nData columns (total 15 columns):\n #   Column             Non-Null Count  Dtype \n---  ------             --------------  ----- \n 0   age                32561 non-null  int64 \n 1   workclass          32561 non-null  object\n 2   fnlwgt             32561 non-null  int64 \n 3   education          32561 non-null  object\n 4   education_num      32561 non-null  int64 \n 5   marital_status     32561 non-null  object\n 6   occupation         32561 non-null  object\n 7   relationship       32561 non-null  object\n 8   ethnicity          32561 non-null  object\n 9   gender             32561 non-null  object\n 10  capital_gain       32561 non-null  int64 \n 11  capital_loss       32561 non-null  int64 \n 12  hours_per_week     32561 non-null  int64 \n 13  country_of_origin  32561 non-null  object\n 14  income             32561 non-null  object\ndtypes: int64(6), object(9)\nmemory usage: 3.7+ MB\n"
    }
   ],
   "source": [
    "# we can see there are no null values\n",
    "# columns with numerical values are type int64, no need to set data type\n",
    "\n",
    "df.info()"
   ]
  },
  {
   "cell_type": "markdown",
   "metadata": {
    "slideshow": {
     "slide_type": "subslide"
    }
   },
   "source": [
    "### head\n",
    "\n",
    "Displays the first few rows in the dataframe"
   ]
  },
  {
   "cell_type": "code",
   "execution_count": 18,
   "metadata": {
    "slideshow": {
     "slide_type": "subslide"
    }
   },
   "outputs": [
    {
     "output_type": "execute_result",
     "data": {
      "text/html": "<div>\n<style scoped>\n    .dataframe tbody tr th:only-of-type {\n        vertical-align: middle;\n    }\n\n    .dataframe tbody tr th {\n        vertical-align: top;\n    }\n\n    .dataframe thead th {\n        text-align: right;\n    }\n</style>\n<table border=\"1\" class=\"dataframe\">\n  <thead>\n    <tr style=\"text-align: right;\">\n      <th></th>\n      <th>age</th>\n      <th>workclass</th>\n      <th>fnlwgt</th>\n      <th>education</th>\n      <th>education_num</th>\n      <th>marital_status</th>\n      <th>occupation</th>\n      <th>relationship</th>\n      <th>ethnicity</th>\n      <th>gender</th>\n      <th>capital_gain</th>\n      <th>capital_loss</th>\n      <th>hours_per_week</th>\n      <th>country_of_origin</th>\n      <th>income</th>\n    </tr>\n  </thead>\n  <tbody>\n    <tr>\n      <th>0</th>\n      <td>39</td>\n      <td>State-gov</td>\n      <td>77516</td>\n      <td>Bachelors</td>\n      <td>13</td>\n      <td>Never-married</td>\n      <td>Adm-clerical</td>\n      <td>Not-in-family</td>\n      <td>White</td>\n      <td>Male</td>\n      <td>2174</td>\n      <td>0</td>\n      <td>40</td>\n      <td>United-States</td>\n      <td>&lt;=50K</td>\n    </tr>\n    <tr>\n      <th>1</th>\n      <td>50</td>\n      <td>Self-emp-not-inc</td>\n      <td>83311</td>\n      <td>Bachelors</td>\n      <td>13</td>\n      <td>Married-civ-spouse</td>\n      <td>Exec-managerial</td>\n      <td>Husband</td>\n      <td>White</td>\n      <td>Male</td>\n      <td>0</td>\n      <td>0</td>\n      <td>13</td>\n      <td>United-States</td>\n      <td>&lt;=50K</td>\n    </tr>\n    <tr>\n      <th>2</th>\n      <td>38</td>\n      <td>Private</td>\n      <td>215646</td>\n      <td>HS-grad</td>\n      <td>9</td>\n      <td>Divorced</td>\n      <td>Handlers-cleaners</td>\n      <td>Not-in-family</td>\n      <td>White</td>\n      <td>Male</td>\n      <td>0</td>\n      <td>0</td>\n      <td>40</td>\n      <td>United-States</td>\n      <td>&lt;=50K</td>\n    </tr>\n    <tr>\n      <th>3</th>\n      <td>53</td>\n      <td>Private</td>\n      <td>234721</td>\n      <td>11th</td>\n      <td>7</td>\n      <td>Married-civ-spouse</td>\n      <td>Handlers-cleaners</td>\n      <td>Husband</td>\n      <td>Black</td>\n      <td>Male</td>\n      <td>0</td>\n      <td>0</td>\n      <td>40</td>\n      <td>United-States</td>\n      <td>&lt;=50K</td>\n    </tr>\n    <tr>\n      <th>4</th>\n      <td>28</td>\n      <td>Private</td>\n      <td>338409</td>\n      <td>Bachelors</td>\n      <td>13</td>\n      <td>Married-civ-spouse</td>\n      <td>Prof-specialty</td>\n      <td>Wife</td>\n      <td>Black</td>\n      <td>Female</td>\n      <td>0</td>\n      <td>0</td>\n      <td>40</td>\n      <td>Cuba</td>\n      <td>&lt;=50K</td>\n    </tr>\n    <tr>\n      <th>5</th>\n      <td>37</td>\n      <td>Private</td>\n      <td>284582</td>\n      <td>Masters</td>\n      <td>14</td>\n      <td>Married-civ-spouse</td>\n      <td>Exec-managerial</td>\n      <td>Wife</td>\n      <td>White</td>\n      <td>Female</td>\n      <td>0</td>\n      <td>0</td>\n      <td>40</td>\n      <td>United-States</td>\n      <td>&lt;=50K</td>\n    </tr>\n    <tr>\n      <th>6</th>\n      <td>49</td>\n      <td>Private</td>\n      <td>160187</td>\n      <td>9th</td>\n      <td>5</td>\n      <td>Married-spouse-absent</td>\n      <td>Other-service</td>\n      <td>Not-in-family</td>\n      <td>Black</td>\n      <td>Female</td>\n      <td>0</td>\n      <td>0</td>\n      <td>16</td>\n      <td>Jamaica</td>\n      <td>&lt;=50K</td>\n    </tr>\n    <tr>\n      <th>7</th>\n      <td>52</td>\n      <td>Self-emp-not-inc</td>\n      <td>209642</td>\n      <td>HS-grad</td>\n      <td>9</td>\n      <td>Married-civ-spouse</td>\n      <td>Exec-managerial</td>\n      <td>Husband</td>\n      <td>White</td>\n      <td>Male</td>\n      <td>0</td>\n      <td>0</td>\n      <td>45</td>\n      <td>United-States</td>\n      <td>&gt;50K</td>\n    </tr>\n    <tr>\n      <th>8</th>\n      <td>31</td>\n      <td>Private</td>\n      <td>45781</td>\n      <td>Masters</td>\n      <td>14</td>\n      <td>Never-married</td>\n      <td>Prof-specialty</td>\n      <td>Not-in-family</td>\n      <td>White</td>\n      <td>Female</td>\n      <td>14084</td>\n      <td>0</td>\n      <td>50</td>\n      <td>United-States</td>\n      <td>&gt;50K</td>\n    </tr>\n    <tr>\n      <th>9</th>\n      <td>42</td>\n      <td>Private</td>\n      <td>159449</td>\n      <td>Bachelors</td>\n      <td>13</td>\n      <td>Married-civ-spouse</td>\n      <td>Exec-managerial</td>\n      <td>Husband</td>\n      <td>White</td>\n      <td>Male</td>\n      <td>5178</td>\n      <td>0</td>\n      <td>40</td>\n      <td>United-States</td>\n      <td>&gt;50K</td>\n    </tr>\n  </tbody>\n</table>\n</div>",
      "text/plain": "   age          workclass  fnlwgt   education  education_num  \\\n0   39          State-gov   77516   Bachelors             13   \n1   50   Self-emp-not-inc   83311   Bachelors             13   \n2   38            Private  215646     HS-grad              9   \n3   53            Private  234721        11th              7   \n4   28            Private  338409   Bachelors             13   \n5   37            Private  284582     Masters             14   \n6   49            Private  160187         9th              5   \n7   52   Self-emp-not-inc  209642     HS-grad              9   \n8   31            Private   45781     Masters             14   \n9   42            Private  159449   Bachelors             13   \n\n           marital_status          occupation    relationship ethnicity  \\\n0           Never-married        Adm-clerical   Not-in-family     White   \n1      Married-civ-spouse     Exec-managerial         Husband     White   \n2                Divorced   Handlers-cleaners   Not-in-family     White   \n3      Married-civ-spouse   Handlers-cleaners         Husband     Black   \n4      Married-civ-spouse      Prof-specialty            Wife     Black   \n5      Married-civ-spouse     Exec-managerial            Wife     White   \n6   Married-spouse-absent       Other-service   Not-in-family     Black   \n7      Married-civ-spouse     Exec-managerial         Husband     White   \n8           Never-married      Prof-specialty   Not-in-family     White   \n9      Married-civ-spouse     Exec-managerial         Husband     White   \n\n    gender  capital_gain  capital_loss  hours_per_week country_of_origin  \\\n0     Male          2174             0              40     United-States   \n1     Male             0             0              13     United-States   \n2     Male             0             0              40     United-States   \n3     Male             0             0              40     United-States   \n4   Female             0             0              40              Cuba   \n5   Female             0             0              40     United-States   \n6   Female             0             0              16           Jamaica   \n7     Male             0             0              45     United-States   \n8   Female         14084             0              50     United-States   \n9     Male          5178             0              40     United-States   \n\n   income  \n0   <=50K  \n1   <=50K  \n2   <=50K  \n3   <=50K  \n4   <=50K  \n5   <=50K  \n6   <=50K  \n7    >50K  \n8    >50K  \n9    >50K  "
     },
     "metadata": {},
     "execution_count": 18
    }
   ],
   "source": [
    "# to view the first 5 or specify with ex: .head(10)\n",
    "df.head(10)"
   ]
  },
  {
   "cell_type": "markdown",
   "metadata": {
    "slideshow": {
     "slide_type": "subslide"
    }
   },
   "source": [
    "### tail\n",
    "\n",
    "Displays the last few rows in the dataframe"
   ]
  },
  {
   "cell_type": "code",
   "execution_count": 19,
   "metadata": {
    "slideshow": {
     "slide_type": "fragment"
    }
   },
   "outputs": [
    {
     "output_type": "execute_result",
     "data": {
      "text/html": "<div>\n<style scoped>\n    .dataframe tbody tr th:only-of-type {\n        vertical-align: middle;\n    }\n\n    .dataframe tbody tr th {\n        vertical-align: top;\n    }\n\n    .dataframe thead th {\n        text-align: right;\n    }\n</style>\n<table border=\"1\" class=\"dataframe\">\n  <thead>\n    <tr style=\"text-align: right;\">\n      <th></th>\n      <th>age</th>\n      <th>workclass</th>\n      <th>fnlwgt</th>\n      <th>education</th>\n      <th>education_num</th>\n      <th>marital_status</th>\n      <th>occupation</th>\n      <th>relationship</th>\n      <th>ethnicity</th>\n      <th>gender</th>\n      <th>capital_gain</th>\n      <th>capital_loss</th>\n      <th>hours_per_week</th>\n      <th>country_of_origin</th>\n      <th>income</th>\n    </tr>\n  </thead>\n  <tbody>\n    <tr>\n      <th>32556</th>\n      <td>27</td>\n      <td>Private</td>\n      <td>257302</td>\n      <td>Assoc-acdm</td>\n      <td>12</td>\n      <td>Married-civ-spouse</td>\n      <td>Tech-support</td>\n      <td>Wife</td>\n      <td>White</td>\n      <td>Female</td>\n      <td>0</td>\n      <td>0</td>\n      <td>38</td>\n      <td>United-States</td>\n      <td>&lt;=50K</td>\n    </tr>\n    <tr>\n      <th>32557</th>\n      <td>40</td>\n      <td>Private</td>\n      <td>154374</td>\n      <td>HS-grad</td>\n      <td>9</td>\n      <td>Married-civ-spouse</td>\n      <td>Machine-op-inspct</td>\n      <td>Husband</td>\n      <td>White</td>\n      <td>Male</td>\n      <td>0</td>\n      <td>0</td>\n      <td>40</td>\n      <td>United-States</td>\n      <td>&gt;50K</td>\n    </tr>\n    <tr>\n      <th>32558</th>\n      <td>58</td>\n      <td>Private</td>\n      <td>151910</td>\n      <td>HS-grad</td>\n      <td>9</td>\n      <td>Widowed</td>\n      <td>Adm-clerical</td>\n      <td>Unmarried</td>\n      <td>White</td>\n      <td>Female</td>\n      <td>0</td>\n      <td>0</td>\n      <td>40</td>\n      <td>United-States</td>\n      <td>&lt;=50K</td>\n    </tr>\n    <tr>\n      <th>32559</th>\n      <td>22</td>\n      <td>Private</td>\n      <td>201490</td>\n      <td>HS-grad</td>\n      <td>9</td>\n      <td>Never-married</td>\n      <td>Adm-clerical</td>\n      <td>Own-child</td>\n      <td>White</td>\n      <td>Male</td>\n      <td>0</td>\n      <td>0</td>\n      <td>20</td>\n      <td>United-States</td>\n      <td>&lt;=50K</td>\n    </tr>\n    <tr>\n      <th>32560</th>\n      <td>52</td>\n      <td>Self-emp-inc</td>\n      <td>287927</td>\n      <td>HS-grad</td>\n      <td>9</td>\n      <td>Married-civ-spouse</td>\n      <td>Exec-managerial</td>\n      <td>Wife</td>\n      <td>White</td>\n      <td>Female</td>\n      <td>15024</td>\n      <td>0</td>\n      <td>40</td>\n      <td>United-States</td>\n      <td>&gt;50K</td>\n    </tr>\n  </tbody>\n</table>\n</div>",
      "text/plain": "       age      workclass  fnlwgt    education  education_num  \\\n32556   27        Private  257302   Assoc-acdm             12   \n32557   40        Private  154374      HS-grad              9   \n32558   58        Private  151910      HS-grad              9   \n32559   22        Private  201490      HS-grad              9   \n32560   52   Self-emp-inc  287927      HS-grad              9   \n\n            marital_status          occupation relationship ethnicity  \\\n32556   Married-civ-spouse        Tech-support         Wife     White   \n32557   Married-civ-spouse   Machine-op-inspct      Husband     White   \n32558              Widowed        Adm-clerical    Unmarried     White   \n32559        Never-married        Adm-clerical    Own-child     White   \n32560   Married-civ-spouse     Exec-managerial         Wife     White   \n\n        gender  capital_gain  capital_loss  hours_per_week country_of_origin  \\\n32556   Female             0             0              38     United-States   \n32557     Male             0             0              40     United-States   \n32558   Female             0             0              40     United-States   \n32559     Male             0             0              20     United-States   \n32560   Female         15024             0              40     United-States   \n\n       income  \n32556   <=50K  \n32557    >50K  \n32558   <=50K  \n32559   <=50K  \n32560    >50K  "
     },
     "metadata": {},
     "execution_count": 19
    }
   ],
   "source": [
    "df.tail()"
   ]
  },
  {
   "cell_type": "markdown",
   "metadata": {
    "slideshow": {
     "slide_type": "slide"
    }
   },
   "source": [
    "### sample\n",
    "\n",
    "Displays a sample of rows in the dataframe"
   ]
  },
  {
   "cell_type": "code",
   "execution_count": 21,
   "metadata": {
    "slideshow": {
     "slide_type": "fragment"
    }
   },
   "outputs": [
    {
     "output_type": "execute_result",
     "data": {
      "text/html": "<div>\n<style scoped>\n    .dataframe tbody tr th:only-of-type {\n        vertical-align: middle;\n    }\n\n    .dataframe tbody tr th {\n        vertical-align: top;\n    }\n\n    .dataframe thead th {\n        text-align: right;\n    }\n</style>\n<table border=\"1\" class=\"dataframe\">\n  <thead>\n    <tr style=\"text-align: right;\">\n      <th></th>\n      <th>age</th>\n      <th>workclass</th>\n      <th>fnlwgt</th>\n      <th>education</th>\n      <th>education_num</th>\n      <th>marital_status</th>\n      <th>occupation</th>\n      <th>relationship</th>\n      <th>ethnicity</th>\n      <th>gender</th>\n      <th>capital_gain</th>\n      <th>capital_loss</th>\n      <th>hours_per_week</th>\n      <th>country_of_origin</th>\n      <th>income</th>\n    </tr>\n  </thead>\n  <tbody>\n    <tr>\n      <th>14160</th>\n      <td>27</td>\n      <td>Private</td>\n      <td>160178</td>\n      <td>Some-college</td>\n      <td>10</td>\n      <td>Divorced</td>\n      <td>Adm-clerical</td>\n      <td>Not-in-family</td>\n      <td>White</td>\n      <td>Female</td>\n      <td>0</td>\n      <td>0</td>\n      <td>38</td>\n      <td>United-States</td>\n      <td>&lt;=50K</td>\n    </tr>\n    <tr>\n      <th>27048</th>\n      <td>45</td>\n      <td>State-gov</td>\n      <td>50567</td>\n      <td>HS-grad</td>\n      <td>9</td>\n      <td>Married-civ-spouse</td>\n      <td>Exec-managerial</td>\n      <td>Wife</td>\n      <td>White</td>\n      <td>Female</td>\n      <td>0</td>\n      <td>0</td>\n      <td>40</td>\n      <td>United-States</td>\n      <td>&lt;=50K</td>\n    </tr>\n    <tr>\n      <th>28868</th>\n      <td>29</td>\n      <td>Private</td>\n      <td>185908</td>\n      <td>Bachelors</td>\n      <td>13</td>\n      <td>Married-civ-spouse</td>\n      <td>Exec-managerial</td>\n      <td>Husband</td>\n      <td>Black</td>\n      <td>Male</td>\n      <td>0</td>\n      <td>0</td>\n      <td>55</td>\n      <td>United-States</td>\n      <td>&gt;50K</td>\n    </tr>\n    <tr>\n      <th>5667</th>\n      <td>30</td>\n      <td>Private</td>\n      <td>190040</td>\n      <td>Bachelors</td>\n      <td>13</td>\n      <td>Never-married</td>\n      <td>Machine-op-inspct</td>\n      <td>Not-in-family</td>\n      <td>White</td>\n      <td>Female</td>\n      <td>0</td>\n      <td>0</td>\n      <td>40</td>\n      <td>United-States</td>\n      <td>&lt;=50K</td>\n    </tr>\n    <tr>\n      <th>7827</th>\n      <td>29</td>\n      <td>Self-emp-not-inc</td>\n      <td>189346</td>\n      <td>Some-college</td>\n      <td>10</td>\n      <td>Divorced</td>\n      <td>Craft-repair</td>\n      <td>Not-in-family</td>\n      <td>White</td>\n      <td>Male</td>\n      <td>2202</td>\n      <td>0</td>\n      <td>50</td>\n      <td>United-States</td>\n      <td>&lt;=50K</td>\n    </tr>\n  </tbody>\n</table>\n</div>",
      "text/plain": "       age          workclass  fnlwgt      education  education_num  \\\n14160   27            Private  160178   Some-college             10   \n27048   45          State-gov   50567        HS-grad              9   \n28868   29            Private  185908      Bachelors             13   \n5667    30            Private  190040      Bachelors             13   \n7827    29   Self-emp-not-inc  189346   Some-college             10   \n\n            marital_status          occupation    relationship ethnicity  \\\n14160             Divorced        Adm-clerical   Not-in-family     White   \n27048   Married-civ-spouse     Exec-managerial            Wife     White   \n28868   Married-civ-spouse     Exec-managerial         Husband     Black   \n5667         Never-married   Machine-op-inspct   Not-in-family     White   \n7827              Divorced        Craft-repair   Not-in-family     White   \n\n        gender  capital_gain  capital_loss  hours_per_week country_of_origin  \\\n14160   Female             0             0              38     United-States   \n27048   Female             0             0              40     United-States   \n28868     Male             0             0              55     United-States   \n5667    Female             0             0              40     United-States   \n7827      Male          2202             0              50     United-States   \n\n       income  \n14160   <=50K  \n27048   <=50K  \n28868    >50K  \n5667    <=50K  \n7827    <=50K  "
     },
     "metadata": {},
     "execution_count": 21
    }
   ],
   "source": [
    "# head and tail are good.  But sometimes we want to randomly sample data\n",
    "df.sample(5, random_state=42)"
   ]
  },
  {
   "cell_type": "markdown",
   "metadata": {
    "slideshow": {
     "slide_type": "fragment"
    }
   },
   "source": [
    "### Q: What do you expect to happen when you re-run the cell?\n",
    "\n",
    "What actually happens? Why?"
   ]
  },
  {
   "cell_type": "code",
   "execution_count": 22,
   "metadata": {},
   "outputs": [],
   "source": [
    "# The samples returned are the same every time, and that's because the random algorithm isn't truely random; using the same random seed will create the exact same sequence every time. The usual remedy is to use the current timestamp as a random seed."
   ]
  },
  {
   "cell_type": "markdown",
   "metadata": {
    "slideshow": {
     "slide_type": "subslide"
    }
   },
   "source": [
    "### Columns\n",
    "\n",
    "Returns a list of columns in the dataframe"
   ]
  },
  {
   "cell_type": "code",
   "execution_count": 23,
   "metadata": {
    "slideshow": {
     "slide_type": "fragment"
    }
   },
   "outputs": [
    {
     "output_type": "execute_result",
     "data": {
      "text/plain": "Index(['age', 'workclass', 'fnlwgt', 'education', 'education_num',\n       'marital_status', 'occupation', 'relationship', 'ethnicity', 'gender',\n       'capital_gain', 'capital_loss', 'hours_per_week', 'country_of_origin',\n       'income'],\n      dtype='object')"
     },
     "metadata": {},
     "execution_count": 23
    }
   ],
   "source": [
    "# view all columns of the dataframe\n",
    "df.columns"
   ]
  },
  {
   "cell_type": "markdown",
   "metadata": {
    "slideshow": {
     "slide_type": "subslide"
    }
   },
   "source": [
    "### Column Types\n",
    "\n",
    "Returns the type of each column"
   ]
  },
  {
   "cell_type": "code",
   "execution_count": 24,
   "metadata": {
    "slideshow": {
     "slide_type": "fragment"
    }
   },
   "outputs": [
    {
     "output_type": "execute_result",
     "data": {
      "text/plain": "age                   int64\nworkclass            object\nfnlwgt                int64\neducation            object\neducation_num         int64\nmarital_status       object\noccupation           object\nrelationship         object\nethnicity            object\ngender               object\ncapital_gain          int64\ncapital_loss          int64\nhours_per_week        int64\ncountry_of_origin    object\nincome               object\ndtype: object"
     },
     "metadata": {},
     "execution_count": 24
    }
   ],
   "source": [
    "df.dtypes"
   ]
  },
  {
   "cell_type": "markdown",
   "metadata": {
    "slideshow": {
     "slide_type": "slide"
    }
   },
   "source": [
    "## Rename Columns"
   ]
  },
  {
   "cell_type": "code",
   "execution_count": 25,
   "metadata": {
    "slideshow": {
     "slide_type": "fragment"
    }
   },
   "outputs": [
    {
     "output_type": "execute_result",
     "data": {
      "text/plain": "Index(['age', 'workclass', 'fnlwgt', 'education', 'education_num',\n       'marital_status', 'occupation', 'relationship', 'ethnicity', 'gender',\n       'capital_gain', 'capital_loss', 'hours_per_week', 'country_of_origin',\n       'income'],\n      dtype='object')"
     },
     "metadata": {},
     "execution_count": 25
    }
   ],
   "source": [
    "df.columns"
   ]
  },
  {
   "cell_type": "code",
   "execution_count": 26,
   "metadata": {
    "slideshow": {
     "slide_type": "subslide"
    }
   },
   "outputs": [
    {
     "output_type": "execute_result",
     "data": {
      "text/html": "<div>\n<style scoped>\n    .dataframe tbody tr th:only-of-type {\n        vertical-align: middle;\n    }\n\n    .dataframe tbody tr th {\n        vertical-align: top;\n    }\n\n    .dataframe thead th {\n        text-align: right;\n    }\n</style>\n<table border=\"1\" class=\"dataframe\">\n  <thead>\n    <tr style=\"text-align: right;\">\n      <th></th>\n      <th>age</th>\n      <th>workclass</th>\n      <th>fnlwgt</th>\n      <th>education</th>\n      <th>education_num</th>\n      <th>marital_status</th>\n      <th>occupation</th>\n      <th>relationship</th>\n      <th>ethnicity</th>\n      <th>gender</th>\n      <th>capital_gain</th>\n      <th>capital_loss</th>\n      <th>hours_per_week</th>\n      <th>native_country</th>\n      <th>income</th>\n    </tr>\n  </thead>\n  <tbody>\n    <tr>\n      <th>0</th>\n      <td>39</td>\n      <td>State-gov</td>\n      <td>77516</td>\n      <td>Bachelors</td>\n      <td>13</td>\n      <td>Never-married</td>\n      <td>Adm-clerical</td>\n      <td>Not-in-family</td>\n      <td>White</td>\n      <td>Male</td>\n      <td>2174</td>\n      <td>0</td>\n      <td>40</td>\n      <td>United-States</td>\n      <td>&lt;=50K</td>\n    </tr>\n    <tr>\n      <th>1</th>\n      <td>50</td>\n      <td>Self-emp-not-inc</td>\n      <td>83311</td>\n      <td>Bachelors</td>\n      <td>13</td>\n      <td>Married-civ-spouse</td>\n      <td>Exec-managerial</td>\n      <td>Husband</td>\n      <td>White</td>\n      <td>Male</td>\n      <td>0</td>\n      <td>0</td>\n      <td>13</td>\n      <td>United-States</td>\n      <td>&lt;=50K</td>\n    </tr>\n    <tr>\n      <th>2</th>\n      <td>38</td>\n      <td>Private</td>\n      <td>215646</td>\n      <td>HS-grad</td>\n      <td>9</td>\n      <td>Divorced</td>\n      <td>Handlers-cleaners</td>\n      <td>Not-in-family</td>\n      <td>White</td>\n      <td>Male</td>\n      <td>0</td>\n      <td>0</td>\n      <td>40</td>\n      <td>United-States</td>\n      <td>&lt;=50K</td>\n    </tr>\n    <tr>\n      <th>3</th>\n      <td>53</td>\n      <td>Private</td>\n      <td>234721</td>\n      <td>11th</td>\n      <td>7</td>\n      <td>Married-civ-spouse</td>\n      <td>Handlers-cleaners</td>\n      <td>Husband</td>\n      <td>Black</td>\n      <td>Male</td>\n      <td>0</td>\n      <td>0</td>\n      <td>40</td>\n      <td>United-States</td>\n      <td>&lt;=50K</td>\n    </tr>\n    <tr>\n      <th>4</th>\n      <td>28</td>\n      <td>Private</td>\n      <td>338409</td>\n      <td>Bachelors</td>\n      <td>13</td>\n      <td>Married-civ-spouse</td>\n      <td>Prof-specialty</td>\n      <td>Wife</td>\n      <td>Black</td>\n      <td>Female</td>\n      <td>0</td>\n      <td>0</td>\n      <td>40</td>\n      <td>Cuba</td>\n      <td>&lt;=50K</td>\n    </tr>\n  </tbody>\n</table>\n</div>",
      "text/plain": "   age          workclass  fnlwgt   education  education_num  \\\n0   39          State-gov   77516   Bachelors             13   \n1   50   Self-emp-not-inc   83311   Bachelors             13   \n2   38            Private  215646     HS-grad              9   \n3   53            Private  234721        11th              7   \n4   28            Private  338409   Bachelors             13   \n\n        marital_status          occupation    relationship ethnicity   gender  \\\n0        Never-married        Adm-clerical   Not-in-family     White     Male   \n1   Married-civ-spouse     Exec-managerial         Husband     White     Male   \n2             Divorced   Handlers-cleaners   Not-in-family     White     Male   \n3   Married-civ-spouse   Handlers-cleaners         Husband     Black     Male   \n4   Married-civ-spouse      Prof-specialty            Wife     Black   Female   \n\n   capital_gain  capital_loss  hours_per_week  native_country  income  \n0          2174             0              40   United-States   <=50K  \n1             0             0              13   United-States   <=50K  \n2             0             0              40   United-States   <=50K  \n3             0             0              40   United-States   <=50K  \n4             0             0              40            Cuba   <=50K  "
     },
     "metadata": {},
     "execution_count": 26
    }
   ],
   "source": [
    "# replace a column name\n",
    "df.rename(columns={'country_of_origin': 'native_country'}, inplace=True)\n",
    "df.head()"
   ]
  },
  {
   "cell_type": "markdown",
   "metadata": {},
   "source": [
    "### Q: What does `in_place` do above?"
   ]
  },
  {
   "cell_type": "code",
   "execution_count": null,
   "metadata": {},
   "outputs": [],
   "source": [
    "# Setting this to true writes the change of column name into the dataframe; setting it false will instead return a copy with the renamed column"
   ]
  },
  {
   "cell_type": "markdown",
   "metadata": {
    "slideshow": {
     "slide_type": "subslide"
    }
   },
   "source": [
    "## Descriptives \n",
    "\n",
    "* .describe()\n",
    "* .value_counts()\n",
    "* .mean()\n",
    "* .unique()"
   ]
  },
  {
   "cell_type": "markdown",
   "metadata": {
    "slideshow": {
     "slide_type": "subslide"
    }
   },
   "source": [
    "### describe\n",
    "\n",
    "Displays summary statistic for each numerical column"
   ]
  },
  {
   "cell_type": "code",
   "execution_count": 27,
   "metadata": {
    "slideshow": {
     "slide_type": "fragment"
    }
   },
   "outputs": [
    {
     "output_type": "execute_result",
     "data": {
      "text/html": "<div>\n<style scoped>\n    .dataframe tbody tr th:only-of-type {\n        vertical-align: middle;\n    }\n\n    .dataframe tbody tr th {\n        vertical-align: top;\n    }\n\n    .dataframe thead th {\n        text-align: right;\n    }\n</style>\n<table border=\"1\" class=\"dataframe\">\n  <thead>\n    <tr style=\"text-align: right;\">\n      <th></th>\n      <th>age</th>\n      <th>fnlwgt</th>\n      <th>education_num</th>\n      <th>capital_gain</th>\n      <th>capital_loss</th>\n      <th>hours_per_week</th>\n    </tr>\n  </thead>\n  <tbody>\n    <tr>\n      <th>count</th>\n      <td>32561.000</td>\n      <td>3.256e+04</td>\n      <td>32561.000</td>\n      <td>32561.000</td>\n      <td>32561.000</td>\n      <td>32561.000</td>\n    </tr>\n    <tr>\n      <th>mean</th>\n      <td>38.582</td>\n      <td>1.898e+05</td>\n      <td>10.081</td>\n      <td>1077.649</td>\n      <td>87.304</td>\n      <td>40.437</td>\n    </tr>\n    <tr>\n      <th>std</th>\n      <td>13.640</td>\n      <td>1.055e+05</td>\n      <td>2.573</td>\n      <td>7385.292</td>\n      <td>402.960</td>\n      <td>12.347</td>\n    </tr>\n    <tr>\n      <th>min</th>\n      <td>17.000</td>\n      <td>1.228e+04</td>\n      <td>1.000</td>\n      <td>0.000</td>\n      <td>0.000</td>\n      <td>1.000</td>\n    </tr>\n    <tr>\n      <th>25%</th>\n      <td>28.000</td>\n      <td>1.178e+05</td>\n      <td>9.000</td>\n      <td>0.000</td>\n      <td>0.000</td>\n      <td>40.000</td>\n    </tr>\n    <tr>\n      <th>50%</th>\n      <td>37.000</td>\n      <td>1.784e+05</td>\n      <td>10.000</td>\n      <td>0.000</td>\n      <td>0.000</td>\n      <td>40.000</td>\n    </tr>\n    <tr>\n      <th>75%</th>\n      <td>48.000</td>\n      <td>2.371e+05</td>\n      <td>12.000</td>\n      <td>0.000</td>\n      <td>0.000</td>\n      <td>45.000</td>\n    </tr>\n    <tr>\n      <th>max</th>\n      <td>90.000</td>\n      <td>1.485e+06</td>\n      <td>16.000</td>\n      <td>99999.000</td>\n      <td>4356.000</td>\n      <td>99.000</td>\n    </tr>\n  </tbody>\n</table>\n</div>",
      "text/plain": "             age     fnlwgt  education_num  capital_gain  capital_loss  \\\ncount  32561.000  3.256e+04      32561.000     32561.000     32561.000   \nmean      38.582  1.898e+05         10.081      1077.649        87.304   \nstd       13.640  1.055e+05          2.573      7385.292       402.960   \nmin       17.000  1.228e+04          1.000         0.000         0.000   \n25%       28.000  1.178e+05          9.000         0.000         0.000   \n50%       37.000  1.784e+05         10.000         0.000         0.000   \n75%       48.000  2.371e+05         12.000         0.000         0.000   \nmax       90.000  1.485e+06         16.000     99999.000      4356.000   \n\n       hours_per_week  \ncount       32561.000  \nmean           40.437  \nstd            12.347  \nmin             1.000  \n25%            40.000  \n50%            40.000  \n75%            45.000  \nmax            99.000  "
     },
     "metadata": {},
     "execution_count": 27
    }
   ],
   "source": [
    "df.describe()"
   ]
  },
  {
   "cell_type": "markdown",
   "metadata": {
    "slideshow": {
     "slide_type": "subslide"
    }
   },
   "source": [
    "### value_counts\n",
    "\n",
    "Counts the number of occurrences of each categorical value for the column"
   ]
  },
  {
   "cell_type": "code",
   "execution_count": 28,
   "metadata": {
    "slideshow": {
     "slide_type": "fragment"
    }
   },
   "outputs": [
    {
     "output_type": "execute_result",
     "data": {
      "text/plain": "0          Bachelors\n1          Bachelors\n2            HS-grad\n3               11th\n4          Bachelors\n            ...     \n32556     Assoc-acdm\n32557        HS-grad\n32558        HS-grad\n32559        HS-grad\n32560        HS-grad\nName: education, Length: 32561, dtype: object"
     },
     "metadata": {},
     "execution_count": 28
    }
   ],
   "source": [
    "df['education']"
   ]
  },
  {
   "cell_type": "code",
   "execution_count": 29,
   "metadata": {
    "slideshow": {
     "slide_type": "subslide"
    }
   },
   "outputs": [
    {
     "output_type": "execute_result",
     "data": {
      "text/plain": "pandas.core.series.Series"
     },
     "metadata": {},
     "execution_count": 29
    }
   ],
   "source": [
    "type(df.education)"
   ]
  },
  {
   "cell_type": "code",
   "execution_count": 30,
   "metadata": {
    "slideshow": {
     "slide_type": "fragment"
    }
   },
   "outputs": [
    {
     "output_type": "execute_result",
     "data": {
      "text/plain": " HS-grad         10501\n Some-college     7291\n Bachelors        5355\n Masters          1723\n Assoc-voc        1382\n 11th             1175\n Assoc-acdm       1067\n 10th              933\n 7th-8th           646\n Prof-school       576\n 9th               514\n 12th              433\n Doctorate         413\n 5th-6th           333\n 1st-4th           168\n Preschool          51\nName: education, dtype: int64"
     },
     "metadata": {},
     "execution_count": 30
    }
   ],
   "source": [
    "df.education.value_counts()\n",
    "\n",
    "## Also works for numeric columns - treating the individual values as factors"
   ]
  },
  {
   "cell_type": "code",
   "execution_count": 31,
   "metadata": {
    "slideshow": {
     "slide_type": "fragment"
    }
   },
   "outputs": [
    {
     "output_type": "execute_result",
     "data": {
      "text/plain": "pandas.core.series.Series"
     },
     "metadata": {},
     "execution_count": 31
    }
   ],
   "source": [
    "type(df.education.value_counts())"
   ]
  },
  {
   "cell_type": "code",
   "execution_count": 33,
   "metadata": {
    "slideshow": {
     "slide_type": "subslide"
    }
   },
   "outputs": [
    {
     "output_type": "execute_result",
     "data": {
      "text/plain": "<matplotlib.axes._subplots.AxesSubplot at 0x7f0384d90c18>"
     },
     "metadata": {},
     "execution_count": 33
    },
    {
     "output_type": "display_data",
     "data": {
      "image/png": "[encoded data removed]",
      "text/plain": "<Figure size 432x288 with 1 Axes>",
      "image/svg+xml": "<?xml version=\"1.0\" encoding=\"utf-8\" standalone=\"no\"?>\n<!DOCTYPE svg PUBLIC \"-//W3C//DTD SVG 1.1//EN\"\n  \"http://www.w3.org/Graphics/SVG/1.1/DTD/svg11.dtd\">\n<!-- Created with matplotlib (https://matplotlib.org/) -->\n<svg height=\"248.518125pt\" version=\"1.1\" viewBox=\"0 0 427.175 248.518125\" width=\"427.175pt\" xmlns=\"http://www.w3.org/2000/svg\" xmlns:xlink=\"http://www.w3.org/1999/xlink\">\n <defs>\n  <style type=\"text/css\">\n*{stroke-linecap:butt;stroke-linejoin:round;}\n  </style>\n </defs>\n <g id=\"figure_1\">\n  <g id=\"patch_1\">\n   <path d=\"M -0 248.518125 \nL 427.175 248.518125 \nL 427.175 0 \nL -0 0 \nz\n\" style=\"fill:none;\"/>\n  </g>\n  <g id=\"axes_1\">\n   <g id=\"patch_2\">\n    <path d=\"M 85.175 224.64 \nL 419.975 224.64 \nL 419.975 7.2 \nL 85.175 7.2 \nz\n\" style=\"fill:#ffffff;\"/>\n   </g>\n   <g id=\"patch_3\">\n    <path clip-path=\"url(#p7355b58fc9)\" d=\"M 85.175 221.2425 \nL 404.032143 221.2425 \nL 404.032143 214.4475 \nL 85.175 214.4475 \nz\n\" style=\"fill:#1f77b4;\"/>\n   </g>\n   <g id=\"patch_4\">\n    <path clip-path=\"url(#p7355b58fc9)\" d=\"M 85.175 207.6525 \nL 306.562242 207.6525 \nL 306.562242 200.8575 \nL 85.175 200.8575 \nz\n\" style=\"fill:#1f77b4;\"/>\n   </g>\n   <g id=\"patch_5\">\n    <path clip-path=\"url(#p7355b58fc9)\" d=\"M 85.175 194.0625 \nL 247.776657 194.0625 \nL 247.776657 187.2675 \nL 85.175 187.2675 \nz\n\" style=\"fill:#1f77b4;\"/>\n   </g>\n   <g id=\"patch_6\">\n    <path clip-path=\"url(#p7355b58fc9)\" d=\"M 85.175 180.4725 \nL 137.492956 180.4725 \nL 137.492956 173.6775 \nL 85.175 173.6775 \nz\n\" style=\"fill:#1f77b4;\"/>\n   </g>\n   <g id=\"patch_7\">\n    <path clip-path=\"url(#p7355b58fc9)\" d=\"M 85.175 166.8825 \nL 127.138677 166.8825 \nL 127.138677 160.0875 \nL 85.175 160.0875 \nz\n\" style=\"fill:#1f77b4;\"/>\n   </g>\n   <g id=\"patch_8\">\n    <path clip-path=\"url(#p7355b58fc9)\" d=\"M 85.175 153.2925 \nL 120.853235 153.2925 \nL 120.853235 146.4975 \nL 85.175 146.4975 \nz\n\" style=\"fill:#1f77b4;\"/>\n   </g>\n   <g id=\"patch_9\">\n    <path clip-path=\"url(#p7355b58fc9)\" d=\"M 85.175 139.7025 \nL 117.573874 139.7025 \nL 117.573874 132.9075 \nL 85.175 132.9075 \nz\n\" style=\"fill:#1f77b4;\"/>\n   </g>\n   <g id=\"patch_10\">\n    <path clip-path=\"url(#p7355b58fc9)\" d=\"M 85.175 126.1125 \nL 113.505037 126.1125 \nL 113.505037 119.3175 \nL 85.175 119.3175 \nz\n\" style=\"fill:#1f77b4;\"/>\n   </g>\n   <g id=\"patch_11\">\n    <path clip-path=\"url(#p7355b58fc9)\" d=\"M 85.175 112.5225 \nL 104.790438 112.5225 \nL 104.790438 105.7275 \nL 85.175 105.7275 \nz\n\" style=\"fill:#1f77b4;\"/>\n   </g>\n   <g id=\"patch_12\">\n    <path clip-path=\"url(#p7355b58fc9)\" d=\"M 85.175 98.9325 \nL 102.664926 98.9325 \nL 102.664926 92.1375 \nL 85.175 92.1375 \nz\n\" style=\"fill:#1f77b4;\"/>\n   </g>\n   <g id=\"patch_13\">\n    <path clip-path=\"url(#p7355b58fc9)\" d=\"M 85.175 85.3425 \nL 100.78233 85.3425 \nL 100.78233 78.5475 \nL 85.175 78.5475 \nz\n\" style=\"fill:#1f77b4;\"/>\n   </g>\n   <g id=\"patch_14\">\n    <path clip-path=\"url(#p7355b58fc9)\" d=\"M 85.175 71.7525 \nL 98.322809 71.7525 \nL 98.322809 64.9575 \nL 85.175 64.9575 \nz\n\" style=\"fill:#1f77b4;\"/>\n   </g>\n   <g id=\"patch_15\">\n    <path clip-path=\"url(#p7355b58fc9)\" d=\"M 85.175 58.1625 \nL 97.71552 58.1625 \nL 97.71552 51.3675 \nL 85.175 51.3675 \nz\n\" style=\"fill:#1f77b4;\"/>\n   </g>\n   <g id=\"patch_16\">\n    <path clip-path=\"url(#p7355b58fc9)\" d=\"M 85.175 44.5725 \nL 95.286364 44.5725 \nL 95.286364 37.7775 \nL 85.175 37.7775 \nz\n\" style=\"fill:#1f77b4;\"/>\n   </g>\n   <g id=\"patch_17\">\n    <path clip-path=\"url(#p7355b58fc9)\" d=\"M 85.175 30.9825 \nL 90.276228 30.9825 \nL 90.276228 24.1875 \nL 85.175 24.1875 \nz\n\" style=\"fill:#1f77b4;\"/>\n   </g>\n   <g id=\"patch_18\">\n    <path clip-path=\"url(#p7355b58fc9)\" d=\"M 85.175 17.3925 \nL 86.723587 17.3925 \nL 86.723587 10.5975 \nL 85.175 10.5975 \nz\n\" style=\"fill:#1f77b4;\"/>\n   </g>\n   <g id=\"matplotlib.axis_1\">\n    <g id=\"xtick_1\">\n     <g id=\"line2d_1\">\n      <defs>\n       <path d=\"M 0 0 \nL 0 3.5 \n\" id=\"m3c57ffaacb\" style=\"stroke:#000000;stroke-width:0.8;\"/>\n      </defs>\n      <g>\n       <use style=\"stroke:#000000;stroke-width:0.8;\" x=\"85.175\" xlink:href=\"#m3c57ffaacb\" y=\"224.64\"/>\n      </g>\n     </g>\n     <g id=\"text_1\">\n      <!-- 0 -->\n      <defs>\n       <path d=\"M 31.78125 66.40625 \nQ 24.171875 66.40625 20.328125 58.90625 \nQ 16.5 51.421875 16.5 36.375 \nQ 16.5 21.390625 20.328125 13.890625 \nQ 24.171875 6.390625 31.78125 6.390625 \nQ 39.453125 6.390625 43.28125 13.890625 \nQ 47.125 21.390625 47.125 36.375 \nQ 47.125 51.421875 43.28125 58.90625 \nQ 39.453125 66.40625 31.78125 66.40625 \nz\nM 31.78125 74.21875 \nQ 44.046875 74.21875 50.515625 64.515625 \nQ 56.984375 54.828125 56.984375 36.375 \nQ 56.984375 17.96875 50.515625 8.265625 \nQ 44.046875 -1.421875 31.78125 -1.421875 \nQ 19.53125 -1.421875 13.0625 8.265625 \nQ 6.59375 17.96875 6.59375 36.375 \nQ 6.59375 54.828125 13.0625 64.515625 \nQ 19.53125 74.21875 31.78125 74.21875 \nz\n\" id=\"DejaVuSans-48\"/>\n      </defs>\n      <g transform=\"translate(81.99375 239.238437)scale(0.1 -0.1)\">\n       <use xlink:href=\"#DejaVuSans-48\"/>\n      </g>\n     </g>\n    </g>\n    <g id=\"xtick_2\">\n     <g id=\"line2d_2\">\n      <g>\n       <use style=\"stroke:#000000;stroke-width:0.8;\" x=\"145.90391\" xlink:href=\"#m3c57ffaacb\" y=\"224.64\"/>\n      </g>\n     </g>\n     <g id=\"text_2\">\n      <!-- 2000 -->\n      <defs>\n       <path d=\"M 19.1875 8.296875 \nL 53.609375 8.296875 \nL 53.609375 0 \nL 7.328125 0 \nL 7.328125 8.296875 \nQ 12.9375 14.109375 22.625 23.890625 \nQ 32.328125 33.6875 34.8125 36.53125 \nQ 39.546875 41.84375 41.421875 45.53125 \nQ 43.3125 49.21875 43.3125 52.78125 \nQ 43.3125 58.59375 39.234375 62.25 \nQ 35.15625 65.921875 28.609375 65.921875 \nQ 23.96875 65.921875 18.8125 64.3125 \nQ 13.671875 62.703125 7.8125 59.421875 \nL 7.8125 69.390625 \nQ 13.765625 71.78125 18.9375 73 \nQ 24.125 74.21875 28.421875 74.21875 \nQ 39.75 74.21875 46.484375 68.546875 \nQ 53.21875 62.890625 53.21875 53.421875 \nQ 53.21875 48.921875 51.53125 44.890625 \nQ 49.859375 40.875 45.40625 35.40625 \nQ 44.1875 33.984375 37.640625 27.21875 \nQ 31.109375 20.453125 19.1875 8.296875 \nz\n\" id=\"DejaVuSans-50\"/>\n      </defs>\n      <g transform=\"translate(133.17891 239.238437)scale(0.1 -0.1)\">\n       <use xlink:href=\"#DejaVuSans-50\"/>\n       <use x=\"63.623047\" xlink:href=\"#DejaVuSans-48\"/>\n       <use x=\"127.246094\" xlink:href=\"#DejaVuSans-48\"/>\n       <use x=\"190.869141\" xlink:href=\"#DejaVuSans-48\"/>\n      </g>\n     </g>\n    </g>\n    <g id=\"xtick_3\">\n     <g id=\"line2d_3\">\n      <g>\n       <use style=\"stroke:#000000;stroke-width:0.8;\" x=\"206.63282\" xlink:href=\"#m3c57ffaacb\" y=\"224.64\"/>\n      </g>\n     </g>\n     <g id=\"text_3\">\n      <!-- 4000 -->\n      <defs>\n       <path d=\"M 37.796875 64.3125 \nL 12.890625 25.390625 \nL 37.796875 25.390625 \nz\nM 35.203125 72.90625 \nL 47.609375 72.90625 \nL 47.609375 25.390625 \nL 58.015625 25.390625 \nL 58.015625 17.1875 \nL 47.609375 17.1875 \nL 47.609375 0 \nL 37.796875 0 \nL 37.796875 17.1875 \nL 4.890625 17.1875 \nL 4.890625 26.703125 \nz\n\" id=\"DejaVuSans-52\"/>\n      </defs>\n      <g transform=\"translate(193.90782 239.238437)scale(0.1 -0.1)\">\n       <use xlink:href=\"#DejaVuSans-52\"/>\n       <use x=\"63.623047\" xlink:href=\"#DejaVuSans-48\"/>\n       <use x=\"127.246094\" xlink:href=\"#DejaVuSans-48\"/>\n       <use x=\"190.869141\" xlink:href=\"#DejaVuSans-48\"/>\n      </g>\n     </g>\n    </g>\n    <g id=\"xtick_4\">\n     <g id=\"line2d_4\">\n      <g>\n       <use style=\"stroke:#000000;stroke-width:0.8;\" x=\"267.361731\" xlink:href=\"#m3c57ffaacb\" y=\"224.64\"/>\n      </g>\n     </g>\n     <g id=\"text_4\">\n      <!-- 6000 -->\n      <defs>\n       <path d=\"M 33.015625 40.375 \nQ 26.375 40.375 22.484375 35.828125 \nQ 18.609375 31.296875 18.609375 23.390625 \nQ 18.609375 15.53125 22.484375 10.953125 \nQ 26.375 6.390625 33.015625 6.390625 \nQ 39.65625 6.390625 43.53125 10.953125 \nQ 47.40625 15.53125 47.40625 23.390625 \nQ 47.40625 31.296875 43.53125 35.828125 \nQ 39.65625 40.375 33.015625 40.375 \nz\nM 52.59375 71.296875 \nL 52.59375 62.3125 \nQ 48.875 64.0625 45.09375 64.984375 \nQ 41.3125 65.921875 37.59375 65.921875 \nQ 27.828125 65.921875 22.671875 59.328125 \nQ 17.53125 52.734375 16.796875 39.40625 \nQ 19.671875 43.65625 24.015625 45.921875 \nQ 28.375 48.1875 33.59375 48.1875 \nQ 44.578125 48.1875 50.953125 41.515625 \nQ 57.328125 34.859375 57.328125 23.390625 \nQ 57.328125 12.15625 50.6875 5.359375 \nQ 44.046875 -1.421875 33.015625 -1.421875 \nQ 20.359375 -1.421875 13.671875 8.265625 \nQ 6.984375 17.96875 6.984375 36.375 \nQ 6.984375 53.65625 15.1875 63.9375 \nQ 23.390625 74.21875 37.203125 74.21875 \nQ 40.921875 74.21875 44.703125 73.484375 \nQ 48.484375 72.75 52.59375 71.296875 \nz\n\" id=\"DejaVuSans-54\"/>\n      </defs>\n      <g transform=\"translate(254.636731 239.238437)scale(0.1 -0.1)\">\n       <use xlink:href=\"#DejaVuSans-54\"/>\n       <use x=\"63.623047\" xlink:href=\"#DejaVuSans-48\"/>\n       <use x=\"127.246094\" xlink:href=\"#DejaVuSans-48\"/>\n       <use x=\"190.869141\" xlink:href=\"#DejaVuSans-48\"/>\n      </g>\n     </g>\n    </g>\n    <g id=\"xtick_5\">\n     <g id=\"line2d_5\">\n      <g>\n       <use style=\"stroke:#000000;stroke-width:0.8;\" x=\"328.090641\" xlink:href=\"#m3c57ffaacb\" y=\"224.64\"/>\n      </g>\n     </g>\n     <g id=\"text_5\">\n      <!-- 8000 -->\n      <defs>\n       <path d=\"M 31.78125 34.625 \nQ 24.75 34.625 20.71875 30.859375 \nQ 16.703125 27.09375 16.703125 20.515625 \nQ 16.703125 13.921875 20.71875 10.15625 \nQ 24.75 6.390625 31.78125 6.390625 \nQ 38.8125 6.390625 42.859375 10.171875 \nQ 46.921875 13.96875 46.921875 20.515625 \nQ 46.921875 27.09375 42.890625 30.859375 \nQ 38.875 34.625 31.78125 34.625 \nz\nM 21.921875 38.8125 \nQ 15.578125 40.375 12.03125 44.71875 \nQ 8.5 49.078125 8.5 55.328125 \nQ 8.5 64.0625 14.71875 69.140625 \nQ 20.953125 74.21875 31.78125 74.21875 \nQ 42.671875 74.21875 48.875 69.140625 \nQ 55.078125 64.0625 55.078125 55.328125 \nQ 55.078125 49.078125 51.53125 44.71875 \nQ 48 40.375 41.703125 38.8125 \nQ 48.828125 37.15625 52.796875 32.3125 \nQ 56.78125 27.484375 56.78125 20.515625 \nQ 56.78125 9.90625 50.3125 4.234375 \nQ 43.84375 -1.421875 31.78125 -1.421875 \nQ 19.734375 -1.421875 13.25 4.234375 \nQ 6.78125 9.90625 6.78125 20.515625 \nQ 6.78125 27.484375 10.78125 32.3125 \nQ 14.796875 37.15625 21.921875 38.8125 \nz\nM 18.3125 54.390625 \nQ 18.3125 48.734375 21.84375 45.5625 \nQ 25.390625 42.390625 31.78125 42.390625 \nQ 38.140625 42.390625 41.71875 45.5625 \nQ 45.3125 48.734375 45.3125 54.390625 \nQ 45.3125 60.0625 41.71875 63.234375 \nQ 38.140625 66.40625 31.78125 66.40625 \nQ 25.390625 66.40625 21.84375 63.234375 \nQ 18.3125 60.0625 18.3125 54.390625 \nz\n\" id=\"DejaVuSans-56\"/>\n      </defs>\n      <g transform=\"translate(315.365641 239.238437)scale(0.1 -0.1)\">\n       <use xlink:href=\"#DejaVuSans-56\"/>\n       <use x=\"63.623047\" xlink:href=\"#DejaVuSans-48\"/>\n       <use x=\"127.246094\" xlink:href=\"#DejaVuSans-48\"/>\n       <use x=\"190.869141\" xlink:href=\"#DejaVuSans-48\"/>\n      </g>\n     </g>\n    </g>\n    <g id=\"xtick_6\">\n     <g id=\"line2d_6\">\n      <g>\n       <use style=\"stroke:#000000;stroke-width:0.8;\" x=\"388.819551\" xlink:href=\"#m3c57ffaacb\" y=\"224.64\"/>\n      </g>\n     </g>\n     <g id=\"text_6\">\n      <!-- 10000 -->\n      <defs>\n       <path d=\"M 12.40625 8.296875 \nL 28.515625 8.296875 \nL 28.515625 63.921875 \nL 10.984375 60.40625 \nL 10.984375 69.390625 \nL 28.421875 72.90625 \nL 38.28125 72.90625 \nL 38.28125 8.296875 \nL 54.390625 8.296875 \nL 54.390625 0 \nL 12.40625 0 \nz\n\" id=\"DejaVuSans-49\"/>\n      </defs>\n      <g transform=\"translate(372.913301 239.238437)scale(0.1 -0.1)\">\n       <use xlink:href=\"#DejaVuSans-49\"/>\n       <use x=\"63.623047\" xlink:href=\"#DejaVuSans-48\"/>\n       <use x=\"127.246094\" xlink:href=\"#DejaVuSans-48\"/>\n       <use x=\"190.869141\" xlink:href=\"#DejaVuSans-48\"/>\n       <use x=\"254.492188\" xlink:href=\"#DejaVuSans-48\"/>\n      </g>\n     </g>\n    </g>\n   </g>\n   <g id=\"matplotlib.axis_2\">\n    <g id=\"ytick_1\">\n     <g id=\"line2d_7\">\n      <defs>\n       <path d=\"M 0 0 \nL -3.5 0 \n\" id=\"m1dd6d56fca\" style=\"stroke:#000000;stroke-width:0.8;\"/>\n      </defs>\n      <g>\n       <use style=\"stroke:#000000;stroke-width:0.8;\" x=\"85.175\" xlink:href=\"#m1dd6d56fca\" y=\"217.845\"/>\n      </g>\n     </g>\n     <g id=\"text_7\">\n      <!--  HS-grad -->\n      <defs>\n       <path id=\"DejaVuSans-32\"/>\n       <path d=\"M 9.8125 72.90625 \nL 19.671875 72.90625 \nL 19.671875 43.015625 \nL 55.515625 43.015625 \nL 55.515625 72.90625 \nL 65.375 72.90625 \nL 65.375 0 \nL 55.515625 0 \nL 55.515625 34.71875 \nL 19.671875 34.71875 \nL 19.671875 0 \nL 9.8125 0 \nz\n\" id=\"DejaVuSans-72\"/>\n       <path d=\"M 53.515625 70.515625 \nL 53.515625 60.890625 \nQ 47.90625 63.578125 42.921875 64.890625 \nQ 37.9375 66.21875 33.296875 66.21875 \nQ 25.25 66.21875 20.875 63.09375 \nQ 16.5 59.96875 16.5 54.203125 \nQ 16.5 49.359375 19.40625 46.890625 \nQ 22.3125 44.4375 30.421875 42.921875 \nL 36.375 41.703125 \nQ 47.40625 39.59375 52.65625 34.296875 \nQ 57.90625 29 57.90625 20.125 \nQ 57.90625 9.515625 50.796875 4.046875 \nQ 43.703125 -1.421875 29.984375 -1.421875 \nQ 24.8125 -1.421875 18.96875 -0.25 \nQ 13.140625 0.921875 6.890625 3.21875 \nL 6.890625 13.375 \nQ 12.890625 10.015625 18.65625 8.296875 \nQ 24.421875 6.59375 29.984375 6.59375 \nQ 38.421875 6.59375 43.015625 9.90625 \nQ 47.609375 13.234375 47.609375 19.390625 \nQ 47.609375 24.75 44.3125 27.78125 \nQ 41.015625 30.8125 33.5 32.328125 \nL 27.484375 33.5 \nQ 16.453125 35.6875 11.515625 40.375 \nQ 6.59375 45.0625 6.59375 53.421875 \nQ 6.59375 63.09375 13.40625 68.65625 \nQ 20.21875 74.21875 32.171875 74.21875 \nQ 37.3125 74.21875 42.625 73.28125 \nQ 47.953125 72.359375 53.515625 70.515625 \nz\n\" id=\"DejaVuSans-83\"/>\n       <path d=\"M 4.890625 31.390625 \nL 31.203125 31.390625 \nL 31.203125 23.390625 \nL 4.890625 23.390625 \nz\n\" id=\"DejaVuSans-45\"/>\n       <path d=\"M 45.40625 27.984375 \nQ 45.40625 37.75 41.375 43.109375 \nQ 37.359375 48.484375 30.078125 48.484375 \nQ 22.859375 48.484375 18.828125 43.109375 \nQ 14.796875 37.75 14.796875 27.984375 \nQ 14.796875 18.265625 18.828125 12.890625 \nQ 22.859375 7.515625 30.078125 7.515625 \nQ 37.359375 7.515625 41.375 12.890625 \nQ 45.40625 18.265625 45.40625 27.984375 \nz\nM 54.390625 6.78125 \nQ 54.390625 -7.171875 48.1875 -13.984375 \nQ 42 -20.796875 29.203125 -20.796875 \nQ 24.46875 -20.796875 20.265625 -20.09375 \nQ 16.0625 -19.390625 12.109375 -17.921875 \nL 12.109375 -9.1875 \nQ 16.0625 -11.328125 19.921875 -12.34375 \nQ 23.78125 -13.375 27.78125 -13.375 \nQ 36.625 -13.375 41.015625 -8.765625 \nQ 45.40625 -4.15625 45.40625 5.171875 \nL 45.40625 9.625 \nQ 42.625 4.78125 38.28125 2.390625 \nQ 33.9375 0 27.875 0 \nQ 17.828125 0 11.671875 7.65625 \nQ 5.515625 15.328125 5.515625 27.984375 \nQ 5.515625 40.671875 11.671875 48.328125 \nQ 17.828125 56 27.875 56 \nQ 33.9375 56 38.28125 53.609375 \nQ 42.625 51.21875 45.40625 46.390625 \nL 45.40625 54.6875 \nL 54.390625 54.6875 \nz\n\" id=\"DejaVuSans-103\"/>\n       <path d=\"M 41.109375 46.296875 \nQ 39.59375 47.171875 37.8125 47.578125 \nQ 36.03125 48 33.890625 48 \nQ 26.265625 48 22.1875 43.046875 \nQ 18.109375 38.09375 18.109375 28.8125 \nL 18.109375 0 \nL 9.078125 0 \nL 9.078125 54.6875 \nL 18.109375 54.6875 \nL 18.109375 46.1875 \nQ 20.953125 51.171875 25.484375 53.578125 \nQ 30.03125 56 36.53125 56 \nQ 37.453125 56 38.578125 55.875 \nQ 39.703125 55.765625 41.0625 55.515625 \nz\n\" id=\"DejaVuSans-114\"/>\n       <path d=\"M 34.28125 27.484375 \nQ 23.390625 27.484375 19.1875 25 \nQ 14.984375 22.515625 14.984375 16.5 \nQ 14.984375 11.71875 18.140625 8.90625 \nQ 21.296875 6.109375 26.703125 6.109375 \nQ 34.1875 6.109375 38.703125 11.40625 \nQ 43.21875 16.703125 43.21875 25.484375 \nL 43.21875 27.484375 \nz\nM 52.203125 31.203125 \nL 52.203125 0 \nL 43.21875 0 \nL 43.21875 8.296875 \nQ 40.140625 3.328125 35.546875 0.953125 \nQ 30.953125 -1.421875 24.3125 -1.421875 \nQ 15.921875 -1.421875 10.953125 3.296875 \nQ 6 8.015625 6 15.921875 \nQ 6 25.140625 12.171875 29.828125 \nQ 18.359375 34.515625 30.609375 34.515625 \nL 43.21875 34.515625 \nL 43.21875 35.40625 \nQ 43.21875 41.609375 39.140625 45 \nQ 35.0625 48.390625 27.6875 48.390625 \nQ 23 48.390625 18.546875 47.265625 \nQ 14.109375 46.140625 10.015625 43.890625 \nL 10.015625 52.203125 \nQ 14.9375 54.109375 19.578125 55.046875 \nQ 24.21875 56 28.609375 56 \nQ 40.484375 56 46.34375 49.84375 \nQ 52.203125 43.703125 52.203125 31.203125 \nz\n\" id=\"DejaVuSans-97\"/>\n       <path d=\"M 45.40625 46.390625 \nL 45.40625 75.984375 \nL 54.390625 75.984375 \nL 54.390625 0 \nL 45.40625 0 \nL 45.40625 8.203125 \nQ 42.578125 3.328125 38.25 0.953125 \nQ 33.9375 -1.421875 27.875 -1.421875 \nQ 17.96875 -1.421875 11.734375 6.484375 \nQ 5.515625 14.40625 5.515625 27.296875 \nQ 5.515625 40.1875 11.734375 48.09375 \nQ 17.96875 56 27.875 56 \nQ 33.9375 56 38.25 53.625 \nQ 42.578125 51.265625 45.40625 46.390625 \nz\nM 14.796875 27.296875 \nQ 14.796875 17.390625 18.875 11.75 \nQ 22.953125 6.109375 30.078125 6.109375 \nQ 37.203125 6.109375 41.296875 11.75 \nQ 45.40625 17.390625 45.40625 27.296875 \nQ 45.40625 37.203125 41.296875 42.84375 \nQ 37.203125 48.484375 30.078125 48.484375 \nQ 22.953125 48.484375 18.875 42.84375 \nQ 14.796875 37.203125 14.796875 27.296875 \nz\n\" id=\"DejaVuSans-100\"/>\n      </defs>\n      <g transform=\"translate(34.584375 221.644219)scale(0.1 -0.1)\">\n       <use xlink:href=\"#DejaVuSans-32\"/>\n       <use x=\"31.787109\" xlink:href=\"#DejaVuSans-72\"/>\n       <use x=\"106.982422\" xlink:href=\"#DejaVuSans-83\"/>\n       <use x=\"170.458984\" xlink:href=\"#DejaVuSans-45\"/>\n       <use x=\"206.542969\" xlink:href=\"#DejaVuSans-103\"/>\n       <use x=\"270.019531\" xlink:href=\"#DejaVuSans-114\"/>\n       <use x=\"311.132812\" xlink:href=\"#DejaVuSans-97\"/>\n       <use x=\"372.412109\" xlink:href=\"#DejaVuSans-100\"/>\n      </g>\n     </g>\n    </g>\n    <g id=\"ytick_2\">\n     <g id=\"line2d_8\">\n      <g>\n       <use style=\"stroke:#000000;stroke-width:0.8;\" x=\"85.175\" xlink:href=\"#m1dd6d56fca\" y=\"204.255\"/>\n      </g>\n     </g>\n     <g id=\"text_8\">\n      <!--  Some-college -->\n      <defs>\n       <path d=\"M 30.609375 48.390625 \nQ 23.390625 48.390625 19.1875 42.75 \nQ 14.984375 37.109375 14.984375 27.296875 \nQ 14.984375 17.484375 19.15625 11.84375 \nQ 23.34375 6.203125 30.609375 6.203125 \nQ 37.796875 6.203125 41.984375 11.859375 \nQ 46.1875 17.53125 46.1875 27.296875 \nQ 46.1875 37.015625 41.984375 42.703125 \nQ 37.796875 48.390625 30.609375 48.390625 \nz\nM 30.609375 56 \nQ 42.328125 56 49.015625 48.375 \nQ 55.71875 40.765625 55.71875 27.296875 \nQ 55.71875 13.875 49.015625 6.21875 \nQ 42.328125 -1.421875 30.609375 -1.421875 \nQ 18.84375 -1.421875 12.171875 6.21875 \nQ 5.515625 13.875 5.515625 27.296875 \nQ 5.515625 40.765625 12.171875 48.375 \nQ 18.84375 56 30.609375 56 \nz\n\" id=\"DejaVuSans-111\"/>\n       <path d=\"M 52 44.1875 \nQ 55.375 50.25 60.0625 53.125 \nQ 64.75 56 71.09375 56 \nQ 79.640625 56 84.28125 50.015625 \nQ 88.921875 44.046875 88.921875 33.015625 \nL 88.921875 0 \nL 79.890625 0 \nL 79.890625 32.71875 \nQ 79.890625 40.578125 77.09375 44.375 \nQ 74.3125 48.1875 68.609375 48.1875 \nQ 61.625 48.1875 57.5625 43.546875 \nQ 53.515625 38.921875 53.515625 30.90625 \nL 53.515625 0 \nL 44.484375 0 \nL 44.484375 32.71875 \nQ 44.484375 40.625 41.703125 44.40625 \nQ 38.921875 48.1875 33.109375 48.1875 \nQ 26.21875 48.1875 22.15625 43.53125 \nQ 18.109375 38.875 18.109375 30.90625 \nL 18.109375 0 \nL 9.078125 0 \nL 9.078125 54.6875 \nL 18.109375 54.6875 \nL 18.109375 46.1875 \nQ 21.1875 51.21875 25.484375 53.609375 \nQ 29.78125 56 35.6875 56 \nQ 41.65625 56 45.828125 52.96875 \nQ 50 49.953125 52 44.1875 \nz\n\" id=\"DejaVuSans-109\"/>\n       <path d=\"M 56.203125 29.59375 \nL 56.203125 25.203125 \nL 14.890625 25.203125 \nQ 15.484375 15.921875 20.484375 11.0625 \nQ 25.484375 6.203125 34.421875 6.203125 \nQ 39.59375 6.203125 44.453125 7.46875 \nQ 49.3125 8.734375 54.109375 11.28125 \nL 54.109375 2.78125 \nQ 49.265625 0.734375 44.1875 -0.34375 \nQ 39.109375 -1.421875 33.890625 -1.421875 \nQ 20.796875 -1.421875 13.15625 6.1875 \nQ 5.515625 13.8125 5.515625 26.8125 \nQ 5.515625 40.234375 12.765625 48.109375 \nQ 20.015625 56 32.328125 56 \nQ 43.359375 56 49.78125 48.890625 \nQ 56.203125 41.796875 56.203125 29.59375 \nz\nM 47.21875 32.234375 \nQ 47.125 39.59375 43.09375 43.984375 \nQ 39.0625 48.390625 32.421875 48.390625 \nQ 24.90625 48.390625 20.390625 44.140625 \nQ 15.875 39.890625 15.1875 32.171875 \nz\n\" id=\"DejaVuSans-101\"/>\n       <path d=\"M 48.78125 52.59375 \nL 48.78125 44.1875 \nQ 44.96875 46.296875 41.140625 47.34375 \nQ 37.3125 48.390625 33.40625 48.390625 \nQ 24.65625 48.390625 19.8125 42.84375 \nQ 14.984375 37.3125 14.984375 27.296875 \nQ 14.984375 17.28125 19.8125 11.734375 \nQ 24.65625 6.203125 33.40625 6.203125 \nQ 37.3125 6.203125 41.140625 7.25 \nQ 44.96875 8.296875 48.78125 10.40625 \nL 48.78125 2.09375 \nQ 45.015625 0.34375 40.984375 -0.53125 \nQ 36.96875 -1.421875 32.421875 -1.421875 \nQ 20.0625 -1.421875 12.78125 6.34375 \nQ 5.515625 14.109375 5.515625 27.296875 \nQ 5.515625 40.671875 12.859375 48.328125 \nQ 20.21875 56 33.015625 56 \nQ 37.15625 56 41.109375 55.140625 \nQ 45.0625 54.296875 48.78125 52.59375 \nz\n\" id=\"DejaVuSans-99\"/>\n       <path d=\"M 9.421875 75.984375 \nL 18.40625 75.984375 \nL 18.40625 0 \nL 9.421875 0 \nz\n\" id=\"DejaVuSans-108\"/>\n      </defs>\n      <g transform=\"translate(7.2 208.054219)scale(0.1 -0.1)\">\n       <use xlink:href=\"#DejaVuSans-32\"/>\n       <use x=\"31.787109\" xlink:href=\"#DejaVuSans-83\"/>\n       <use x=\"95.263672\" xlink:href=\"#DejaVuSans-111\"/>\n       <use x=\"156.445312\" xlink:href=\"#DejaVuSans-109\"/>\n       <use x=\"253.857422\" xlink:href=\"#DejaVuSans-101\"/>\n       <use x=\"315.380859\" xlink:href=\"#DejaVuSans-45\"/>\n       <use x=\"351.464844\" xlink:href=\"#DejaVuSans-99\"/>\n       <use x=\"406.445312\" xlink:href=\"#DejaVuSans-111\"/>\n       <use x=\"467.626953\" xlink:href=\"#DejaVuSans-108\"/>\n       <use x=\"495.410156\" xlink:href=\"#DejaVuSans-108\"/>\n       <use x=\"523.193359\" xlink:href=\"#DejaVuSans-101\"/>\n       <use x=\"584.716797\" xlink:href=\"#DejaVuSans-103\"/>\n       <use x=\"648.193359\" xlink:href=\"#DejaVuSans-101\"/>\n      </g>\n     </g>\n    </g>\n    <g id=\"ytick_3\">\n     <g id=\"line2d_9\">\n      <g>\n       <use style=\"stroke:#000000;stroke-width:0.8;\" x=\"85.175\" xlink:href=\"#m1dd6d56fca\" y=\"190.665\"/>\n      </g>\n     </g>\n     <g id=\"text_9\">\n      <!--  Bachelors -->\n      <defs>\n       <path d=\"M 19.671875 34.8125 \nL 19.671875 8.109375 \nL 35.5 8.109375 \nQ 43.453125 8.109375 47.28125 11.40625 \nQ 51.125 14.703125 51.125 21.484375 \nQ 51.125 28.328125 47.28125 31.5625 \nQ 43.453125 34.8125 35.5 34.8125 \nz\nM 19.671875 64.796875 \nL 19.671875 42.828125 \nL 34.28125 42.828125 \nQ 41.5 42.828125 45.03125 45.53125 \nQ 48.578125 48.25 48.578125 53.8125 \nQ 48.578125 59.328125 45.03125 62.0625 \nQ 41.5 64.796875 34.28125 64.796875 \nz\nM 9.8125 72.90625 \nL 35.015625 72.90625 \nQ 46.296875 72.90625 52.390625 68.21875 \nQ 58.5 63.53125 58.5 54.890625 \nQ 58.5 48.1875 55.375 44.234375 \nQ 52.25 40.28125 46.1875 39.3125 \nQ 53.46875 37.75 57.5 32.78125 \nQ 61.53125 27.828125 61.53125 20.40625 \nQ 61.53125 10.640625 54.890625 5.3125 \nQ 48.25 0 35.984375 0 \nL 9.8125 0 \nz\n\" id=\"DejaVuSans-66\"/>\n       <path d=\"M 54.890625 33.015625 \nL 54.890625 0 \nL 45.90625 0 \nL 45.90625 32.71875 \nQ 45.90625 40.484375 42.875 44.328125 \nQ 39.84375 48.1875 33.796875 48.1875 \nQ 26.515625 48.1875 22.3125 43.546875 \nQ 18.109375 38.921875 18.109375 30.90625 \nL 18.109375 0 \nL 9.078125 0 \nL 9.078125 75.984375 \nL 18.109375 75.984375 \nL 18.109375 46.1875 \nQ 21.34375 51.125 25.703125 53.5625 \nQ 30.078125 56 35.796875 56 \nQ 45.21875 56 50.046875 50.171875 \nQ 54.890625 44.34375 54.890625 33.015625 \nz\n\" id=\"DejaVuSans-104\"/>\n       <path d=\"M 44.28125 53.078125 \nL 44.28125 44.578125 \nQ 40.484375 46.53125 36.375 47.5 \nQ 32.28125 48.484375 27.875 48.484375 \nQ 21.1875 48.484375 17.84375 46.4375 \nQ 14.5 44.390625 14.5 40.28125 \nQ 14.5 37.15625 16.890625 35.375 \nQ 19.28125 33.59375 26.515625 31.984375 \nL 29.59375 31.296875 \nQ 39.15625 29.25 43.1875 25.515625 \nQ 47.21875 21.78125 47.21875 15.09375 \nQ 47.21875 7.46875 41.1875 3.015625 \nQ 35.15625 -1.421875 24.609375 -1.421875 \nQ 20.21875 -1.421875 15.453125 -0.5625 \nQ 10.6875 0.296875 5.421875 2 \nL 5.421875 11.28125 \nQ 10.40625 8.6875 15.234375 7.390625 \nQ 20.0625 6.109375 24.8125 6.109375 \nQ 31.15625 6.109375 34.5625 8.28125 \nQ 37.984375 10.453125 37.984375 14.40625 \nQ 37.984375 18.0625 35.515625 20.015625 \nQ 33.0625 21.96875 24.703125 23.78125 \nL 21.578125 24.515625 \nQ 13.234375 26.265625 9.515625 29.90625 \nQ 5.8125 33.546875 5.8125 39.890625 \nQ 5.8125 47.609375 11.28125 51.796875 \nQ 16.75 56 26.8125 56 \nQ 31.78125 56 36.171875 55.265625 \nQ 40.578125 54.546875 44.28125 53.078125 \nz\n\" id=\"DejaVuSans-115\"/>\n      </defs>\n      <g transform=\"translate(25.801563 194.464219)scale(0.1 -0.1)\">\n       <use xlink:href=\"#DejaVuSans-32\"/>\n       <use x=\"31.787109\" xlink:href=\"#DejaVuSans-66\"/>\n       <use x=\"100.390625\" xlink:href=\"#DejaVuSans-97\"/>\n       <use x=\"161.669922\" xlink:href=\"#DejaVuSans-99\"/>\n       <use x=\"216.650391\" xlink:href=\"#DejaVuSans-104\"/>\n       <use x=\"280.029297\" xlink:href=\"#DejaVuSans-101\"/>\n       <use x=\"341.552734\" xlink:href=\"#DejaVuSans-108\"/>\n       <use x=\"369.335938\" xlink:href=\"#DejaVuSans-111\"/>\n       <use x=\"430.517578\" xlink:href=\"#DejaVuSans-114\"/>\n       <use x=\"471.630859\" xlink:href=\"#DejaVuSans-115\"/>\n      </g>\n     </g>\n    </g>\n    <g id=\"ytick_4\">\n     <g id=\"line2d_10\">\n      <g>\n       <use style=\"stroke:#000000;stroke-width:0.8;\" x=\"85.175\" xlink:href=\"#m1dd6d56fca\" y=\"177.075\"/>\n      </g>\n     </g>\n     <g id=\"text_10\">\n      <!--  Masters -->\n      <defs>\n       <path d=\"M 9.8125 72.90625 \nL 24.515625 72.90625 \nL 43.109375 23.296875 \nL 61.8125 72.90625 \nL 76.515625 72.90625 \nL 76.515625 0 \nL 66.890625 0 \nL 66.890625 64.015625 \nL 48.09375 14.015625 \nL 38.1875 14.015625 \nL 19.390625 64.015625 \nL 19.390625 0 \nL 9.8125 0 \nz\n\" id=\"DejaVuSans-77\"/>\n       <path d=\"M 18.3125 70.21875 \nL 18.3125 54.6875 \nL 36.8125 54.6875 \nL 36.8125 47.703125 \nL 18.3125 47.703125 \nL 18.3125 18.015625 \nQ 18.3125 11.328125 20.140625 9.421875 \nQ 21.96875 7.515625 27.59375 7.515625 \nL 36.8125 7.515625 \nL 36.8125 0 \nL 27.59375 0 \nQ 17.1875 0 13.234375 3.875 \nQ 9.28125 7.765625 9.28125 18.015625 \nL 9.28125 47.703125 \nL 2.6875 47.703125 \nL 2.6875 54.6875 \nL 9.28125 54.6875 \nL 9.28125 70.21875 \nz\n\" id=\"DejaVuSans-116\"/>\n      </defs>\n      <g transform=\"translate(35.6375 180.874219)scale(0.1 -0.1)\">\n       <use xlink:href=\"#DejaVuSans-32\"/>\n       <use x=\"31.787109\" xlink:href=\"#DejaVuSans-77\"/>\n       <use x=\"118.066406\" xlink:href=\"#DejaVuSans-97\"/>\n       <use x=\"179.345703\" xlink:href=\"#DejaVuSans-115\"/>\n       <use x=\"231.445312\" xlink:href=\"#DejaVuSans-116\"/>\n       <use x=\"270.654297\" xlink:href=\"#DejaVuSans-101\"/>\n       <use x=\"332.177734\" xlink:href=\"#DejaVuSans-114\"/>\n       <use x=\"373.291016\" xlink:href=\"#DejaVuSans-115\"/>\n      </g>\n     </g>\n    </g>\n    <g id=\"ytick_5\">\n     <g id=\"line2d_11\">\n      <g>\n       <use style=\"stroke:#000000;stroke-width:0.8;\" x=\"85.175\" xlink:href=\"#m1dd6d56fca\" y=\"163.485\"/>\n      </g>\n     </g>\n     <g id=\"text_11\">\n      <!--  Assoc-voc -->\n      <defs>\n       <path d=\"M 34.1875 63.1875 \nL 20.796875 26.90625 \nL 47.609375 26.90625 \nz\nM 28.609375 72.90625 \nL 39.796875 72.90625 \nL 67.578125 0 \nL 57.328125 0 \nL 50.6875 18.703125 \nL 17.828125 18.703125 \nL 11.1875 0 \nL 0.78125 0 \nz\n\" id=\"DejaVuSans-65\"/>\n       <path d=\"M 2.984375 54.6875 \nL 12.5 54.6875 \nL 29.59375 8.796875 \nL 46.6875 54.6875 \nL 56.203125 54.6875 \nL 35.6875 0 \nL 23.484375 0 \nz\n\" id=\"DejaVuSans-118\"/>\n      </defs>\n      <g transform=\"translate(25.239063 167.284219)scale(0.1 -0.1)\">\n       <use xlink:href=\"#DejaVuSans-32\"/>\n       <use x=\"31.787109\" xlink:href=\"#DejaVuSans-65\"/>\n       <use x=\"100.195312\" xlink:href=\"#DejaVuSans-115\"/>\n       <use x=\"152.294922\" xlink:href=\"#DejaVuSans-115\"/>\n       <use x=\"204.394531\" xlink:href=\"#DejaVuSans-111\"/>\n       <use x=\"265.576172\" xlink:href=\"#DejaVuSans-99\"/>\n       <use x=\"320.556641\" xlink:href=\"#DejaVuSans-45\"/>\n       <use x=\"354.015625\" xlink:href=\"#DejaVuSans-118\"/>\n       <use x=\"413.195312\" xlink:href=\"#DejaVuSans-111\"/>\n       <use x=\"474.376953\" xlink:href=\"#DejaVuSans-99\"/>\n      </g>\n     </g>\n    </g>\n    <g id=\"ytick_6\">\n     <g id=\"line2d_12\">\n      <g>\n       <use style=\"stroke:#000000;stroke-width:0.8;\" x=\"85.175\" xlink:href=\"#m1dd6d56fca\" y=\"149.895\"/>\n      </g>\n     </g>\n     <g id=\"text_12\">\n      <!--  11th -->\n      <g transform=\"translate(52.014063 153.694219)scale(0.1 -0.1)\">\n       <use xlink:href=\"#DejaVuSans-32\"/>\n       <use x=\"31.787109\" xlink:href=\"#DejaVuSans-49\"/>\n       <use x=\"95.410156\" xlink:href=\"#DejaVuSans-49\"/>\n       <use x=\"159.033203\" xlink:href=\"#DejaVuSans-116\"/>\n       <use x=\"198.242188\" xlink:href=\"#DejaVuSans-104\"/>\n      </g>\n     </g>\n    </g>\n    <g id=\"ytick_7\">\n     <g id=\"line2d_13\">\n      <g>\n       <use style=\"stroke:#000000;stroke-width:0.8;\" x=\"85.175\" xlink:href=\"#m1dd6d56fca\" y=\"136.305\"/>\n      </g>\n     </g>\n     <g id=\"text_13\">\n      <!--  Assoc-acdm -->\n      <g transform=\"translate(14.796875 140.104219)scale(0.1 -0.1)\">\n       <use xlink:href=\"#DejaVuSans-32\"/>\n       <use x=\"31.787109\" xlink:href=\"#DejaVuSans-65\"/>\n       <use x=\"100.195312\" xlink:href=\"#DejaVuSans-115\"/>\n       <use x=\"152.294922\" xlink:href=\"#DejaVuSans-115\"/>\n       <use x=\"204.394531\" xlink:href=\"#DejaVuSans-111\"/>\n       <use x=\"265.576172\" xlink:href=\"#DejaVuSans-99\"/>\n       <use x=\"320.556641\" xlink:href=\"#DejaVuSans-45\"/>\n       <use x=\"356.640625\" xlink:href=\"#DejaVuSans-97\"/>\n       <use x=\"417.919922\" xlink:href=\"#DejaVuSans-99\"/>\n       <use x=\"472.900391\" xlink:href=\"#DejaVuSans-100\"/>\n       <use x=\"536.376953\" xlink:href=\"#DejaVuSans-109\"/>\n      </g>\n     </g>\n    </g>\n    <g id=\"ytick_8\">\n     <g id=\"line2d_14\">\n      <g>\n       <use style=\"stroke:#000000;stroke-width:0.8;\" x=\"85.175\" xlink:href=\"#m1dd6d56fca\" y=\"122.715\"/>\n      </g>\n     </g>\n     <g id=\"text_14\">\n      <!--  10th -->\n      <g transform=\"translate(52.014063 126.514219)scale(0.1 -0.1)\">\n       <use xlink:href=\"#DejaVuSans-32\"/>\n       <use x=\"31.787109\" xlink:href=\"#DejaVuSans-49\"/>\n       <use x=\"95.410156\" xlink:href=\"#DejaVuSans-48\"/>\n       <use x=\"159.033203\" xlink:href=\"#DejaVuSans-116\"/>\n       <use x=\"198.242188\" xlink:href=\"#DejaVuSans-104\"/>\n      </g>\n     </g>\n    </g>\n    <g id=\"ytick_9\">\n     <g id=\"line2d_15\">\n      <g>\n       <use style=\"stroke:#000000;stroke-width:0.8;\" x=\"85.175\" xlink:href=\"#m1dd6d56fca\" y=\"109.125\"/>\n      </g>\n     </g>\n     <g id=\"text_15\">\n      <!--  7th-8th -->\n      <defs>\n       <path d=\"M 8.203125 72.90625 \nL 55.078125 72.90625 \nL 55.078125 68.703125 \nL 28.609375 0 \nL 18.3125 0 \nL 43.21875 64.59375 \nL 8.203125 64.59375 \nz\n\" id=\"DejaVuSans-55\"/>\n      </defs>\n      <g transform=\"translate(38.148438 112.924219)scale(0.1 -0.1)\">\n       <use xlink:href=\"#DejaVuSans-32\"/>\n       <use x=\"31.787109\" xlink:href=\"#DejaVuSans-55\"/>\n       <use x=\"95.410156\" xlink:href=\"#DejaVuSans-116\"/>\n       <use x=\"134.619141\" xlink:href=\"#DejaVuSans-104\"/>\n       <use x=\"197.998047\" xlink:href=\"#DejaVuSans-45\"/>\n       <use x=\"234.082031\" xlink:href=\"#DejaVuSans-56\"/>\n       <use x=\"297.705078\" xlink:href=\"#DejaVuSans-116\"/>\n       <use x=\"336.914062\" xlink:href=\"#DejaVuSans-104\"/>\n      </g>\n     </g>\n    </g>\n    <g id=\"ytick_10\">\n     <g id=\"line2d_16\">\n      <g>\n       <use style=\"stroke:#000000;stroke-width:0.8;\" x=\"85.175\" xlink:href=\"#m1dd6d56fca\" y=\"95.535\"/>\n      </g>\n     </g>\n     <g id=\"text_16\">\n      <!--  Prof-school -->\n      <defs>\n       <path d=\"M 19.671875 64.796875 \nL 19.671875 37.40625 \nL 32.078125 37.40625 \nQ 38.96875 37.40625 42.71875 40.96875 \nQ 46.484375 44.53125 46.484375 51.125 \nQ 46.484375 57.671875 42.71875 61.234375 \nQ 38.96875 64.796875 32.078125 64.796875 \nz\nM 9.8125 72.90625 \nL 32.078125 72.90625 \nQ 44.34375 72.90625 50.609375 67.359375 \nQ 56.890625 61.8125 56.890625 51.125 \nQ 56.890625 40.328125 50.609375 34.8125 \nQ 44.34375 29.296875 32.078125 29.296875 \nL 19.671875 29.296875 \nL 19.671875 0 \nL 9.8125 0 \nz\n\" id=\"DejaVuSans-80\"/>\n       <path d=\"M 37.109375 75.984375 \nL 37.109375 68.5 \nL 28.515625 68.5 \nQ 23.6875 68.5 21.796875 66.546875 \nQ 19.921875 64.59375 19.921875 59.515625 \nL 19.921875 54.6875 \nL 34.71875 54.6875 \nL 34.71875 47.703125 \nL 19.921875 47.703125 \nL 19.921875 0 \nL 10.890625 0 \nL 10.890625 47.703125 \nL 2.296875 47.703125 \nL 2.296875 54.6875 \nL 10.890625 54.6875 \nL 10.890625 58.5 \nQ 10.890625 67.625 15.140625 71.796875 \nQ 19.390625 75.984375 28.609375 75.984375 \nz\n\" id=\"DejaVuSans-102\"/>\n      </defs>\n      <g transform=\"translate(20.498438 99.334219)scale(0.1 -0.1)\">\n       <use xlink:href=\"#DejaVuSans-32\"/>\n       <use x=\"31.787109\" xlink:href=\"#DejaVuSans-80\"/>\n       <use x=\"90.339844\" xlink:href=\"#DejaVuSans-114\"/>\n       <use x=\"129.203125\" xlink:href=\"#DejaVuSans-111\"/>\n       <use x=\"190.384766\" xlink:href=\"#DejaVuSans-102\"/>\n       <use x=\"220.089844\" xlink:href=\"#DejaVuSans-45\"/>\n       <use x=\"256.173828\" xlink:href=\"#DejaVuSans-115\"/>\n       <use x=\"308.273438\" xlink:href=\"#DejaVuSans-99\"/>\n       <use x=\"363.253906\" xlink:href=\"#DejaVuSans-104\"/>\n       <use x=\"426.632812\" xlink:href=\"#DejaVuSans-111\"/>\n       <use x=\"487.814453\" xlink:href=\"#DejaVuSans-111\"/>\n       <use x=\"548.996094\" xlink:href=\"#DejaVuSans-108\"/>\n      </g>\n     </g>\n    </g>\n    <g id=\"ytick_11\">\n     <g id=\"line2d_17\">\n      <g>\n       <use style=\"stroke:#000000;stroke-width:0.8;\" x=\"85.175\" xlink:href=\"#m1dd6d56fca\" y=\"81.945\"/>\n      </g>\n     </g>\n     <g id=\"text_17\">\n      <!--  9th -->\n      <defs>\n       <path d=\"M 10.984375 1.515625 \nL 10.984375 10.5 \nQ 14.703125 8.734375 18.5 7.8125 \nQ 22.3125 6.890625 25.984375 6.890625 \nQ 35.75 6.890625 40.890625 13.453125 \nQ 46.046875 20.015625 46.78125 33.40625 \nQ 43.953125 29.203125 39.59375 26.953125 \nQ 35.25 24.703125 29.984375 24.703125 \nQ 19.046875 24.703125 12.671875 31.3125 \nQ 6.296875 37.9375 6.296875 49.421875 \nQ 6.296875 60.640625 12.9375 67.421875 \nQ 19.578125 74.21875 30.609375 74.21875 \nQ 43.265625 74.21875 49.921875 64.515625 \nQ 56.59375 54.828125 56.59375 36.375 \nQ 56.59375 19.140625 48.40625 8.859375 \nQ 40.234375 -1.421875 26.421875 -1.421875 \nQ 22.703125 -1.421875 18.890625 -0.6875 \nQ 15.09375 0.046875 10.984375 1.515625 \nz\nM 30.609375 32.421875 \nQ 37.25 32.421875 41.125 36.953125 \nQ 45.015625 41.5 45.015625 49.421875 \nQ 45.015625 57.28125 41.125 61.84375 \nQ 37.25 66.40625 30.609375 66.40625 \nQ 23.96875 66.40625 20.09375 61.84375 \nQ 16.21875 57.28125 16.21875 49.421875 \nQ 16.21875 41.5 20.09375 36.953125 \nQ 23.96875 32.421875 30.609375 32.421875 \nz\n\" id=\"DejaVuSans-57\"/>\n      </defs>\n      <g transform=\"translate(58.376563 85.744219)scale(0.1 -0.1)\">\n       <use xlink:href=\"#DejaVuSans-32\"/>\n       <use x=\"31.787109\" xlink:href=\"#DejaVuSans-57\"/>\n       <use x=\"95.410156\" xlink:href=\"#DejaVuSans-116\"/>\n       <use x=\"134.619141\" xlink:href=\"#DejaVuSans-104\"/>\n      </g>\n     </g>\n    </g>\n    <g id=\"ytick_12\">\n     <g id=\"line2d_18\">\n      <g>\n       <use style=\"stroke:#000000;stroke-width:0.8;\" x=\"85.175\" xlink:href=\"#m1dd6d56fca\" y=\"68.355\"/>\n      </g>\n     </g>\n     <g id=\"text_18\">\n      <!--  12th -->\n      <g transform=\"translate(52.014063 72.154219)scale(0.1 -0.1)\">\n       <use xlink:href=\"#DejaVuSans-32\"/>\n       <use x=\"31.787109\" xlink:href=\"#DejaVuSans-49\"/>\n       <use x=\"95.410156\" xlink:href=\"#DejaVuSans-50\"/>\n       <use x=\"159.033203\" xlink:href=\"#DejaVuSans-116\"/>\n       <use x=\"198.242188\" xlink:href=\"#DejaVuSans-104\"/>\n      </g>\n     </g>\n    </g>\n    <g id=\"ytick_13\">\n     <g id=\"line2d_19\">\n      <g>\n       <use style=\"stroke:#000000;stroke-width:0.8;\" x=\"85.175\" xlink:href=\"#m1dd6d56fca\" y=\"54.765\"/>\n      </g>\n     </g>\n     <g id=\"text_19\">\n      <!--  Doctorate -->\n      <defs>\n       <path d=\"M 19.671875 64.796875 \nL 19.671875 8.109375 \nL 31.59375 8.109375 \nQ 46.6875 8.109375 53.6875 14.9375 \nQ 60.6875 21.78125 60.6875 36.53125 \nQ 60.6875 51.171875 53.6875 57.984375 \nQ 46.6875 64.796875 31.59375 64.796875 \nz\nM 9.8125 72.90625 \nL 30.078125 72.90625 \nQ 51.265625 72.90625 61.171875 64.09375 \nQ 71.09375 55.28125 71.09375 36.53125 \nQ 71.09375 17.671875 61.125 8.828125 \nQ 51.171875 0 30.078125 0 \nL 9.8125 0 \nz\n\" id=\"DejaVuSans-68\"/>\n      </defs>\n      <g transform=\"translate(25.328125 58.564219)scale(0.1 -0.1)\">\n       <use xlink:href=\"#DejaVuSans-32\"/>\n       <use x=\"31.787109\" xlink:href=\"#DejaVuSans-68\"/>\n       <use x=\"108.789062\" xlink:href=\"#DejaVuSans-111\"/>\n       <use x=\"169.970703\" xlink:href=\"#DejaVuSans-99\"/>\n       <use x=\"224.951172\" xlink:href=\"#DejaVuSans-116\"/>\n       <use x=\"264.160156\" xlink:href=\"#DejaVuSans-111\"/>\n       <use x=\"325.341797\" xlink:href=\"#DejaVuSans-114\"/>\n       <use x=\"366.455078\" xlink:href=\"#DejaVuSans-97\"/>\n       <use x=\"427.734375\" xlink:href=\"#DejaVuSans-116\"/>\n       <use x=\"466.943359\" xlink:href=\"#DejaVuSans-101\"/>\n      </g>\n     </g>\n    </g>\n    <g id=\"ytick_14\">\n     <g id=\"line2d_20\">\n      <g>\n       <use style=\"stroke:#000000;stroke-width:0.8;\" x=\"85.175\" xlink:href=\"#m1dd6d56fca\" y=\"41.175\"/>\n      </g>\n     </g>\n     <g id=\"text_20\">\n      <!--  5th-6th -->\n      <defs>\n       <path d=\"M 10.796875 72.90625 \nL 49.515625 72.90625 \nL 49.515625 64.59375 \nL 19.828125 64.59375 \nL 19.828125 46.734375 \nQ 21.96875 47.46875 24.109375 47.828125 \nQ 26.265625 48.1875 28.421875 48.1875 \nQ 40.625 48.1875 47.75 41.5 \nQ 54.890625 34.8125 54.890625 23.390625 \nQ 54.890625 11.625 47.5625 5.09375 \nQ 40.234375 -1.421875 26.90625 -1.421875 \nQ 22.3125 -1.421875 17.546875 -0.640625 \nQ 12.796875 0.140625 7.71875 1.703125 \nL 7.71875 11.625 \nQ 12.109375 9.234375 16.796875 8.0625 \nQ 21.484375 6.890625 26.703125 6.890625 \nQ 35.15625 6.890625 40.078125 11.328125 \nQ 45.015625 15.765625 45.015625 23.390625 \nQ 45.015625 31 40.078125 35.4375 \nQ 35.15625 39.890625 26.703125 39.890625 \nQ 22.75 39.890625 18.8125 39.015625 \nQ 14.890625 38.140625 10.796875 36.28125 \nz\n\" id=\"DejaVuSans-53\"/>\n      </defs>\n      <g transform=\"translate(38.148438 44.974219)scale(0.1 -0.1)\">\n       <use xlink:href=\"#DejaVuSans-32\"/>\n       <use x=\"31.787109\" xlink:href=\"#DejaVuSans-53\"/>\n       <use x=\"95.410156\" xlink:href=\"#DejaVuSans-116\"/>\n       <use x=\"134.619141\" xlink:href=\"#DejaVuSans-104\"/>\n       <use x=\"197.998047\" xlink:href=\"#DejaVuSans-45\"/>\n       <use x=\"234.082031\" xlink:href=\"#DejaVuSans-54\"/>\n       <use x=\"297.705078\" xlink:href=\"#DejaVuSans-116\"/>\n       <use x=\"336.914062\" xlink:href=\"#DejaVuSans-104\"/>\n      </g>\n     </g>\n    </g>\n    <g id=\"ytick_15\">\n     <g id=\"line2d_21\">\n      <g>\n       <use style=\"stroke:#000000;stroke-width:0.8;\" x=\"85.175\" xlink:href=\"#m1dd6d56fca\" y=\"27.585\"/>\n      </g>\n     </g>\n     <g id=\"text_21\">\n      <!--  1st-4th -->\n      <g transform=\"translate(39.276563 31.384219)scale(0.1 -0.1)\">\n       <use xlink:href=\"#DejaVuSans-32\"/>\n       <use x=\"31.787109\" xlink:href=\"#DejaVuSans-49\"/>\n       <use x=\"95.410156\" xlink:href=\"#DejaVuSans-115\"/>\n       <use x=\"147.509766\" xlink:href=\"#DejaVuSans-116\"/>\n       <use x=\"186.71875\" xlink:href=\"#DejaVuSans-45\"/>\n       <use x=\"222.802734\" xlink:href=\"#DejaVuSans-52\"/>\n       <use x=\"286.425781\" xlink:href=\"#DejaVuSans-116\"/>\n       <use x=\"325.634766\" xlink:href=\"#DejaVuSans-104\"/>\n      </g>\n     </g>\n    </g>\n    <g id=\"ytick_16\">\n     <g id=\"line2d_22\">\n      <g>\n       <use style=\"stroke:#000000;stroke-width:0.8;\" x=\"85.175\" xlink:href=\"#m1dd6d56fca\" y=\"13.995\"/>\n      </g>\n     </g>\n     <g id=\"text_22\">\n      <!--  Preschool -->\n      <g transform=\"translate(27.042188 17.794219)scale(0.1 -0.1)\">\n       <use xlink:href=\"#DejaVuSans-32\"/>\n       <use x=\"31.787109\" xlink:href=\"#DejaVuSans-80\"/>\n       <use x=\"90.339844\" xlink:href=\"#DejaVuSans-114\"/>\n       <use x=\"129.203125\" xlink:href=\"#DejaVuSans-101\"/>\n       <use x=\"190.726562\" xlink:href=\"#DejaVuSans-115\"/>\n       <use x=\"242.826172\" xlink:href=\"#DejaVuSans-99\"/>\n       <use x=\"297.806641\" xlink:href=\"#DejaVuSans-104\"/>\n       <use x=\"361.185547\" xlink:href=\"#DejaVuSans-111\"/>\n       <use x=\"422.367188\" xlink:href=\"#DejaVuSans-111\"/>\n       <use x=\"483.548828\" xlink:href=\"#DejaVuSans-108\"/>\n      </g>\n     </g>\n    </g>\n   </g>\n   <g id=\"patch_19\">\n    <path d=\"M 85.175 224.64 \nL 85.175 7.2 \n\" style=\"fill:none;stroke:#000000;stroke-linecap:square;stroke-linejoin:miter;stroke-width:0.8;\"/>\n   </g>\n   <g id=\"patch_20\">\n    <path d=\"M 419.975 224.64 \nL 419.975 7.2 \n\" style=\"fill:none;stroke:#000000;stroke-linecap:square;stroke-linejoin:miter;stroke-width:0.8;\"/>\n   </g>\n   <g id=\"patch_21\">\n    <path d=\"M 85.175 224.64 \nL 419.975 224.64 \n\" style=\"fill:none;stroke:#000000;stroke-linecap:square;stroke-linejoin:miter;stroke-width:0.8;\"/>\n   </g>\n   <g id=\"patch_22\">\n    <path d=\"M 85.175 7.2 \nL 419.975 7.2 \n\" style=\"fill:none;stroke:#000000;stroke-linecap:square;stroke-linejoin:miter;stroke-width:0.8;\"/>\n   </g>\n  </g>\n </g>\n <defs>\n  <clipPath id=\"p7355b58fc9\">\n   <rect height=\"217.44\" width=\"334.8\" x=\"85.175\" y=\"7.2\"/>\n  </clipPath>\n </defs>\n</svg>\n"
     },
     "metadata": {
      "needs_background": "light"
     }
    }
   ],
   "source": [
    "df.education.value_counts().plot(kind='barh')"
   ]
  },
  {
   "cell_type": "code",
   "execution_count": 34,
   "metadata": {
    "slideshow": {
     "slide_type": "subslide"
    }
   },
   "outputs": [
    {
     "output_type": "execute_result",
     "data": {
      "text/plain": "40.437455852092995"
     },
     "metadata": {},
     "execution_count": 34
    }
   ],
   "source": [
    "df.hours_per_week.mean()\n",
    "\n",
    "# Can also do:\n",
    "df['hours_per_week'].mean()"
   ]
  },
  {
   "cell_type": "markdown",
   "metadata": {
    "slideshow": {
     "slide_type": "slide"
    }
   },
   "source": [
    "### Q: What do you think we will get if we ask for the `type` of `df.hours_per_week` ?\n"
   ]
  },
  {
   "cell_type": "code",
   "execution_count": 37,
   "metadata": {
    "slideshow": {
     "slide_type": "-"
    }
   },
   "outputs": [
    {
     "output_type": "execute_result",
     "data": {
      "text/plain": "pandas.core.series.Series"
     },
     "metadata": {},
     "execution_count": 37
    }
   ],
   "source": [
    "type(df.hours_per_week)"
   ]
  },
  {
   "cell_type": "markdown",
   "metadata": {
    "slideshow": {
     "slide_type": "subslide"
    }
   },
   "source": [
    "### Unique\n",
    "\n",
    "Returns the unique values for the column"
   ]
  },
  {
   "cell_type": "code",
   "execution_count": 38,
   "metadata": {
    "slideshow": {
     "slide_type": "fragment"
    }
   },
   "outputs": [
    {
     "output_type": "execute_result",
     "data": {
      "text/plain": "array([' Bachelors', ' HS-grad', ' 11th', ' Masters', ' 9th',\n       ' Some-college', ' Assoc-acdm', ' Assoc-voc', ' 7th-8th',\n       ' Doctorate', ' Prof-school', ' 5th-6th', ' 10th', ' 1st-4th',\n       ' Preschool', ' 12th'], dtype=object)"
     },
     "metadata": {},
     "execution_count": 38
    }
   ],
   "source": [
    "# there's a space before each string in this data\n",
    "df.education.unique()"
   ]
  },
  {
   "cell_type": "code",
   "execution_count": 39,
   "metadata": {
    "slideshow": {
     "slide_type": "fragment"
    }
   },
   "outputs": [
    {
     "output_type": "execute_result",
     "data": {
      "text/plain": "array([' State-gov', ' Self-emp-not-inc', ' Private', ' Federal-gov',\n       ' Local-gov', ' ?', ' Self-emp-inc', ' Without-pay',\n       ' Never-worked'], dtype=object)"
     },
     "metadata": {},
     "execution_count": 39
    }
   ],
   "source": [
    "# looks like it's in every object column\n",
    "df.workclass.unique()"
   ]
  },
  {
   "cell_type": "code",
   "execution_count": 40,
   "metadata": {
    "slideshow": {
     "slide_type": "fragment"
    }
   },
   "outputs": [],
   "source": [
    "df[\"education\"] = df.education.str.strip()"
   ]
  },
  {
   "cell_type": "code",
   "execution_count": 41,
   "metadata": {
    "slideshow": {
     "slide_type": "fragment"
    }
   },
   "outputs": [
    {
     "output_type": "execute_result",
     "data": {
      "text/plain": "array(['Bachelors', 'HS-grad', '11th', 'Masters', '9th', 'Some-college',\n       'Assoc-acdm', 'Assoc-voc', '7th-8th', 'Doctorate', 'Prof-school',\n       '5th-6th', '10th', '1st-4th', 'Preschool', '12th'], dtype=object)"
     },
     "metadata": {},
     "execution_count": 41
    }
   ],
   "source": [
    "# Hurray We removed the leading space\n",
    "df.education.unique()"
   ]
  },
  {
   "cell_type": "code",
   "execution_count": 42,
   "metadata": {
    "slideshow": {
     "slide_type": "fragment"
    }
   },
   "outputs": [
    {
     "output_type": "execute_result",
     "data": {
      "text/plain": "array([' Male', ' Female'], dtype=object)"
     },
     "metadata": {},
     "execution_count": 42
    }
   ],
   "source": [
    "df.gender.unique()"
   ]
  },
  {
   "cell_type": "code",
   "execution_count": 43,
   "metadata": {
    "slideshow": {
     "slide_type": "fragment"
    }
   },
   "outputs": [],
   "source": [
    "# Remove leading space in values\n",
    "df[\"gender\"] = df.gender.str.strip()"
   ]
  },
  {
   "cell_type": "code",
   "execution_count": 44,
   "metadata": {
    "slideshow": {
     "slide_type": "fragment"
    }
   },
   "outputs": [
    {
     "output_type": "execute_result",
     "data": {
      "text/plain": "array(['Male', 'Female'], dtype=object)"
     },
     "metadata": {},
     "execution_count": 44
    }
   ],
   "source": [
    "df.gender.unique()"
   ]
  },
  {
   "cell_type": "markdown",
   "metadata": {
    "slideshow": {
     "slide_type": "slide"
    }
   },
   "source": [
    "## Selecting Rows and Columns "
   ]
  },
  {
   "cell_type": "markdown",
   "metadata": {
    "slideshow": {
     "slide_type": "fragment"
    }
   },
   "source": [
    "### .loc \n",
    "\n",
    "* Selects row and columns by Names\n",
    "* **by label**             `.loc[]`\n",
    "\n",
    "### .iloc\n",
    "\n",
    "* Selects row and columns by Index Position\n",
    "* **by integer position**  `.iloc[]`"
   ]
  },
  {
   "cell_type": "markdown",
   "metadata": {
    "slideshow": {
     "slide_type": "fragment"
    }
   },
   "source": [
    "http://pandas.pydata.org/pandas-docs/stable/indexing.html"
   ]
  },
  {
   "cell_type": "code",
   "execution_count": 45,
   "metadata": {
    "slideshow": {
     "slide_type": "subslide"
    }
   },
   "outputs": [
    {
     "output_type": "execute_result",
     "data": {
      "text/plain": "age                                53\nworkclass                     Private\nfnlwgt                         234721\neducation                        11th\neducation_num                       7\nmarital_status     Married-civ-spouse\noccupation          Handlers-cleaners\nrelationship                  Husband\nethnicity                       Black\ngender                           Male\ncapital_gain                        0\ncapital_loss                        0\nhours_per_week                     40\nnative_country          United-States\nincome                          <=50K\nName: 3, dtype: object"
     },
     "metadata": {},
     "execution_count": 45
    }
   ],
   "source": [
    "# select a row\n",
    "df.iloc[3]"
   ]
  },
  {
   "cell_type": "code",
   "execution_count": 46,
   "metadata": {
    "slideshow": {
     "slide_type": "fragment"
    }
   },
   "outputs": [
    {
     "output_type": "execute_result",
     "data": {
      "text/html": "<div>\n<style scoped>\n    .dataframe tbody tr th:only-of-type {\n        vertical-align: middle;\n    }\n\n    .dataframe tbody tr th {\n        vertical-align: top;\n    }\n\n    .dataframe thead th {\n        text-align: right;\n    }\n</style>\n<table border=\"1\" class=\"dataframe\">\n  <thead>\n    <tr style=\"text-align: right;\">\n      <th></th>\n      <th>age</th>\n      <th>workclass</th>\n      <th>fnlwgt</th>\n      <th>education</th>\n      <th>education_num</th>\n      <th>marital_status</th>\n      <th>occupation</th>\n      <th>relationship</th>\n      <th>ethnicity</th>\n      <th>gender</th>\n      <th>capital_gain</th>\n      <th>capital_loss</th>\n      <th>hours_per_week</th>\n      <th>native_country</th>\n      <th>income</th>\n    </tr>\n  </thead>\n  <tbody>\n    <tr>\n      <th>0</th>\n      <td>39</td>\n      <td>State-gov</td>\n      <td>77516</td>\n      <td>Bachelors</td>\n      <td>13</td>\n      <td>Never-married</td>\n      <td>Adm-clerical</td>\n      <td>Not-in-family</td>\n      <td>White</td>\n      <td>Male</td>\n      <td>2174</td>\n      <td>0</td>\n      <td>40</td>\n      <td>United-States</td>\n      <td>&lt;=50K</td>\n    </tr>\n    <tr>\n      <th>1</th>\n      <td>50</td>\n      <td>Self-emp-not-inc</td>\n      <td>83311</td>\n      <td>Bachelors</td>\n      <td>13</td>\n      <td>Married-civ-spouse</td>\n      <td>Exec-managerial</td>\n      <td>Husband</td>\n      <td>White</td>\n      <td>Male</td>\n      <td>0</td>\n      <td>0</td>\n      <td>13</td>\n      <td>United-States</td>\n      <td>&lt;=50K</td>\n    </tr>\n    <tr>\n      <th>2</th>\n      <td>38</td>\n      <td>Private</td>\n      <td>215646</td>\n      <td>HS-grad</td>\n      <td>9</td>\n      <td>Divorced</td>\n      <td>Handlers-cleaners</td>\n      <td>Not-in-family</td>\n      <td>White</td>\n      <td>Male</td>\n      <td>0</td>\n      <td>0</td>\n      <td>40</td>\n      <td>United-States</td>\n      <td>&lt;=50K</td>\n    </tr>\n  </tbody>\n</table>\n</div>",
      "text/plain": "   age          workclass  fnlwgt  education  education_num  \\\n0   39          State-gov   77516  Bachelors             13   \n1   50   Self-emp-not-inc   83311  Bachelors             13   \n2   38            Private  215646    HS-grad              9   \n\n        marital_status          occupation    relationship ethnicity gender  \\\n0        Never-married        Adm-clerical   Not-in-family     White   Male   \n1   Married-civ-spouse     Exec-managerial         Husband     White   Male   \n2             Divorced   Handlers-cleaners   Not-in-family     White   Male   \n\n   capital_gain  capital_loss  hours_per_week  native_country  income  \n0          2174             0              40   United-States   <=50K  \n1             0             0              13   United-States   <=50K  \n2             0             0              40   United-States   <=50K  "
     },
     "metadata": {},
     "execution_count": 46
    }
   ],
   "source": [
    "df.iloc[0:3]\n",
    "\n",
    "## Note: I got 3 rows returned, similar to the indexing that applies to Python lists"
   ]
  },
  {
   "cell_type": "code",
   "execution_count": 47,
   "metadata": {
    "slideshow": {
     "slide_type": "subslide"
    }
   },
   "outputs": [
    {
     "output_type": "execute_result",
     "data": {
      "text/html": "<div>\n<style scoped>\n    .dataframe tbody tr th:only-of-type {\n        vertical-align: middle;\n    }\n\n    .dataframe tbody tr th {\n        vertical-align: top;\n    }\n\n    .dataframe thead th {\n        text-align: right;\n    }\n</style>\n<table border=\"1\" class=\"dataframe\">\n  <thead>\n    <tr style=\"text-align: right;\">\n      <th></th>\n      <th>age</th>\n      <th>workclass</th>\n      <th>fnlwgt</th>\n      <th>education</th>\n      <th>education_num</th>\n      <th>marital_status</th>\n      <th>occupation</th>\n      <th>relationship</th>\n      <th>ethnicity</th>\n      <th>gender</th>\n      <th>capital_gain</th>\n      <th>capital_loss</th>\n      <th>hours_per_week</th>\n      <th>native_country</th>\n      <th>income</th>\n    </tr>\n  </thead>\n  <tbody>\n    <tr>\n      <th>10</th>\n      <td>37</td>\n      <td>Private</td>\n      <td>280464</td>\n      <td>Some-college</td>\n      <td>10</td>\n      <td>Married-civ-spouse</td>\n      <td>Exec-managerial</td>\n      <td>Husband</td>\n      <td>Black</td>\n      <td>Male</td>\n      <td>0</td>\n      <td>0</td>\n      <td>80</td>\n      <td>United-States</td>\n      <td>&gt;50K</td>\n    </tr>\n    <tr>\n      <th>11</th>\n      <td>30</td>\n      <td>State-gov</td>\n      <td>141297</td>\n      <td>Bachelors</td>\n      <td>13</td>\n      <td>Married-civ-spouse</td>\n      <td>Prof-specialty</td>\n      <td>Husband</td>\n      <td>Asian-Pac-Islander</td>\n      <td>Male</td>\n      <td>0</td>\n      <td>0</td>\n      <td>40</td>\n      <td>India</td>\n      <td>&gt;50K</td>\n    </tr>\n    <tr>\n      <th>12</th>\n      <td>23</td>\n      <td>Private</td>\n      <td>122272</td>\n      <td>Bachelors</td>\n      <td>13</td>\n      <td>Never-married</td>\n      <td>Adm-clerical</td>\n      <td>Own-child</td>\n      <td>White</td>\n      <td>Female</td>\n      <td>0</td>\n      <td>0</td>\n      <td>30</td>\n      <td>United-States</td>\n      <td>&lt;=50K</td>\n    </tr>\n    <tr>\n      <th>13</th>\n      <td>32</td>\n      <td>Private</td>\n      <td>205019</td>\n      <td>Assoc-acdm</td>\n      <td>12</td>\n      <td>Never-married</td>\n      <td>Sales</td>\n      <td>Not-in-family</td>\n      <td>Black</td>\n      <td>Male</td>\n      <td>0</td>\n      <td>0</td>\n      <td>50</td>\n      <td>United-States</td>\n      <td>&lt;=50K</td>\n    </tr>\n    <tr>\n      <th>14</th>\n      <td>40</td>\n      <td>Private</td>\n      <td>121772</td>\n      <td>Assoc-voc</td>\n      <td>11</td>\n      <td>Married-civ-spouse</td>\n      <td>Craft-repair</td>\n      <td>Husband</td>\n      <td>Asian-Pac-Islander</td>\n      <td>Male</td>\n      <td>0</td>\n      <td>0</td>\n      <td>40</td>\n      <td>?</td>\n      <td>&gt;50K</td>\n    </tr>\n  </tbody>\n</table>\n</div>",
      "text/plain": "    age   workclass  fnlwgt     education  education_num       marital_status  \\\n10   37     Private  280464  Some-college             10   Married-civ-spouse   \n11   30   State-gov  141297     Bachelors             13   Married-civ-spouse   \n12   23     Private  122272     Bachelors             13        Never-married   \n13   32     Private  205019    Assoc-acdm             12        Never-married   \n14   40     Private  121772     Assoc-voc             11   Married-civ-spouse   \n\n          occupation    relationship            ethnicity  gender  \\\n10   Exec-managerial         Husband                Black    Male   \n11    Prof-specialty         Husband   Asian-Pac-Islander    Male   \n12      Adm-clerical       Own-child                White  Female   \n13             Sales   Not-in-family                Black    Male   \n14      Craft-repair         Husband   Asian-Pac-Islander    Male   \n\n    capital_gain  capital_loss  hours_per_week  native_country  income  \n10             0             0              80   United-States    >50K  \n11             0             0              40           India    >50K  \n12             0             0              30   United-States   <=50K  \n13             0             0              50   United-States   <=50K  \n14             0             0              40               ?    >50K  "
     },
     "metadata": {},
     "execution_count": 47
    }
   ],
   "source": [
    "# select a range of rows\n",
    "df.iloc[10:15]"
   ]
  },
  {
   "cell_type": "code",
   "execution_count": 48,
   "metadata": {
    "slideshow": {
     "slide_type": "subslide"
    }
   },
   "outputs": [
    {
     "output_type": "execute_result",
     "data": {
      "text/html": "<div>\n<style scoped>\n    .dataframe tbody tr th:only-of-type {\n        vertical-align: middle;\n    }\n\n    .dataframe tbody tr th {\n        vertical-align: top;\n    }\n\n    .dataframe thead th {\n        text-align: right;\n    }\n</style>\n<table border=\"1\" class=\"dataframe\">\n  <thead>\n    <tr style=\"text-align: right;\">\n      <th></th>\n      <th>age</th>\n      <th>workclass</th>\n      <th>fnlwgt</th>\n      <th>education</th>\n      <th>education_num</th>\n      <th>marital_status</th>\n      <th>occupation</th>\n      <th>relationship</th>\n      <th>ethnicity</th>\n      <th>gender</th>\n      <th>capital_gain</th>\n      <th>capital_loss</th>\n      <th>hours_per_week</th>\n      <th>native_country</th>\n      <th>income</th>\n    </tr>\n  </thead>\n  <tbody>\n    <tr>\n      <th>32559</th>\n      <td>22</td>\n      <td>Private</td>\n      <td>201490</td>\n      <td>HS-grad</td>\n      <td>9</td>\n      <td>Never-married</td>\n      <td>Adm-clerical</td>\n      <td>Own-child</td>\n      <td>White</td>\n      <td>Male</td>\n      <td>0</td>\n      <td>0</td>\n      <td>20</td>\n      <td>United-States</td>\n      <td>&lt;=50K</td>\n    </tr>\n    <tr>\n      <th>32560</th>\n      <td>52</td>\n      <td>Self-emp-inc</td>\n      <td>287927</td>\n      <td>HS-grad</td>\n      <td>9</td>\n      <td>Married-civ-spouse</td>\n      <td>Exec-managerial</td>\n      <td>Wife</td>\n      <td>White</td>\n      <td>Female</td>\n      <td>15024</td>\n      <td>0</td>\n      <td>40</td>\n      <td>United-States</td>\n      <td>&gt;50K</td>\n    </tr>\n  </tbody>\n</table>\n</div>",
      "text/plain": "       age      workclass  fnlwgt education  education_num  \\\n32559   22        Private  201490   HS-grad              9   \n32560   52   Self-emp-inc  287927   HS-grad              9   \n\n            marital_status        occupation relationship ethnicity  gender  \\\n32559        Never-married      Adm-clerical    Own-child     White    Male   \n32560   Married-civ-spouse   Exec-managerial         Wife     White  Female   \n\n       capital_gain  capital_loss  hours_per_week  native_country  income  \n32559             0             0              20   United-States   <=50K  \n32560         15024             0              40   United-States    >50K  "
     },
     "metadata": {},
     "execution_count": 48
    }
   ],
   "source": [
    "# last 2 rows\n",
    "df.iloc[-2:]"
   ]
  },
  {
   "cell_type": "code",
   "execution_count": 49,
   "metadata": {
    "slideshow": {
     "slide_type": "subslide"
    }
   },
   "outputs": [
    {
     "output_type": "execute_result",
     "data": {
      "text/html": "<div>\n<style scoped>\n    .dataframe tbody tr th:only-of-type {\n        vertical-align: middle;\n    }\n\n    .dataframe tbody tr th {\n        vertical-align: top;\n    }\n\n    .dataframe thead th {\n        text-align: right;\n    }\n</style>\n<table border=\"1\" class=\"dataframe\">\n  <thead>\n    <tr style=\"text-align: right;\">\n      <th></th>\n      <th>fnlwgt</th>\n      <th>education</th>\n      <th>education_num</th>\n    </tr>\n  </thead>\n  <tbody>\n    <tr>\n      <th>0</th>\n      <td>77516</td>\n      <td>Bachelors</td>\n      <td>13</td>\n    </tr>\n    <tr>\n      <th>2</th>\n      <td>215646</td>\n      <td>HS-grad</td>\n      <td>9</td>\n    </tr>\n    <tr>\n      <th>4</th>\n      <td>338409</td>\n      <td>Bachelors</td>\n      <td>13</td>\n    </tr>\n    <tr>\n      <th>6</th>\n      <td>160187</td>\n      <td>9th</td>\n      <td>5</td>\n    </tr>\n    <tr>\n      <th>8</th>\n      <td>45781</td>\n      <td>Masters</td>\n      <td>14</td>\n    </tr>\n  </tbody>\n</table>\n</div>",
      "text/plain": "   fnlwgt  education  education_num\n0   77516  Bachelors             13\n2  215646    HS-grad              9\n4  338409  Bachelors             13\n6  160187        9th              5\n8   45781    Masters             14"
     },
     "metadata": {},
     "execution_count": 49
    }
   ],
   "source": [
    "# selecting every other row in columns 3-5\n",
    "df.iloc[::2, 2:5].head()"
   ]
  },
  {
   "cell_type": "code",
   "execution_count": 50,
   "metadata": {
    "slideshow": {
     "slide_type": "subslide"
    }
   },
   "outputs": [
    {
     "output_type": "execute_result",
     "data": {
      "text/html": "<div>\n<style scoped>\n    .dataframe tbody tr th:only-of-type {\n        vertical-align: middle;\n    }\n\n    .dataframe tbody tr th {\n        vertical-align: top;\n    }\n\n    .dataframe thead th {\n        text-align: right;\n    }\n</style>\n<table border=\"1\" class=\"dataframe\">\n  <thead>\n    <tr style=\"text-align: right;\">\n      <th></th>\n      <th>age</th>\n      <th>workclass</th>\n      <th>fnlwgt</th>\n      <th>education</th>\n      <th>education_num</th>\n      <th>marital_status</th>\n      <th>occupation</th>\n      <th>relationship</th>\n      <th>ethnicity</th>\n      <th>gender</th>\n      <th>capital_gain</th>\n      <th>capital_loss</th>\n      <th>hours_per_week</th>\n      <th>native_country</th>\n      <th>income</th>\n    </tr>\n  </thead>\n  <tbody>\n    <tr>\n      <th>0</th>\n      <td>39</td>\n      <td>State-gov</td>\n      <td>77516</td>\n      <td>Bachelors</td>\n      <td>13</td>\n      <td>Never-married</td>\n      <td>Adm-clerical</td>\n      <td>Not-in-family</td>\n      <td>White</td>\n      <td>Male</td>\n      <td>2174</td>\n      <td>0</td>\n      <td>40</td>\n      <td>United-States</td>\n      <td>&lt;=50K</td>\n    </tr>\n    <tr>\n      <th>1</th>\n      <td>50</td>\n      <td>Self-emp-not-inc</td>\n      <td>83311</td>\n      <td>Bachelors</td>\n      <td>13</td>\n      <td>Married-civ-spouse</td>\n      <td>Exec-managerial</td>\n      <td>Husband</td>\n      <td>White</td>\n      <td>Male</td>\n      <td>0</td>\n      <td>0</td>\n      <td>13</td>\n      <td>United-States</td>\n      <td>&lt;=50K</td>\n    </tr>\n    <tr>\n      <th>2</th>\n      <td>38</td>\n      <td>Private</td>\n      <td>215646</td>\n      <td>HS-grad</td>\n      <td>9</td>\n      <td>Divorced</td>\n      <td>Handlers-cleaners</td>\n      <td>Not-in-family</td>\n      <td>White</td>\n      <td>Male</td>\n      <td>0</td>\n      <td>0</td>\n      <td>40</td>\n      <td>United-States</td>\n      <td>&lt;=50K</td>\n    </tr>\n    <tr>\n      <th>3</th>\n      <td>53</td>\n      <td>Private</td>\n      <td>234721</td>\n      <td>11th</td>\n      <td>7</td>\n      <td>Married-civ-spouse</td>\n      <td>Handlers-cleaners</td>\n      <td>Husband</td>\n      <td>Black</td>\n      <td>Male</td>\n      <td>0</td>\n      <td>0</td>\n      <td>40</td>\n      <td>United-States</td>\n      <td>&lt;=50K</td>\n    </tr>\n  </tbody>\n</table>\n</div>",
      "text/plain": "   age          workclass  fnlwgt  education  education_num  \\\n0   39          State-gov   77516  Bachelors             13   \n1   50   Self-emp-not-inc   83311  Bachelors             13   \n2   38            Private  215646    HS-grad              9   \n3   53            Private  234721       11th              7   \n\n        marital_status          occupation    relationship ethnicity gender  \\\n0        Never-married        Adm-clerical   Not-in-family     White   Male   \n1   Married-civ-spouse     Exec-managerial         Husband     White   Male   \n2             Divorced   Handlers-cleaners   Not-in-family     White   Male   \n3   Married-civ-spouse   Handlers-cleaners         Husband     Black   Male   \n\n   capital_gain  capital_loss  hours_per_week  native_country  income  \n0          2174             0              40   United-States   <=50K  \n1             0             0              13   United-States   <=50K  \n2             0             0              40   United-States   <=50K  \n3             0             0              40   United-States   <=50K  "
     },
     "metadata": {},
     "execution_count": 50
    }
   ],
   "source": [
    "# select a row\n",
    "df.loc[0:3]"
   ]
  },
  {
   "cell_type": "markdown",
   "metadata": {
    "slideshow": {
     "slide_type": "fragment"
    }
   },
   "source": [
    "### Q: Why did I get 4 rows above here instead of 3?\n",
    "\n",
    "\n",
    "\n",
    "\n",
    "\n",
    "Integers vs. labels!"
   ]
  },
  {
   "cell_type": "code",
   "execution_count": 51,
   "metadata": {
    "slideshow": {
     "slide_type": "fragment"
    }
   },
   "outputs": [
    {
     "output_type": "execute_result",
     "data": {
      "text/plain": "0    39\n1    50\n2    38\nName: age, dtype: int64"
     },
     "metadata": {},
     "execution_count": 51
    }
   ],
   "source": [
    "(df.loc[0:2, 'age'])"
   ]
  },
  {
   "cell_type": "code",
   "execution_count": 52,
   "metadata": {
    "slideshow": {
     "slide_type": "subslide"
    }
   },
   "outputs": [
    {
     "output_type": "execute_result",
     "data": {
      "text/html": "<div>\n<style scoped>\n    .dataframe tbody tr th:only-of-type {\n        vertical-align: middle;\n    }\n\n    .dataframe tbody tr th {\n        vertical-align: top;\n    }\n\n    .dataframe thead th {\n        text-align: right;\n    }\n</style>\n<table border=\"1\" class=\"dataframe\">\n  <thead>\n    <tr style=\"text-align: right;\">\n      <th></th>\n      <th>fnlwgt</th>\n      <th>education</th>\n      <th>education_num</th>\n      <th>marital_status</th>\n    </tr>\n  </thead>\n  <tbody>\n    <tr>\n      <th>0</th>\n      <td>77516</td>\n      <td>Bachelors</td>\n      <td>13</td>\n      <td>Never-married</td>\n    </tr>\n    <tr>\n      <th>1</th>\n      <td>83311</td>\n      <td>Bachelors</td>\n      <td>13</td>\n      <td>Married-civ-spouse</td>\n    </tr>\n  </tbody>\n</table>\n</div>",
      "text/plain": "   fnlwgt  education  education_num       marital_status\n0   77516  Bachelors             13        Never-married\n1   83311  Bachelors             13   Married-civ-spouse"
     },
     "metadata": {},
     "execution_count": 52
    }
   ],
   "source": [
    "df.iloc[0:2, 2:6]"
   ]
  },
  {
   "cell_type": "markdown",
   "metadata": {
    "slideshow": {
     "slide_type": "subslide"
    }
   },
   "source": [
    "## Filtering"
   ]
  },
  {
   "cell_type": "code",
   "execution_count": 53,
   "metadata": {
    "slideshow": {
     "slide_type": "fragment"
    }
   },
   "outputs": [
    {
     "output_type": "execute_result",
     "data": {
      "text/plain": "0        False\n1        False\n2        False\n3         True\n4        False\n         ...  \n32556    False\n32557    False\n32558     True\n32559    False\n32560     True\nName: age, Length: 32561, dtype: bool"
     },
     "metadata": {},
     "execution_count": 53
    }
   ],
   "source": [
    "(df.age > 50)"
   ]
  },
  {
   "cell_type": "code",
   "execution_count": 54,
   "metadata": {
    "slideshow": {
     "slide_type": "fragment"
    }
   },
   "outputs": [],
   "source": [
    "asd = df[df.age > 50].head(5)"
   ]
  },
  {
   "cell_type": "code",
   "execution_count": 57,
   "metadata": {
    "slideshow": {
     "slide_type": "subslide"
    }
   },
   "outputs": [
    {
     "output_type": "execute_result",
     "data": {
      "text/html": "<div>\n<style scoped>\n    .dataframe tbody tr th:only-of-type {\n        vertical-align: middle;\n    }\n\n    .dataframe tbody tr th {\n        vertical-align: top;\n    }\n\n    .dataframe thead th {\n        text-align: right;\n    }\n</style>\n<table border=\"1\" class=\"dataframe\">\n  <thead>\n    <tr style=\"text-align: right;\">\n      <th></th>\n      <th>age</th>\n      <th>education</th>\n      <th>occupation</th>\n      <th>gender</th>\n      <th>income</th>\n    </tr>\n  </thead>\n  <tbody>\n    <tr>\n      <th>3</th>\n      <td>53</td>\n      <td>11th</td>\n      <td>Handlers-cleaners</td>\n      <td>Male</td>\n      <td>&lt;=50K</td>\n    </tr>\n    <tr>\n      <th>7</th>\n      <td>52</td>\n      <td>HS-grad</td>\n      <td>Exec-managerial</td>\n      <td>Male</td>\n      <td>&gt;50K</td>\n    </tr>\n    <tr>\n      <th>21</th>\n      <td>54</td>\n      <td>HS-grad</td>\n      <td>Other-service</td>\n      <td>Female</td>\n      <td>&lt;=50K</td>\n    </tr>\n    <tr>\n      <th>24</th>\n      <td>59</td>\n      <td>HS-grad</td>\n      <td>Tech-support</td>\n      <td>Female</td>\n      <td>&lt;=50K</td>\n    </tr>\n    <tr>\n      <th>25</th>\n      <td>56</td>\n      <td>Bachelors</td>\n      <td>Tech-support</td>\n      <td>Male</td>\n      <td>&gt;50K</td>\n    </tr>\n    <tr>\n      <th>...</th>\n      <td>...</td>\n      <td>...</td>\n      <td>...</td>\n      <td>...</td>\n      <td>...</td>\n    </tr>\n    <tr>\n      <th>32542</th>\n      <td>72</td>\n      <td>HS-grad</td>\n      <td>?</td>\n      <td>Male</td>\n      <td>&lt;=50K</td>\n    </tr>\n    <tr>\n      <th>32548</th>\n      <td>65</td>\n      <td>Prof-school</td>\n      <td>Prof-specialty</td>\n      <td>Male</td>\n      <td>&lt;=50K</td>\n    </tr>\n    <tr>\n      <th>32554</th>\n      <td>53</td>\n      <td>Masters</td>\n      <td>Exec-managerial</td>\n      <td>Male</td>\n      <td>&gt;50K</td>\n    </tr>\n    <tr>\n      <th>32558</th>\n      <td>58</td>\n      <td>HS-grad</td>\n      <td>Adm-clerical</td>\n      <td>Female</td>\n      <td>&lt;=50K</td>\n    </tr>\n    <tr>\n      <th>32560</th>\n      <td>52</td>\n      <td>HS-grad</td>\n      <td>Exec-managerial</td>\n      <td>Female</td>\n      <td>&gt;50K</td>\n    </tr>\n  </tbody>\n</table>\n<p>6460 rows × 5 columns</p>\n</div>",
      "text/plain": "       age    education          occupation  gender  income\n3       53         11th   Handlers-cleaners    Male   <=50K\n7       52      HS-grad     Exec-managerial    Male    >50K\n21      54      HS-grad       Other-service  Female   <=50K\n24      59      HS-grad        Tech-support  Female   <=50K\n25      56    Bachelors        Tech-support    Male    >50K\n...    ...          ...                 ...     ...     ...\n32542   72      HS-grad                   ?    Male   <=50K\n32548   65  Prof-school      Prof-specialty    Male   <=50K\n32554   53      Masters     Exec-managerial    Male    >50K\n32558   58      HS-grad        Adm-clerical  Female   <=50K\n32560   52      HS-grad     Exec-managerial  Female    >50K\n\n[6460 rows x 5 columns]"
     },
     "metadata": {},
     "execution_count": 57
    }
   ],
   "source": [
    "# Filter for only certain Columns\n",
    "df.loc[df.age > 50, ['age', 'education', 'occupation', 'gender', 'income']]\n",
    "\n",
    "# What happens if I try to do the same with df.iloc instead of df.loc?\n",
    ""
   ]
  },
  {
   "cell_type": "code",
   "execution_count": 58,
   "metadata": {
    "slideshow": {
     "slide_type": "subslide"
    }
   },
   "outputs": [
    {
     "output_type": "execute_result",
     "data": {
      "text/html": "<div>\n<style scoped>\n    .dataframe tbody tr th:only-of-type {\n        vertical-align: middle;\n    }\n\n    .dataframe tbody tr th {\n        vertical-align: top;\n    }\n\n    .dataframe thead th {\n        text-align: right;\n    }\n</style>\n<table border=\"1\" class=\"dataframe\">\n  <thead>\n    <tr style=\"text-align: right;\">\n      <th></th>\n      <th>age</th>\n      <th>workclass</th>\n      <th>fnlwgt</th>\n      <th>education</th>\n      <th>education_num</th>\n      <th>marital_status</th>\n      <th>occupation</th>\n      <th>relationship</th>\n      <th>ethnicity</th>\n      <th>gender</th>\n      <th>capital_gain</th>\n      <th>capital_loss</th>\n      <th>hours_per_week</th>\n      <th>native_country</th>\n      <th>income</th>\n    </tr>\n  </thead>\n  <tbody>\n    <tr>\n      <th>3</th>\n      <td>53</td>\n      <td>Private</td>\n      <td>234721</td>\n      <td>11th</td>\n      <td>7</td>\n      <td>Married-civ-spouse</td>\n      <td>Handlers-cleaners</td>\n      <td>Husband</td>\n      <td>Black</td>\n      <td>Male</td>\n      <td>0</td>\n      <td>0</td>\n      <td>40</td>\n      <td>United-States</td>\n      <td>&lt;=50K</td>\n    </tr>\n    <tr>\n      <th>7</th>\n      <td>52</td>\n      <td>Self-emp-not-inc</td>\n      <td>209642</td>\n      <td>HS-grad</td>\n      <td>9</td>\n      <td>Married-civ-spouse</td>\n      <td>Exec-managerial</td>\n      <td>Husband</td>\n      <td>White</td>\n      <td>Male</td>\n      <td>0</td>\n      <td>0</td>\n      <td>45</td>\n      <td>United-States</td>\n      <td>&gt;50K</td>\n    </tr>\n    <tr>\n      <th>21</th>\n      <td>54</td>\n      <td>Private</td>\n      <td>302146</td>\n      <td>HS-grad</td>\n      <td>9</td>\n      <td>Separated</td>\n      <td>Other-service</td>\n      <td>Unmarried</td>\n      <td>Black</td>\n      <td>Female</td>\n      <td>0</td>\n      <td>0</td>\n      <td>20</td>\n      <td>United-States</td>\n      <td>&lt;=50K</td>\n    </tr>\n    <tr>\n      <th>24</th>\n      <td>59</td>\n      <td>Private</td>\n      <td>109015</td>\n      <td>HS-grad</td>\n      <td>9</td>\n      <td>Divorced</td>\n      <td>Tech-support</td>\n      <td>Unmarried</td>\n      <td>White</td>\n      <td>Female</td>\n      <td>0</td>\n      <td>0</td>\n      <td>40</td>\n      <td>United-States</td>\n      <td>&lt;=50K</td>\n    </tr>\n  </tbody>\n</table>\n</div>",
      "text/plain": "    age          workclass  fnlwgt education  education_num  \\\n3    53            Private  234721      11th              7   \n7    52   Self-emp-not-inc  209642   HS-grad              9   \n21   54            Private  302146   HS-grad              9   \n24   59            Private  109015   HS-grad              9   \n\n         marital_status          occupation relationship ethnicity  gender  \\\n3    Married-civ-spouse   Handlers-cleaners      Husband     Black    Male   \n7    Married-civ-spouse     Exec-managerial      Husband     White    Male   \n21            Separated       Other-service    Unmarried     Black  Female   \n24             Divorced        Tech-support    Unmarried     White  Female   \n\n    capital_gain  capital_loss  hours_per_week  native_country  income  \n3              0             0              40   United-States   <=50K  \n7              0             0              45   United-States    >50K  \n21             0             0              20   United-States   <=50K  \n24             0             0              40   United-States   <=50K  "
     },
     "metadata": {},
     "execution_count": 58
    }
   ],
   "source": [
    "df[df.age > 50].head(4)"
   ]
  },
  {
   "cell_type": "markdown",
   "metadata": {
    "slideshow": {
     "slide_type": "slide"
    }
   },
   "source": [
    "## Now Filter on Gender"
   ]
  },
  {
   "cell_type": "code",
   "execution_count": 59,
   "metadata": {
    "slideshow": {
     "slide_type": "fragment"
    }
   },
   "outputs": [
    {
     "output_type": "execute_result",
     "data": {
      "text/plain": "0         True\n1         True\n2         True\n3         True\n4        False\n         ...  \n32556    False\n32557     True\n32558    False\n32559     True\n32560    False\nName: gender, Length: 32561, dtype: bool"
     },
     "metadata": {},
     "execution_count": 59
    }
   ],
   "source": [
    "df.gender == 'Male'"
   ]
  },
  {
   "cell_type": "code",
   "execution_count": 60,
   "metadata": {
    "slideshow": {
     "slide_type": "subslide"
    }
   },
   "outputs": [
    {
     "output_type": "execute_result",
     "data": {
      "text/html": "<div>\n<style scoped>\n    .dataframe tbody tr th:only-of-type {\n        vertical-align: middle;\n    }\n\n    .dataframe tbody tr th {\n        vertical-align: top;\n    }\n\n    .dataframe thead th {\n        text-align: right;\n    }\n</style>\n<table border=\"1\" class=\"dataframe\">\n  <thead>\n    <tr style=\"text-align: right;\">\n      <th></th>\n      <th>age</th>\n      <th>workclass</th>\n      <th>fnlwgt</th>\n      <th>education</th>\n      <th>education_num</th>\n      <th>marital_status</th>\n      <th>occupation</th>\n      <th>relationship</th>\n      <th>ethnicity</th>\n      <th>gender</th>\n      <th>capital_gain</th>\n      <th>capital_loss</th>\n      <th>hours_per_week</th>\n      <th>native_country</th>\n      <th>income</th>\n    </tr>\n  </thead>\n  <tbody>\n    <tr>\n      <th>0</th>\n      <td>39</td>\n      <td>State-gov</td>\n      <td>77516</td>\n      <td>Bachelors</td>\n      <td>13</td>\n      <td>Never-married</td>\n      <td>Adm-clerical</td>\n      <td>Not-in-family</td>\n      <td>White</td>\n      <td>Male</td>\n      <td>2174</td>\n      <td>0</td>\n      <td>40</td>\n      <td>United-States</td>\n      <td>&lt;=50K</td>\n    </tr>\n    <tr>\n      <th>1</th>\n      <td>50</td>\n      <td>Self-emp-not-inc</td>\n      <td>83311</td>\n      <td>Bachelors</td>\n      <td>13</td>\n      <td>Married-civ-spouse</td>\n      <td>Exec-managerial</td>\n      <td>Husband</td>\n      <td>White</td>\n      <td>Male</td>\n      <td>0</td>\n      <td>0</td>\n      <td>13</td>\n      <td>United-States</td>\n      <td>&lt;=50K</td>\n    </tr>\n    <tr>\n      <th>2</th>\n      <td>38</td>\n      <td>Private</td>\n      <td>215646</td>\n      <td>HS-grad</td>\n      <td>9</td>\n      <td>Divorced</td>\n      <td>Handlers-cleaners</td>\n      <td>Not-in-family</td>\n      <td>White</td>\n      <td>Male</td>\n      <td>0</td>\n      <td>0</td>\n      <td>40</td>\n      <td>United-States</td>\n      <td>&lt;=50K</td>\n    </tr>\n    <tr>\n      <th>3</th>\n      <td>53</td>\n      <td>Private</td>\n      <td>234721</td>\n      <td>11th</td>\n      <td>7</td>\n      <td>Married-civ-spouse</td>\n      <td>Handlers-cleaners</td>\n      <td>Husband</td>\n      <td>Black</td>\n      <td>Male</td>\n      <td>0</td>\n      <td>0</td>\n      <td>40</td>\n      <td>United-States</td>\n      <td>&lt;=50K</td>\n    </tr>\n    <tr>\n      <th>7</th>\n      <td>52</td>\n      <td>Self-emp-not-inc</td>\n      <td>209642</td>\n      <td>HS-grad</td>\n      <td>9</td>\n      <td>Married-civ-spouse</td>\n      <td>Exec-managerial</td>\n      <td>Husband</td>\n      <td>White</td>\n      <td>Male</td>\n      <td>0</td>\n      <td>0</td>\n      <td>45</td>\n      <td>United-States</td>\n      <td>&gt;50K</td>\n    </tr>\n    <tr>\n      <th>...</th>\n      <td>...</td>\n      <td>...</td>\n      <td>...</td>\n      <td>...</td>\n      <td>...</td>\n      <td>...</td>\n      <td>...</td>\n      <td>...</td>\n      <td>...</td>\n      <td>...</td>\n      <td>...</td>\n      <td>...</td>\n      <td>...</td>\n      <td>...</td>\n      <td>...</td>\n    </tr>\n    <tr>\n      <th>32553</th>\n      <td>32</td>\n      <td>Private</td>\n      <td>116138</td>\n      <td>Masters</td>\n      <td>14</td>\n      <td>Never-married</td>\n      <td>Tech-support</td>\n      <td>Not-in-family</td>\n      <td>Asian-Pac-Islander</td>\n      <td>Male</td>\n      <td>0</td>\n      <td>0</td>\n      <td>11</td>\n      <td>Taiwan</td>\n      <td>&lt;=50K</td>\n    </tr>\n    <tr>\n      <th>32554</th>\n      <td>53</td>\n      <td>Private</td>\n      <td>321865</td>\n      <td>Masters</td>\n      <td>14</td>\n      <td>Married-civ-spouse</td>\n      <td>Exec-managerial</td>\n      <td>Husband</td>\n      <td>White</td>\n      <td>Male</td>\n      <td>0</td>\n      <td>0</td>\n      <td>40</td>\n      <td>United-States</td>\n      <td>&gt;50K</td>\n    </tr>\n    <tr>\n      <th>32555</th>\n      <td>22</td>\n      <td>Private</td>\n      <td>310152</td>\n      <td>Some-college</td>\n      <td>10</td>\n      <td>Never-married</td>\n      <td>Protective-serv</td>\n      <td>Not-in-family</td>\n      <td>White</td>\n      <td>Male</td>\n      <td>0</td>\n      <td>0</td>\n      <td>40</td>\n      <td>United-States</td>\n      <td>&lt;=50K</td>\n    </tr>\n    <tr>\n      <th>32557</th>\n      <td>40</td>\n      <td>Private</td>\n      <td>154374</td>\n      <td>HS-grad</td>\n      <td>9</td>\n      <td>Married-civ-spouse</td>\n      <td>Machine-op-inspct</td>\n      <td>Husband</td>\n      <td>White</td>\n      <td>Male</td>\n      <td>0</td>\n      <td>0</td>\n      <td>40</td>\n      <td>United-States</td>\n      <td>&gt;50K</td>\n    </tr>\n    <tr>\n      <th>32559</th>\n      <td>22</td>\n      <td>Private</td>\n      <td>201490</td>\n      <td>HS-grad</td>\n      <td>9</td>\n      <td>Never-married</td>\n      <td>Adm-clerical</td>\n      <td>Own-child</td>\n      <td>White</td>\n      <td>Male</td>\n      <td>0</td>\n      <td>0</td>\n      <td>20</td>\n      <td>United-States</td>\n      <td>&lt;=50K</td>\n    </tr>\n  </tbody>\n</table>\n<p>21790 rows × 15 columns</p>\n</div>",
      "text/plain": "       age          workclass  fnlwgt     education  education_num  \\\n0       39          State-gov   77516     Bachelors             13   \n1       50   Self-emp-not-inc   83311     Bachelors             13   \n2       38            Private  215646       HS-grad              9   \n3       53            Private  234721          11th              7   \n7       52   Self-emp-not-inc  209642       HS-grad              9   \n...    ...                ...     ...           ...            ...   \n32553   32            Private  116138       Masters             14   \n32554   53            Private  321865       Masters             14   \n32555   22            Private  310152  Some-college             10   \n32557   40            Private  154374       HS-grad              9   \n32559   22            Private  201490       HS-grad              9   \n\n            marital_status          occupation    relationship  \\\n0            Never-married        Adm-clerical   Not-in-family   \n1       Married-civ-spouse     Exec-managerial         Husband   \n2                 Divorced   Handlers-cleaners   Not-in-family   \n3       Married-civ-spouse   Handlers-cleaners         Husband   \n7       Married-civ-spouse     Exec-managerial         Husband   \n...                    ...                 ...             ...   \n32553        Never-married        Tech-support   Not-in-family   \n32554   Married-civ-spouse     Exec-managerial         Husband   \n32555        Never-married     Protective-serv   Not-in-family   \n32557   Married-civ-spouse   Machine-op-inspct         Husband   \n32559        Never-married        Adm-clerical       Own-child   \n\n                 ethnicity gender  capital_gain  capital_loss  hours_per_week  \\\n0                    White   Male          2174             0              40   \n1                    White   Male             0             0              13   \n2                    White   Male             0             0              40   \n3                    Black   Male             0             0              40   \n7                    White   Male             0             0              45   \n...                    ...    ...           ...           ...             ...   \n32553   Asian-Pac-Islander   Male             0             0              11   \n32554                White   Male             0             0              40   \n32555                White   Male             0             0              40   \n32557                White   Male             0             0              40   \n32559                White   Male             0             0              20   \n\n       native_country  income  \n0       United-States   <=50K  \n1       United-States   <=50K  \n2       United-States   <=50K  \n3       United-States   <=50K  \n7       United-States    >50K  \n...               ...     ...  \n32553          Taiwan   <=50K  \n32554   United-States    >50K  \n32555   United-States   <=50K  \n32557   United-States    >50K  \n32559   United-States   <=50K  \n\n[21790 rows x 15 columns]"
     },
     "metadata": {},
     "execution_count": 60
    }
   ],
   "source": [
    "df.loc[df.gender == 'Male', ]"
   ]
  },
  {
   "cell_type": "markdown",
   "metadata": {
    "slideshow": {
     "slide_type": "slide"
    }
   },
   "source": [
    "## Now Filter on Gender and Age Between 30 and 40"
   ]
  },
  {
   "cell_type": "code",
   "execution_count": 61,
   "metadata": {
    "slideshow": {
     "slide_type": "fragment"
    }
   },
   "outputs": [
    {
     "output_type": "execute_result",
     "data": {
      "text/plain": "0         True\n1        False\n2         True\n3        False\n4        False\n         ...  \n32556    False\n32557     True\n32558    False\n32559    False\n32560    False\nLength: 32561, dtype: bool"
     },
     "metadata": {},
     "execution_count": 61
    }
   ],
   "source": [
    "(df.gender == 'Male') & (df.age >= 30) & (df.age <= 40)"
   ]
  },
  {
   "cell_type": "code",
   "execution_count": 62,
   "metadata": {
    "slideshow": {
     "slide_type": "subslide"
    }
   },
   "outputs": [
    {
     "output_type": "execute_result",
     "data": {
      "text/html": "<div>\n<style scoped>\n    .dataframe tbody tr th:only-of-type {\n        vertical-align: middle;\n    }\n\n    .dataframe tbody tr th {\n        vertical-align: top;\n    }\n\n    .dataframe thead th {\n        text-align: right;\n    }\n</style>\n<table border=\"1\" class=\"dataframe\">\n  <thead>\n    <tr style=\"text-align: right;\">\n      <th></th>\n      <th>age</th>\n      <th>workclass</th>\n      <th>fnlwgt</th>\n      <th>education</th>\n      <th>education_num</th>\n      <th>marital_status</th>\n      <th>occupation</th>\n      <th>relationship</th>\n      <th>ethnicity</th>\n      <th>gender</th>\n      <th>capital_gain</th>\n      <th>capital_loss</th>\n      <th>hours_per_week</th>\n      <th>native_country</th>\n      <th>income</th>\n    </tr>\n  </thead>\n  <tbody>\n    <tr>\n      <th>0</th>\n      <td>39</td>\n      <td>State-gov</td>\n      <td>77516</td>\n      <td>Bachelors</td>\n      <td>13</td>\n      <td>Never-married</td>\n      <td>Adm-clerical</td>\n      <td>Not-in-family</td>\n      <td>White</td>\n      <td>Male</td>\n      <td>2174</td>\n      <td>0</td>\n      <td>40</td>\n      <td>United-States</td>\n      <td>&lt;=50K</td>\n    </tr>\n    <tr>\n      <th>2</th>\n      <td>38</td>\n      <td>Private</td>\n      <td>215646</td>\n      <td>HS-grad</td>\n      <td>9</td>\n      <td>Divorced</td>\n      <td>Handlers-cleaners</td>\n      <td>Not-in-family</td>\n      <td>White</td>\n      <td>Male</td>\n      <td>0</td>\n      <td>0</td>\n      <td>40</td>\n      <td>United-States</td>\n      <td>&lt;=50K</td>\n    </tr>\n    <tr>\n      <th>10</th>\n      <td>37</td>\n      <td>Private</td>\n      <td>280464</td>\n      <td>Some-college</td>\n      <td>10</td>\n      <td>Married-civ-spouse</td>\n      <td>Exec-managerial</td>\n      <td>Husband</td>\n      <td>Black</td>\n      <td>Male</td>\n      <td>0</td>\n      <td>0</td>\n      <td>80</td>\n      <td>United-States</td>\n      <td>&gt;50K</td>\n    </tr>\n    <tr>\n      <th>11</th>\n      <td>30</td>\n      <td>State-gov</td>\n      <td>141297</td>\n      <td>Bachelors</td>\n      <td>13</td>\n      <td>Married-civ-spouse</td>\n      <td>Prof-specialty</td>\n      <td>Husband</td>\n      <td>Asian-Pac-Islander</td>\n      <td>Male</td>\n      <td>0</td>\n      <td>0</td>\n      <td>40</td>\n      <td>India</td>\n      <td>&gt;50K</td>\n    </tr>\n    <tr>\n      <th>13</th>\n      <td>32</td>\n      <td>Private</td>\n      <td>205019</td>\n      <td>Assoc-acdm</td>\n      <td>12</td>\n      <td>Never-married</td>\n      <td>Sales</td>\n      <td>Not-in-family</td>\n      <td>Black</td>\n      <td>Male</td>\n      <td>0</td>\n      <td>0</td>\n      <td>50</td>\n      <td>United-States</td>\n      <td>&lt;=50K</td>\n    </tr>\n    <tr>\n      <th>...</th>\n      <td>...</td>\n      <td>...</td>\n      <td>...</td>\n      <td>...</td>\n      <td>...</td>\n      <td>...</td>\n      <td>...</td>\n      <td>...</td>\n      <td>...</td>\n      <td>...</td>\n      <td>...</td>\n      <td>...</td>\n      <td>...</td>\n      <td>...</td>\n      <td>...</td>\n    </tr>\n    <tr>\n      <th>32532</th>\n      <td>34</td>\n      <td>Private</td>\n      <td>204461</td>\n      <td>Doctorate</td>\n      <td>16</td>\n      <td>Married-civ-spouse</td>\n      <td>Prof-specialty</td>\n      <td>Husband</td>\n      <td>White</td>\n      <td>Male</td>\n      <td>0</td>\n      <td>0</td>\n      <td>60</td>\n      <td>United-States</td>\n      <td>&gt;50K</td>\n    </tr>\n    <tr>\n      <th>32537</th>\n      <td>30</td>\n      <td>Private</td>\n      <td>345898</td>\n      <td>HS-grad</td>\n      <td>9</td>\n      <td>Never-married</td>\n      <td>Craft-repair</td>\n      <td>Not-in-family</td>\n      <td>Black</td>\n      <td>Male</td>\n      <td>0</td>\n      <td>0</td>\n      <td>46</td>\n      <td>United-States</td>\n      <td>&lt;=50K</td>\n    </tr>\n    <tr>\n      <th>32551</th>\n      <td>32</td>\n      <td>Private</td>\n      <td>34066</td>\n      <td>10th</td>\n      <td>6</td>\n      <td>Married-civ-spouse</td>\n      <td>Handlers-cleaners</td>\n      <td>Husband</td>\n      <td>Amer-Indian-Eskimo</td>\n      <td>Male</td>\n      <td>0</td>\n      <td>0</td>\n      <td>40</td>\n      <td>United-States</td>\n      <td>&lt;=50K</td>\n    </tr>\n    <tr>\n      <th>32553</th>\n      <td>32</td>\n      <td>Private</td>\n      <td>116138</td>\n      <td>Masters</td>\n      <td>14</td>\n      <td>Never-married</td>\n      <td>Tech-support</td>\n      <td>Not-in-family</td>\n      <td>Asian-Pac-Islander</td>\n      <td>Male</td>\n      <td>0</td>\n      <td>0</td>\n      <td>11</td>\n      <td>Taiwan</td>\n      <td>&lt;=50K</td>\n    </tr>\n    <tr>\n      <th>32557</th>\n      <td>40</td>\n      <td>Private</td>\n      <td>154374</td>\n      <td>HS-grad</td>\n      <td>9</td>\n      <td>Married-civ-spouse</td>\n      <td>Machine-op-inspct</td>\n      <td>Husband</td>\n      <td>White</td>\n      <td>Male</td>\n      <td>0</td>\n      <td>0</td>\n      <td>40</td>\n      <td>United-States</td>\n      <td>&gt;50K</td>\n    </tr>\n  </tbody>\n</table>\n<p>6568 rows × 15 columns</p>\n</div>",
      "text/plain": "       age   workclass  fnlwgt     education  education_num  \\\n0       39   State-gov   77516     Bachelors             13   \n2       38     Private  215646       HS-grad              9   \n10      37     Private  280464  Some-college             10   \n11      30   State-gov  141297     Bachelors             13   \n13      32     Private  205019    Assoc-acdm             12   \n...    ...         ...     ...           ...            ...   \n32532   34     Private  204461     Doctorate             16   \n32537   30     Private  345898       HS-grad              9   \n32551   32     Private   34066          10th              6   \n32553   32     Private  116138       Masters             14   \n32557   40     Private  154374       HS-grad              9   \n\n            marital_status          occupation    relationship  \\\n0            Never-married        Adm-clerical   Not-in-family   \n2                 Divorced   Handlers-cleaners   Not-in-family   \n10      Married-civ-spouse     Exec-managerial         Husband   \n11      Married-civ-spouse      Prof-specialty         Husband   \n13           Never-married               Sales   Not-in-family   \n...                    ...                 ...             ...   \n32532   Married-civ-spouse      Prof-specialty         Husband   \n32537        Never-married        Craft-repair   Not-in-family   \n32551   Married-civ-spouse   Handlers-cleaners         Husband   \n32553        Never-married        Tech-support   Not-in-family   \n32557   Married-civ-spouse   Machine-op-inspct         Husband   \n\n                 ethnicity gender  capital_gain  capital_loss  hours_per_week  \\\n0                    White   Male          2174             0              40   \n2                    White   Male             0             0              40   \n10                   Black   Male             0             0              80   \n11      Asian-Pac-Islander   Male             0             0              40   \n13                   Black   Male             0             0              50   \n...                    ...    ...           ...           ...             ...   \n32532                White   Male             0             0              60   \n32537                Black   Male             0             0              46   \n32551   Amer-Indian-Eskimo   Male             0             0              40   \n32553   Asian-Pac-Islander   Male             0             0              11   \n32557                White   Male             0             0              40   \n\n       native_country  income  \n0       United-States   <=50K  \n2       United-States   <=50K  \n10      United-States    >50K  \n11              India    >50K  \n13      United-States   <=50K  \n...               ...     ...  \n32532   United-States    >50K  \n32537   United-States   <=50K  \n32551   United-States   <=50K  \n32553          Taiwan   <=50K  \n32557   United-States    >50K  \n\n[6568 rows x 15 columns]"
     },
     "metadata": {},
     "execution_count": 62
    }
   ],
   "source": [
    "(df.age >= 30) & (df.gender == 'Male')\n",
    "\n",
    "df.loc[(df.age >= 30) & (df.gender == 'Male') & (df.age <= 40), :]"
   ]
  },
  {
   "cell_type": "markdown",
   "metadata": {
    "slideshow": {
     "slide_type": "slide"
    }
   },
   "source": [
    "## Find Nulls"
   ]
  },
  {
   "cell_type": "code",
   "execution_count": 63,
   "metadata": {
    "slideshow": {
     "slide_type": "fragment"
    }
   },
   "outputs": [
    {
     "output_type": "execute_result",
     "data": {
      "text/html": "<div>\n<style scoped>\n    .dataframe tbody tr th:only-of-type {\n        vertical-align: middle;\n    }\n\n    .dataframe tbody tr th {\n        vertical-align: top;\n    }\n\n    .dataframe thead th {\n        text-align: right;\n    }\n</style>\n<table border=\"1\" class=\"dataframe\">\n  <thead>\n    <tr style=\"text-align: right;\">\n      <th></th>\n      <th>age</th>\n      <th>workclass</th>\n      <th>fnlwgt</th>\n      <th>education</th>\n      <th>education_num</th>\n      <th>marital_status</th>\n      <th>occupation</th>\n      <th>relationship</th>\n      <th>ethnicity</th>\n      <th>gender</th>\n      <th>capital_gain</th>\n      <th>capital_loss</th>\n      <th>hours_per_week</th>\n      <th>native_country</th>\n      <th>income</th>\n    </tr>\n  </thead>\n  <tbody>\n  </tbody>\n</table>\n</div>",
      "text/plain": "Empty DataFrame\nColumns: [age, workclass, fnlwgt, education, education_num, marital_status, occupation, relationship, ethnicity, gender, capital_gain, capital_loss, hours_per_week, native_country, income]\nIndex: []"
     },
     "metadata": {},
     "execution_count": 63
    }
   ],
   "source": [
    "# as we saw with df.info() there are no nulls...\n",
    "# but if there were this would find the rows where age is null\n",
    "df[df.age.isnull()]"
   ]
  },
  {
   "cell_type": "markdown",
   "metadata": {
    "slideshow": {
     "slide_type": "slide"
    }
   },
   "source": [
    "## Fill Nulls"
   ]
  },
  {
   "cell_type": "code",
   "execution_count": 64,
   "metadata": {
    "slideshow": {
     "slide_type": "fragment"
    }
   },
   "outputs": [],
   "source": [
    "null_df = pd.DataFrame([1, 2, 4, np.nan], columns=['column1'])"
   ]
  },
  {
   "cell_type": "code",
   "execution_count": 65,
   "metadata": {
    "slideshow": {
     "slide_type": "fragment"
    }
   },
   "outputs": [
    {
     "output_type": "execute_result",
     "data": {
      "text/html": "<div>\n<style scoped>\n    .dataframe tbody tr th:only-of-type {\n        vertical-align: middle;\n    }\n\n    .dataframe tbody tr th {\n        vertical-align: top;\n    }\n\n    .dataframe thead th {\n        text-align: right;\n    }\n</style>\n<table border=\"1\" class=\"dataframe\">\n  <thead>\n    <tr style=\"text-align: right;\">\n      <th></th>\n      <th>column1</th>\n    </tr>\n  </thead>\n  <tbody>\n    <tr>\n      <th>0</th>\n      <td>1.0</td>\n    </tr>\n    <tr>\n      <th>1</th>\n      <td>2.0</td>\n    </tr>\n    <tr>\n      <th>2</th>\n      <td>4.0</td>\n    </tr>\n    <tr>\n      <th>3</th>\n      <td>NaN</td>\n    </tr>\n  </tbody>\n</table>\n</div>",
      "text/plain": "   column1\n0      1.0\n1      2.0\n2      4.0\n3      NaN"
     },
     "metadata": {},
     "execution_count": 65
    }
   ],
   "source": [
    "null_df"
   ]
  },
  {
   "cell_type": "code",
   "execution_count": 66,
   "metadata": {
    "slideshow": {
     "slide_type": "fragment"
    }
   },
   "outputs": [
    {
     "output_type": "execute_result",
     "data": {
      "text/plain": "0       1.0\n1       2.0\n2       4.0\n3    1000.0\nName: column1, dtype: float64"
     },
     "metadata": {},
     "execution_count": 66
    }
   ],
   "source": [
    "# you can also fill nulls with a value or string\n",
    "null_df.column1.fillna(1000)"
   ]
  },
  {
   "cell_type": "code",
   "execution_count": 67,
   "metadata": {
    "slideshow": {
     "slide_type": "subslide"
    }
   },
   "outputs": [
    {
     "output_type": "execute_result",
     "data": {
      "text/html": "<div>\n<style scoped>\n    .dataframe tbody tr th:only-of-type {\n        vertical-align: middle;\n    }\n\n    .dataframe tbody tr th {\n        vertical-align: top;\n    }\n\n    .dataframe thead th {\n        text-align: right;\n    }\n</style>\n<table border=\"1\" class=\"dataframe\">\n  <thead>\n    <tr style=\"text-align: right;\">\n      <th></th>\n      <th>column1</th>\n    </tr>\n  </thead>\n  <tbody>\n    <tr>\n      <th>0</th>\n      <td>1.0</td>\n    </tr>\n    <tr>\n      <th>1</th>\n      <td>2.0</td>\n    </tr>\n    <tr>\n      <th>2</th>\n      <td>4.0</td>\n    </tr>\n    <tr>\n      <th>3</th>\n      <td>NaN</td>\n    </tr>\n  </tbody>\n</table>\n</div>",
      "text/plain": "   column1\n0      1.0\n1      2.0\n2      4.0\n3      NaN"
     },
     "metadata": {},
     "execution_count": 67
    }
   ],
   "source": [
    "# fillna does not do it inplace unless you specify\n",
    "null_df"
   ]
  },
  {
   "cell_type": "code",
   "execution_count": 68,
   "metadata": {
    "slideshow": {
     "slide_type": "fragment"
    }
   },
   "outputs": [
    {
     "output_type": "execute_result",
     "data": {
      "text/html": "<div>\n<style scoped>\n    .dataframe tbody tr th:only-of-type {\n        vertical-align: middle;\n    }\n\n    .dataframe tbody tr th {\n        vertical-align: top;\n    }\n\n    .dataframe thead th {\n        text-align: right;\n    }\n</style>\n<table border=\"1\" class=\"dataframe\">\n  <thead>\n    <tr style=\"text-align: right;\">\n      <th></th>\n      <th>column1</th>\n    </tr>\n  </thead>\n  <tbody>\n    <tr>\n      <th>0</th>\n      <td>1.0</td>\n    </tr>\n    <tr>\n      <th>1</th>\n      <td>2.0</td>\n    </tr>\n    <tr>\n      <th>2</th>\n      <td>4.0</td>\n    </tr>\n    <tr>\n      <th>3</th>\n      <td>2.0</td>\n    </tr>\n  </tbody>\n</table>\n</div>",
      "text/plain": "   column1\n0      1.0\n1      2.0\n2      4.0\n3      2.0"
     },
     "metadata": {},
     "execution_count": 68
    }
   ],
   "source": [
    "# you can also fill null with the median or mean value of the column\n",
    "null_df.fillna(null_df.column1.median(), inplace=True)\n",
    "null_df"
   ]
  },
  {
   "cell_type": "code",
   "execution_count": 69,
   "metadata": {
    "slideshow": {
     "slide_type": "subslide"
    }
   },
   "outputs": [
    {
     "output_type": "execute_result",
     "data": {
      "text/html": "<div>\n<style scoped>\n    .dataframe tbody tr th:only-of-type {\n        vertical-align: middle;\n    }\n\n    .dataframe tbody tr th {\n        vertical-align: top;\n    }\n\n    .dataframe thead th {\n        text-align: right;\n    }\n</style>\n<table border=\"1\" class=\"dataframe\">\n  <thead>\n    <tr style=\"text-align: right;\">\n      <th></th>\n      <th>column1</th>\n    </tr>\n  </thead>\n  <tbody>\n    <tr>\n      <th>0</th>\n      <td>1.0</td>\n    </tr>\n    <tr>\n      <th>1</th>\n      <td>2.0</td>\n    </tr>\n    <tr>\n      <th>2</th>\n      <td>4.0</td>\n    </tr>\n    <tr>\n      <th>3</th>\n      <td>2.0</td>\n    </tr>\n  </tbody>\n</table>\n</div>",
      "text/plain": "   column1\n0      1.0\n1      2.0\n2      4.0\n3      2.0"
     },
     "metadata": {},
     "execution_count": 69
    }
   ],
   "source": [
    "null_df.fillna('random_string')"
   ]
  },
  {
   "cell_type": "markdown",
   "metadata": {
    "slideshow": {
     "slide_type": "slide"
    }
   },
   "source": [
    "## Drop Nulls"
   ]
  },
  {
   "cell_type": "code",
   "execution_count": 70,
   "metadata": {
    "slideshow": {
     "slide_type": "fragment"
    }
   },
   "outputs": [
    {
     "output_type": "execute_result",
     "data": {
      "text/html": "<div>\n<style scoped>\n    .dataframe tbody tr th:only-of-type {\n        vertical-align: middle;\n    }\n\n    .dataframe tbody tr th {\n        vertical-align: top;\n    }\n\n    .dataframe thead th {\n        text-align: right;\n    }\n</style>\n<table border=\"1\" class=\"dataframe\">\n  <thead>\n    <tr style=\"text-align: right;\">\n      <th></th>\n      <th>column1</th>\n    </tr>\n  </thead>\n  <tbody>\n    <tr>\n      <th>0</th>\n      <td>1.0</td>\n    </tr>\n    <tr>\n      <th>1</th>\n      <td>2.0</td>\n    </tr>\n    <tr>\n      <th>2</th>\n      <td>4.0</td>\n    </tr>\n    <tr>\n      <th>3</th>\n      <td>NaN</td>\n    </tr>\n  </tbody>\n</table>\n</div>",
      "text/plain": "   column1\n0      1.0\n1      2.0\n2      4.0\n3      NaN"
     },
     "metadata": {},
     "execution_count": 70
    }
   ],
   "source": [
    "null_df = pd.DataFrame([1, 2, 4, np.nan], columns=['column1'])\n",
    "null_df"
   ]
  },
  {
   "cell_type": "code",
   "execution_count": 71,
   "metadata": {
    "slideshow": {
     "slide_type": "fragment"
    }
   },
   "outputs": [
    {
     "output_type": "execute_result",
     "data": {
      "text/html": "<div>\n<style scoped>\n    .dataframe tbody tr th:only-of-type {\n        vertical-align: middle;\n    }\n\n    .dataframe tbody tr th {\n        vertical-align: top;\n    }\n\n    .dataframe thead th {\n        text-align: right;\n    }\n</style>\n<table border=\"1\" class=\"dataframe\">\n  <thead>\n    <tr style=\"text-align: right;\">\n      <th></th>\n      <th>column1</th>\n    </tr>\n  </thead>\n  <tbody>\n    <tr>\n      <th>0</th>\n      <td>1.0</td>\n    </tr>\n    <tr>\n      <th>1</th>\n      <td>2.0</td>\n    </tr>\n    <tr>\n      <th>2</th>\n      <td>4.0</td>\n    </tr>\n  </tbody>\n</table>\n</div>",
      "text/plain": "   column1\n0      1.0\n1      2.0\n2      4.0"
     },
     "metadata": {},
     "execution_count": 71
    }
   ],
   "source": [
    "null_df.dropna(how = 'any')"
   ]
  },
  {
   "cell_type": "code",
   "execution_count": 72,
   "metadata": {
    "slideshow": {
     "slide_type": "fragment"
    }
   },
   "outputs": [
    {
     "output_type": "execute_result",
     "data": {
      "text/html": "<div>\n<style scoped>\n    .dataframe tbody tr th:only-of-type {\n        vertical-align: middle;\n    }\n\n    .dataframe tbody tr th {\n        vertical-align: top;\n    }\n\n    .dataframe thead th {\n        text-align: right;\n    }\n</style>\n<table border=\"1\" class=\"dataframe\">\n  <thead>\n    <tr style=\"text-align: right;\">\n      <th></th>\n      <th>column1</th>\n    </tr>\n  </thead>\n  <tbody>\n    <tr>\n      <th>0</th>\n      <td>False</td>\n    </tr>\n    <tr>\n      <th>1</th>\n      <td>False</td>\n    </tr>\n    <tr>\n      <th>2</th>\n      <td>False</td>\n    </tr>\n    <tr>\n      <th>3</th>\n      <td>True</td>\n    </tr>\n  </tbody>\n</table>\n</div>",
      "text/plain": "   column1\n0    False\n1    False\n2    False\n3     True"
     },
     "metadata": {},
     "execution_count": 72
    }
   ],
   "source": [
    "# .isnull() and .notnull() do opposite things\n",
    "null_df.isnull()"
   ]
  },
  {
   "cell_type": "code",
   "execution_count": 73,
   "metadata": {
    "slideshow": {
     "slide_type": "fragment"
    }
   },
   "outputs": [
    {
     "output_type": "execute_result",
     "data": {
      "text/html": "<div>\n<style scoped>\n    .dataframe tbody tr th:only-of-type {\n        vertical-align: middle;\n    }\n\n    .dataframe tbody tr th {\n        vertical-align: top;\n    }\n\n    .dataframe thead th {\n        text-align: right;\n    }\n</style>\n<table border=\"1\" class=\"dataframe\">\n  <thead>\n    <tr style=\"text-align: right;\">\n      <th></th>\n      <th>column1</th>\n    </tr>\n  </thead>\n  <tbody>\n    <tr>\n      <th>0</th>\n      <td>True</td>\n    </tr>\n    <tr>\n      <th>1</th>\n      <td>True</td>\n    </tr>\n    <tr>\n      <th>2</th>\n      <td>True</td>\n    </tr>\n    <tr>\n      <th>3</th>\n      <td>False</td>\n    </tr>\n  </tbody>\n</table>\n</div>",
      "text/plain": "   column1\n0     True\n1     True\n2     True\n3    False"
     },
     "metadata": {},
     "execution_count": 73
    }
   ],
   "source": [
    "null_df.notnull()"
   ]
  },
  {
   "cell_type": "markdown",
   "metadata": {
    "slideshow": {
     "slide_type": "slide"
    }
   },
   "source": [
    "## Groupby"
   ]
  },
  {
   "cell_type": "code",
   "execution_count": 74,
   "metadata": {
    "slideshow": {
     "slide_type": "fragment"
    }
   },
   "outputs": [
    {
     "output_type": "execute_result",
     "data": {
      "text/html": "<div>\n<style scoped>\n    .dataframe tbody tr th:only-of-type {\n        vertical-align: middle;\n    }\n\n    .dataframe tbody tr th {\n        vertical-align: top;\n    }\n\n    .dataframe thead th {\n        text-align: right;\n    }\n</style>\n<table border=\"1\" class=\"dataframe\">\n  <thead>\n    <tr style=\"text-align: right;\">\n      <th></th>\n      <th>age</th>\n      <th>workclass</th>\n      <th>fnlwgt</th>\n      <th>education</th>\n      <th>education_num</th>\n      <th>marital_status</th>\n      <th>occupation</th>\n      <th>ethnicity</th>\n      <th>gender</th>\n      <th>capital_gain</th>\n      <th>capital_loss</th>\n      <th>hours_per_week</th>\n      <th>native_country</th>\n      <th>income</th>\n    </tr>\n    <tr>\n      <th>relationship</th>\n      <th></th>\n      <th></th>\n      <th></th>\n      <th></th>\n      <th></th>\n      <th></th>\n      <th></th>\n      <th></th>\n      <th></th>\n      <th></th>\n      <th></th>\n      <th></th>\n      <th></th>\n      <th></th>\n    </tr>\n  </thead>\n  <tbody>\n    <tr>\n      <th>Husband</th>\n      <td>13193</td>\n      <td>13193</td>\n      <td>13193</td>\n      <td>13193</td>\n      <td>13193</td>\n      <td>13193</td>\n      <td>13193</td>\n      <td>13193</td>\n      <td>13193</td>\n      <td>13193</td>\n      <td>13193</td>\n      <td>13193</td>\n      <td>13193</td>\n      <td>13193</td>\n    </tr>\n    <tr>\n      <th>Not-in-family</th>\n      <td>8305</td>\n      <td>8305</td>\n      <td>8305</td>\n      <td>8305</td>\n      <td>8305</td>\n      <td>8305</td>\n      <td>8305</td>\n      <td>8305</td>\n      <td>8305</td>\n      <td>8305</td>\n      <td>8305</td>\n      <td>8305</td>\n      <td>8305</td>\n      <td>8305</td>\n    </tr>\n    <tr>\n      <th>Other-relative</th>\n      <td>981</td>\n      <td>981</td>\n      <td>981</td>\n      <td>981</td>\n      <td>981</td>\n      <td>981</td>\n      <td>981</td>\n      <td>981</td>\n      <td>981</td>\n      <td>981</td>\n      <td>981</td>\n      <td>981</td>\n      <td>981</td>\n      <td>981</td>\n    </tr>\n    <tr>\n      <th>Own-child</th>\n      <td>5068</td>\n      <td>5068</td>\n      <td>5068</td>\n      <td>5068</td>\n      <td>5068</td>\n      <td>5068</td>\n      <td>5068</td>\n      <td>5068</td>\n      <td>5068</td>\n      <td>5068</td>\n      <td>5068</td>\n      <td>5068</td>\n      <td>5068</td>\n      <td>5068</td>\n    </tr>\n    <tr>\n      <th>Unmarried</th>\n      <td>3446</td>\n      <td>3446</td>\n      <td>3446</td>\n      <td>3446</td>\n      <td>3446</td>\n      <td>3446</td>\n      <td>3446</td>\n      <td>3446</td>\n      <td>3446</td>\n      <td>3446</td>\n      <td>3446</td>\n      <td>3446</td>\n      <td>3446</td>\n      <td>3446</td>\n    </tr>\n    <tr>\n      <th>Wife</th>\n      <td>1568</td>\n      <td>1568</td>\n      <td>1568</td>\n      <td>1568</td>\n      <td>1568</td>\n      <td>1568</td>\n      <td>1568</td>\n      <td>1568</td>\n      <td>1568</td>\n      <td>1568</td>\n      <td>1568</td>\n      <td>1568</td>\n      <td>1568</td>\n      <td>1568</td>\n    </tr>\n  </tbody>\n</table>\n</div>",
      "text/plain": "                   age  workclass  fnlwgt  education  education_num  \\\nrelationship                                                          \n Husband         13193      13193   13193      13193          13193   \n Not-in-family    8305       8305    8305       8305           8305   \n Other-relative    981        981     981        981            981   \n Own-child        5068       5068    5068       5068           5068   \n Unmarried        3446       3446    3446       3446           3446   \n Wife             1568       1568    1568       1568           1568   \n\n                 marital_status  occupation  ethnicity  gender  capital_gain  \\\nrelationship                                                                   \n Husband                  13193       13193      13193   13193         13193   \n Not-in-family             8305        8305       8305    8305          8305   \n Other-relative             981         981        981     981           981   \n Own-child                 5068        5068       5068    5068          5068   \n Unmarried                 3446        3446       3446    3446          3446   \n Wife                      1568        1568       1568    1568          1568   \n\n                 capital_loss  hours_per_week  native_country  income  \nrelationship                                                           \n Husband                13193           13193           13193   13193  \n Not-in-family           8305            8305            8305    8305  \n Other-relative           981             981             981     981  \n Own-child               5068            5068            5068    5068  \n Unmarried               3446            3446            3446    3446  \n Wife                    1568            1568            1568    1568  "
     },
     "metadata": {},
     "execution_count": 74
    }
   ],
   "source": [
    "df.groupby('relationship').count()"
   ]
  },
  {
   "cell_type": "code",
   "execution_count": 75,
   "metadata": {
    "slideshow": {
     "slide_type": "subslide"
    }
   },
   "outputs": [
    {
     "output_type": "execute_result",
     "data": {
      "text/html": "<div>\n<style scoped>\n    .dataframe tbody tr th:only-of-type {\n        vertical-align: middle;\n    }\n\n    .dataframe tbody tr th {\n        vertical-align: top;\n    }\n\n    .dataframe thead th {\n        text-align: right;\n    }\n</style>\n<table border=\"1\" class=\"dataframe\">\n  <thead>\n    <tr style=\"text-align: right;\">\n      <th></th>\n      <th>age</th>\n      <th>fnlwgt</th>\n      <th>education_num</th>\n      <th>capital_gain</th>\n      <th>capital_loss</th>\n      <th>hours_per_week</th>\n    </tr>\n    <tr>\n      <th>education</th>\n      <th></th>\n      <th></th>\n      <th></th>\n      <th></th>\n      <th></th>\n      <th></th>\n    </tr>\n  </thead>\n  <tbody>\n    <tr>\n      <th>10th</th>\n      <td>37.430</td>\n      <td>196832.465</td>\n      <td>6.0</td>\n      <td>404.574</td>\n      <td>56.846</td>\n      <td>37.053</td>\n    </tr>\n    <tr>\n      <th>11th</th>\n      <td>32.356</td>\n      <td>194928.077</td>\n      <td>7.0</td>\n      <td>215.098</td>\n      <td>50.079</td>\n      <td>33.926</td>\n    </tr>\n    <tr>\n      <th>12th</th>\n      <td>32.000</td>\n      <td>199097.508</td>\n      <td>8.0</td>\n      <td>284.088</td>\n      <td>32.337</td>\n      <td>35.781</td>\n    </tr>\n    <tr>\n      <th>1st-4th</th>\n      <td>46.143</td>\n      <td>239303.000</td>\n      <td>2.0</td>\n      <td>125.875</td>\n      <td>48.327</td>\n      <td>38.256</td>\n    </tr>\n    <tr>\n      <th>5th-6th</th>\n      <td>42.886</td>\n      <td>232448.333</td>\n      <td>3.0</td>\n      <td>176.021</td>\n      <td>68.252</td>\n      <td>38.898</td>\n    </tr>\n    <tr>\n      <th>7th-8th</th>\n      <td>48.446</td>\n      <td>188079.172</td>\n      <td>4.0</td>\n      <td>233.940</td>\n      <td>65.669</td>\n      <td>39.367</td>\n    </tr>\n    <tr>\n      <th>9th</th>\n      <td>41.060</td>\n      <td>202485.066</td>\n      <td>5.0</td>\n      <td>342.089</td>\n      <td>28.998</td>\n      <td>38.045</td>\n    </tr>\n    <tr>\n      <th>Assoc-acdm</th>\n      <td>37.381</td>\n      <td>193424.094</td>\n      <td>12.0</td>\n      <td>640.399</td>\n      <td>93.419</td>\n      <td>40.504</td>\n    </tr>\n    <tr>\n      <th>Assoc-voc</th>\n      <td>38.554</td>\n      <td>181936.017</td>\n      <td>11.0</td>\n      <td>715.051</td>\n      <td>72.755</td>\n      <td>41.611</td>\n    </tr>\n    <tr>\n      <th>Bachelors</th>\n      <td>38.905</td>\n      <td>188055.915</td>\n      <td>13.0</td>\n      <td>1756.300</td>\n      <td>118.350</td>\n      <td>42.614</td>\n    </tr>\n    <tr>\n      <th>Doctorate</th>\n      <td>47.702</td>\n      <td>186698.760</td>\n      <td>16.0</td>\n      <td>4770.145</td>\n      <td>262.845</td>\n      <td>46.973</td>\n    </tr>\n    <tr>\n      <th>HS-grad</th>\n      <td>38.974</td>\n      <td>189538.740</td>\n      <td>9.0</td>\n      <td>576.800</td>\n      <td>70.467</td>\n      <td>40.575</td>\n    </tr>\n    <tr>\n      <th>Masters</th>\n      <td>44.050</td>\n      <td>179852.363</td>\n      <td>14.0</td>\n      <td>2562.564</td>\n      <td>166.720</td>\n      <td>43.836</td>\n    </tr>\n    <tr>\n      <th>Preschool</th>\n      <td>42.765</td>\n      <td>235889.373</td>\n      <td>1.0</td>\n      <td>898.392</td>\n      <td>66.490</td>\n      <td>36.647</td>\n    </tr>\n    <tr>\n      <th>Prof-school</th>\n      <td>44.747</td>\n      <td>185663.707</td>\n      <td>15.0</td>\n      <td>10414.417</td>\n      <td>231.203</td>\n      <td>47.425</td>\n    </tr>\n    <tr>\n      <th>Some-college</th>\n      <td>35.756</td>\n      <td>188742.922</td>\n      <td>10.0</td>\n      <td>598.824</td>\n      <td>71.637</td>\n      <td>38.852</td>\n    </tr>\n  </tbody>\n</table>\n</div>",
      "text/plain": "                 age      fnlwgt  education_num  capital_gain  capital_loss  \\\neducation                                                                     \n10th          37.430  196832.465            6.0       404.574        56.846   \n11th          32.356  194928.077            7.0       215.098        50.079   \n12th          32.000  199097.508            8.0       284.088        32.337   \n1st-4th       46.143  239303.000            2.0       125.875        48.327   \n5th-6th       42.886  232448.333            3.0       176.021        68.252   \n7th-8th       48.446  188079.172            4.0       233.940        65.669   \n9th           41.060  202485.066            5.0       342.089        28.998   \nAssoc-acdm    37.381  193424.094           12.0       640.399        93.419   \nAssoc-voc     38.554  181936.017           11.0       715.051        72.755   \nBachelors     38.905  188055.915           13.0      1756.300       118.350   \nDoctorate     47.702  186698.760           16.0      4770.145       262.845   \nHS-grad       38.974  189538.740            9.0       576.800        70.467   \nMasters       44.050  179852.363           14.0      2562.564       166.720   \nPreschool     42.765  235889.373            1.0       898.392        66.490   \nProf-school   44.747  185663.707           15.0     10414.417       231.203   \nSome-college  35.756  188742.922           10.0       598.824        71.637   \n\n              hours_per_week  \neducation                     \n10th                  37.053  \n11th                  33.926  \n12th                  35.781  \n1st-4th               38.256  \n5th-6th               38.898  \n7th-8th               39.367  \n9th                   38.045  \nAssoc-acdm            40.504  \nAssoc-voc             41.611  \nBachelors             42.614  \nDoctorate             46.973  \nHS-grad               40.575  \nMasters               43.836  \nPreschool             36.647  \nProf-school           47.425  \nSome-college          38.852  "
     },
     "metadata": {},
     "execution_count": 75
    }
   ],
   "source": [
    "# How to groupby column and apply a function like sum, count, or mean\n",
    "df.groupby(['education']).mean()"
   ]
  },
  {
   "cell_type": "code",
   "execution_count": 76,
   "metadata": {
    "slideshow": {
     "slide_type": "subslide"
    }
   },
   "outputs": [
    {
     "output_type": "execute_result",
     "data": {
      "text/html": "<div>\n<style scoped>\n    .dataframe tbody tr th:only-of-type {\n        vertical-align: middle;\n    }\n\n    .dataframe tbody tr th {\n        vertical-align: top;\n    }\n\n    .dataframe thead th {\n        text-align: right;\n    }\n</style>\n<table border=\"1\" class=\"dataframe\">\n  <thead>\n    <tr style=\"text-align: right;\">\n      <th></th>\n      <th></th>\n      <th>hours_per_week</th>\n      <th>capital_gain</th>\n    </tr>\n    <tr>\n      <th>education</th>\n      <th>age</th>\n      <th></th>\n      <th></th>\n    </tr>\n  </thead>\n  <tbody>\n    <tr>\n      <th rowspan=\"5\" valign=\"top\">10th</th>\n      <th>17</th>\n      <td>21.543</td>\n      <td>266.659</td>\n    </tr>\n    <tr>\n      <th>18</th>\n      <td>27.895</td>\n      <td>0.000</td>\n    </tr>\n    <tr>\n      <th>19</th>\n      <td>34.500</td>\n      <td>0.000</td>\n    </tr>\n    <tr>\n      <th>20</th>\n      <td>39.400</td>\n      <td>0.000</td>\n    </tr>\n    <tr>\n      <th>21</th>\n      <td>39.000</td>\n      <td>229.882</td>\n    </tr>\n    <tr>\n      <th>...</th>\n      <th>...</th>\n      <td>...</td>\n      <td>...</td>\n    </tr>\n    <tr>\n      <th rowspan=\"5\" valign=\"top\">Some-college</th>\n      <th>81</th>\n      <td>13.000</td>\n      <td>0.000</td>\n    </tr>\n    <tr>\n      <th>82</th>\n      <td>11.500</td>\n      <td>0.000</td>\n    </tr>\n    <tr>\n      <th>84</th>\n      <td>35.000</td>\n      <td>0.000</td>\n    </tr>\n    <tr>\n      <th>88</th>\n      <td>40.000</td>\n      <td>0.000</td>\n    </tr>\n    <tr>\n      <th>90</th>\n      <td>32.833</td>\n      <td>0.000</td>\n    </tr>\n  </tbody>\n</table>\n<p>965 rows × 2 columns</p>\n</div>",
      "text/plain": "                  hours_per_week  capital_gain\neducation    age                              \n10th         17           21.543       266.659\n             18           27.895         0.000\n             19           34.500         0.000\n             20           39.400         0.000\n             21           39.000       229.882\n...                          ...           ...\nSome-college 81           13.000         0.000\n             82           11.500         0.000\n             84           35.000         0.000\n             88           40.000         0.000\n             90           32.833         0.000\n\n[965 rows x 2 columns]"
     },
     "metadata": {},
     "execution_count": 76
    }
   ],
   "source": [
    "df.groupby([\n",
    "    'education',\n",
    "    'age',\n",
    "])[['hours_per_week', 'capital_gain']].mean()"
   ]
  },
  {
   "cell_type": "code",
   "execution_count": 77,
   "metadata": {
    "slideshow": {
     "slide_type": "fragment"
    }
   },
   "outputs": [
    {
     "output_type": "execute_result",
     "data": {
      "text/html": "<div>\n<style scoped>\n    .dataframe tbody tr th:only-of-type {\n        vertical-align: middle;\n    }\n\n    .dataframe tbody tr th {\n        vertical-align: top;\n    }\n\n    .dataframe thead th {\n        text-align: right;\n    }\n</style>\n<table border=\"1\" class=\"dataframe\">\n  <thead>\n    <tr style=\"text-align: right;\">\n      <th></th>\n      <th></th>\n      <th>count</th>\n      <th>mean</th>\n    </tr>\n    <tr>\n      <th>income</th>\n      <th>native_country</th>\n      <th></th>\n      <th></th>\n    </tr>\n  </thead>\n  <tbody>\n    <tr>\n      <th rowspan=\"5\" valign=\"top\">&lt;=50K</th>\n      <th>?</th>\n      <td>437</td>\n      <td>36.854</td>\n    </tr>\n    <tr>\n      <th>Cambodia</th>\n      <td>12</td>\n      <td>35.667</td>\n    </tr>\n    <tr>\n      <th>Canada</th>\n      <td>82</td>\n      <td>41.012</td>\n    </tr>\n    <tr>\n      <th>China</th>\n      <td>55</td>\n      <td>41.800</td>\n    </tr>\n    <tr>\n      <th>Columbia</th>\n      <td>57</td>\n      <td>39.228</td>\n    </tr>\n    <tr>\n      <th>...</th>\n      <th>...</th>\n      <td>...</td>\n      <td>...</td>\n    </tr>\n    <tr>\n      <th rowspan=\"5\" valign=\"top\">&gt;50K</th>\n      <th>Thailand</th>\n      <td>3</td>\n      <td>32.667</td>\n    </tr>\n    <tr>\n      <th>Trinadad&amp;Tobago</th>\n      <td>2</td>\n      <td>42.500</td>\n    </tr>\n    <tr>\n      <th>United-States</th>\n      <td>7171</td>\n      <td>44.297</td>\n    </tr>\n    <tr>\n      <th>Vietnam</th>\n      <td>5</td>\n      <td>35.400</td>\n    </tr>\n    <tr>\n      <th>Yugoslavia</th>\n      <td>6</td>\n      <td>40.167</td>\n    </tr>\n  </tbody>\n</table>\n<p>82 rows × 2 columns</p>\n</div>",
      "text/plain": "                         count    mean\nincome native_country                 \n <=50K  ?                  437  36.854\n        Cambodia            12  35.667\n        Canada              82  41.012\n        China               55  41.800\n        Columbia            57  39.228\n...                        ...     ...\n >50K   Thailand             3  32.667\n        Trinadad&Tobago      2  42.500\n        United-States     7171  44.297\n        Vietnam              5  35.400\n        Yugoslavia           6  40.167\n\n[82 rows x 2 columns]"
     },
     "metadata": {},
     "execution_count": 77
    }
   ],
   "source": [
    "# To groupby multiple columns with multiple functions attached\n",
    "df.groupby(['income', 'native_country']).age.agg(['count', 'mean'])\n",
    "# grouped in order of which column is listed first"
   ]
  },
  {
   "cell_type": "code",
   "execution_count": 78,
   "metadata": {
    "slideshow": {
     "slide_type": "fragment"
    }
   },
   "outputs": [
    {
     "output_type": "execute_result",
     "data": {
      "text/plain": "Index(['age', 'workclass', 'fnlwgt', 'education', 'education_num',\n       'marital_status', 'occupation', 'relationship', 'ethnicity', 'gender',\n       'capital_gain', 'capital_loss', 'hours_per_week', 'native_country',\n       'income'],\n      dtype='object')"
     },
     "metadata": {},
     "execution_count": 78
    }
   ],
   "source": [
    "df.columns"
   ]
  },
  {
   "cell_type": "code",
   "execution_count": 82,
   "metadata": {
    "slideshow": {
     "slide_type": "fragment"
    }
   },
   "outputs": [
    {
     "output_type": "execute_result",
     "data": {
      "text/html": "<div>\n<style scoped>\n    .dataframe tbody tr th:only-of-type {\n        vertical-align: middle;\n    }\n\n    .dataframe tbody tr th {\n        vertical-align: top;\n    }\n\n    .dataframe thead th {\n        text-align: right;\n    }\n</style>\n<table border=\"1\" class=\"dataframe\">\n  <thead>\n    <tr style=\"text-align: right;\">\n      <th></th>\n      <th></th>\n      <th>age</th>\n      <th>capital_gain</th>\n    </tr>\n    <tr>\n      <th>income</th>\n      <th>native_country</th>\n      <th></th>\n      <th></th>\n    </tr>\n  </thead>\n  <tbody>\n    <tr>\n      <th>&lt;=50K</th>\n      <th>Columbia</th>\n      <td>39.228</td>\n      <td>10656</td>\n    </tr>\n  </tbody>\n</table>\n</div>",
      "text/plain": "                          age  capital_gain\nincome native_country                      \n <=50K  Columbia       39.228         10656"
     },
     "metadata": {},
     "execution_count": 82
    }
   ],
   "source": [
    "# can use the aggs function to aggregate columns separately\n",
    "gb = df.groupby(['income', 'native_country'])\n",
    "gb_aggs = gb.agg({'age': 'mean', 'capital_gain': 'sum'})\n",
    "gb_aggs.sample(1)"
   ]
  },
  {
   "cell_type": "code",
   "execution_count": 83,
   "metadata": {
    "slideshow": {
     "slide_type": "fragment"
    }
   },
   "outputs": [
    {
     "output_type": "execute_result",
     "data": {
      "text/plain": "education\n10th            36.915\n11th            33.682\n12th            34.951\n1st-4th         32.913\n5th-6th         36.979\n7th-8th         39.060\n9th             38.035\nAssoc-acdm      40.657\nAssoc-voc       41.633\nBachelors       42.709\nDoctorate       47.409\nHS-grad         40.596\nMasters         44.169\nPreschool       28.118\nProf-school     47.484\nSome-college    38.862\nName: hours_per_week, dtype: float64"
     },
     "metadata": {},
     "execution_count": 83
    }
   ],
   "source": [
    "# combine groupby with boolean\n",
    "df[df.native_country == ' United-States'].groupby(\n",
    "    ['education']).hours_per_week.mean()"
   ]
  },
  {
   "cell_type": "markdown",
   "metadata": {
    "slideshow": {
     "slide_type": "slide"
    }
   },
   "source": [
    "## Sort\n",
    "* ### sort_index() to sort by index\n",
    "* ### sort_values() to sort by values"
   ]
  },
  {
   "cell_type": "code",
   "execution_count": 84,
   "metadata": {
    "slideshow": {
     "slide_type": "subslide"
    }
   },
   "outputs": [
    {
     "output_type": "execute_result",
     "data": {
      "text/html": "<div>\n<style scoped>\n    .dataframe tbody tr th:only-of-type {\n        vertical-align: middle;\n    }\n\n    .dataframe tbody tr th {\n        vertical-align: top;\n    }\n\n    .dataframe thead th {\n        text-align: right;\n    }\n</style>\n<table border=\"1\" class=\"dataframe\">\n  <thead>\n    <tr style=\"text-align: right;\">\n      <th></th>\n      <th></th>\n      <th>age</th>\n      <th>fnlwgt</th>\n      <th>education_num</th>\n      <th>capital_gain</th>\n      <th>capital_loss</th>\n      <th>hours_per_week</th>\n    </tr>\n    <tr>\n      <th>income</th>\n      <th>native_country</th>\n      <th></th>\n      <th></th>\n      <th></th>\n      <th></th>\n      <th></th>\n      <th></th>\n    </tr>\n  </thead>\n  <tbody>\n    <tr>\n      <th>&lt;=50K</th>\n      <th>Taiwan</th>\n      <td>29.323</td>\n      <td>181981.290</td>\n      <td>12.548</td>\n      <td>71.032</td>\n      <td>51.677</td>\n      <td>33.774</td>\n    </tr>\n    <tr>\n      <th rowspan=\"2\" valign=\"top\">&gt;50K</th>\n      <th>Dominican-Republic</th>\n      <td>30.500</td>\n      <td>220226.000</td>\n      <td>9.000</td>\n      <td>49999.500</td>\n      <td>0.000</td>\n      <td>47.000</td>\n    </tr>\n    <tr>\n      <th>Hong</th>\n      <td>31.500</td>\n      <td>294478.833</td>\n      <td>13.833</td>\n      <td>0.000</td>\n      <td>329.500</td>\n      <td>45.000</td>\n    </tr>\n    <tr>\n      <th rowspan=\"2\" valign=\"top\">&lt;=50K</th>\n      <th>Holand-Netherlands</th>\n      <td>32.000</td>\n      <td>27882.000</td>\n      <td>10.000</td>\n      <td>0.000</td>\n      <td>2205.000</td>\n      <td>40.000</td>\n    </tr>\n    <tr>\n      <th>Guatemala</th>\n      <td>32.262</td>\n      <td>266016.016</td>\n      <td>5.951</td>\n      <td>116.148</td>\n      <td>26.131</td>\n      <td>39.361</td>\n    </tr>\n    <tr>\n      <th>...</th>\n      <th>...</th>\n      <td>...</td>\n      <td>...</td>\n      <td>...</td>\n      <td>...</td>\n      <td>...</td>\n      <td>...</td>\n    </tr>\n    <tr>\n      <th rowspan=\"5\" valign=\"top\">&gt;50K</th>\n      <th>Italy</th>\n      <td>50.360</td>\n      <td>185383.360</td>\n      <td>10.960</td>\n      <td>1253.040</td>\n      <td>79.080</td>\n      <td>45.400</td>\n    </tr>\n    <tr>\n      <th>Poland</th>\n      <td>50.583</td>\n      <td>179314.167</td>\n      <td>11.083</td>\n      <td>2743.083</td>\n      <td>0.000</td>\n      <td>39.000</td>\n    </tr>\n    <tr>\n      <th>Scotland</th>\n      <td>52.667</td>\n      <td>208306.667</td>\n      <td>10.667</td>\n      <td>1726.000</td>\n      <td>0.000</td>\n      <td>46.667</td>\n    </tr>\n    <tr>\n      <th>Columbia</th>\n      <td>53.500</td>\n      <td>283410.500</td>\n      <td>15.500</td>\n      <td>0.000</td>\n      <td>0.000</td>\n      <td>50.000</td>\n    </tr>\n    <tr>\n      <th>Hungary</th>\n      <td>57.333</td>\n      <td>172137.333</td>\n      <td>11.000</td>\n      <td>1726.000</td>\n      <td>0.000</td>\n      <td>50.000</td>\n    </tr>\n  </tbody>\n</table>\n<p>82 rows × 6 columns</p>\n</div>",
      "text/plain": "                               age      fnlwgt  education_num  capital_gain  \\\nincome native_country                                                         \n <=50K  Taiwan              29.323  181981.290         12.548        71.032   \n >50K   Dominican-Republic  30.500  220226.000          9.000     49999.500   \n        Hong                31.500  294478.833         13.833         0.000   \n <=50K  Holand-Netherlands  32.000   27882.000         10.000         0.000   \n        Guatemala           32.262  266016.016          5.951       116.148   \n...                            ...         ...            ...           ...   \n >50K   Italy               50.360  185383.360         10.960      1253.040   \n        Poland              50.583  179314.167         11.083      2743.083   \n        Scotland            52.667  208306.667         10.667      1726.000   \n        Columbia            53.500  283410.500         15.500         0.000   \n        Hungary             57.333  172137.333         11.000      1726.000   \n\n                            capital_loss  hours_per_week  \nincome native_country                                     \n <=50K  Taiwan                    51.677          33.774  \n >50K   Dominican-Republic         0.000          47.000  \n        Hong                     329.500          45.000  \n <=50K  Holand-Netherlands      2205.000          40.000  \n        Guatemala                 26.131          39.361  \n...                                  ...             ...  \n >50K   Italy                     79.080          45.400  \n        Poland                     0.000          39.000  \n        Scotland                   0.000          46.667  \n        Columbia                   0.000          50.000  \n        Hungary                    0.000          50.000  \n\n[82 rows x 6 columns]"
     },
     "metadata": {},
     "execution_count": 84
    }
   ],
   "source": [
    "# groupby income and country and then sort by their mean age within each data block\n",
    "df_grouped = df.groupby(['income', 'native_country']).mean().sort_values(\n",
    "    'age', ascending=True)\n",
    "df_grouped\n",
    "\n",
    "# Note: In this example, the groupby, mean, and sort functions are stringed together in one line\n",
    "# in the next example, we will show a different syntax so that you could write them on separate\n",
    "# lines to make the code a little easier to read"
   ]
  },
  {
   "cell_type": "code",
   "execution_count": 85,
   "metadata": {
    "slideshow": {
     "slide_type": "fragment"
    }
   },
   "outputs": [
    {
     "output_type": "execute_result",
     "data": {
      "text/html": "<div>\n<style scoped>\n    .dataframe tbody tr th:only-of-type {\n        vertical-align: middle;\n    }\n\n    .dataframe tbody tr th {\n        vertical-align: top;\n    }\n\n    .dataframe thead th {\n        text-align: right;\n    }\n</style>\n<table border=\"1\" class=\"dataframe\">\n  <thead>\n    <tr style=\"text-align: right;\">\n      <th></th>\n      <th>income</th>\n      <th>native_country</th>\n      <th>age</th>\n      <th>fnlwgt</th>\n      <th>education_num</th>\n      <th>capital_gain</th>\n      <th>capital_loss</th>\n      <th>hours_per_week</th>\n    </tr>\n  </thead>\n  <tbody>\n    <tr>\n      <th>5</th>\n      <td>&lt;=50K</td>\n      <td>Cuba</td>\n      <td>47.286</td>\n      <td>243906.229</td>\n      <td>9.043</td>\n      <td>136.986</td>\n      <td>19.714</td>\n      <td>37.986</td>\n    </tr>\n    <tr>\n      <th>18</th>\n      <td>&lt;=50K</td>\n      <td>Hungary</td>\n      <td>47.000</td>\n      <td>182993.800</td>\n      <td>10.700</td>\n      <td>413.800</td>\n      <td>166.800</td>\n      <td>31.300</td>\n    </tr>\n    <tr>\n      <th>12</th>\n      <td>&lt;=50K</td>\n      <td>Greece</td>\n      <td>44.667</td>\n      <td>151661.286</td>\n      <td>9.190</td>\n      <td>347.762</td>\n      <td>202.429</td>\n      <td>41.810</td>\n    </tr>\n    <tr>\n      <th>22</th>\n      <td>&lt;=50K</td>\n      <td>Italy</td>\n      <td>44.375</td>\n      <td>179759.375</td>\n      <td>7.750</td>\n      <td>277.375</td>\n      <td>0.000</td>\n      <td>39.625</td>\n    </tr>\n    <tr>\n      <th>3</th>\n      <td>&lt;=50K</td>\n      <td>China</td>\n      <td>41.800</td>\n      <td>175689.182</td>\n      <td>10.309</td>\n      <td>103.891</td>\n      <td>94.418</td>\n      <td>37.382</td>\n    </tr>\n    <tr>\n      <th>...</th>\n      <td>...</td>\n      <td>...</td>\n      <td>...</td>\n      <td>...</td>\n      <td>...</td>\n      <td>...</td>\n      <td>...</td>\n      <td>...</td>\n    </tr>\n    <tr>\n      <th>68</th>\n      <td>&gt;50K</td>\n      <td>Nicaragua</td>\n      <td>34.000</td>\n      <td>399953.500</td>\n      <td>9.500</td>\n      <td>0.000</td>\n      <td>924.000</td>\n      <td>37.500</td>\n    </tr>\n    <tr>\n      <th>69</th>\n      <td>&gt;50K</td>\n      <td>Peru</td>\n      <td>33.500</td>\n      <td>314562.500</td>\n      <td>11.500</td>\n      <td>0.000</td>\n      <td>924.000</td>\n      <td>40.000</td>\n    </tr>\n    <tr>\n      <th>77</th>\n      <td>&gt;50K</td>\n      <td>Thailand</td>\n      <td>32.667</td>\n      <td>199784.000</td>\n      <td>12.667</td>\n      <td>0.000</td>\n      <td>0.000</td>\n      <td>58.333</td>\n    </tr>\n    <tr>\n      <th>58</th>\n      <td>&gt;50K</td>\n      <td>Hong</td>\n      <td>31.500</td>\n      <td>294478.833</td>\n      <td>13.833</td>\n      <td>0.000</td>\n      <td>329.500</td>\n      <td>45.000</td>\n    </tr>\n    <tr>\n      <th>48</th>\n      <td>&gt;50K</td>\n      <td>Dominican-Republic</td>\n      <td>30.500</td>\n      <td>220226.000</td>\n      <td>9.000</td>\n      <td>49999.500</td>\n      <td>0.000</td>\n      <td>47.000</td>\n    </tr>\n  </tbody>\n</table>\n<p>82 rows × 8 columns</p>\n</div>",
      "text/plain": "    income       native_country     age      fnlwgt  education_num  \\\n5    <=50K                 Cuba  47.286  243906.229          9.043   \n18   <=50K              Hungary  47.000  182993.800         10.700   \n12   <=50K               Greece  44.667  151661.286          9.190   \n22   <=50K                Italy  44.375  179759.375          7.750   \n3    <=50K                China  41.800  175689.182         10.309   \n..     ...                  ...     ...         ...            ...   \n68    >50K            Nicaragua  34.000  399953.500          9.500   \n69    >50K                 Peru  33.500  314562.500         11.500   \n77    >50K             Thailand  32.667  199784.000         12.667   \n58    >50K                 Hong  31.500  294478.833         13.833   \n48    >50K   Dominican-Republic  30.500  220226.000          9.000   \n\n    capital_gain  capital_loss  hours_per_week  \n5        136.986        19.714          37.986  \n18       413.800       166.800          31.300  \n12       347.762       202.429          41.810  \n22       277.375         0.000          39.625  \n3        103.891        94.418          37.382  \n..           ...           ...             ...  \n68         0.000       924.000          37.500  \n69         0.000       924.000          40.000  \n77         0.000         0.000          58.333  \n58         0.000       329.500          45.000  \n48     49999.500         0.000          47.000  \n\n[82 rows x 8 columns]"
     },
     "metadata": {},
     "execution_count": 85
    }
   ],
   "source": [
    "# We want to group people by their income and country\n",
    "# Then sort them by their income ASCE, and then sort by average age within that group DESC \n",
    "(df\n",
    " .groupby(['income','native_country'])\n",
    " .mean()\n",
    " .reset_index()\n",
    " .sort_values(['income','age'], ascending=[True,False])\n",
    ")\n",
    "\n",
    "# Note: In this example, we sort by the SAME column which we grouped by earlier \n",
    "# (eg. we first groupby 'income' and then sort by 'income')\n",
    "# In this case, we must use .reset_index() to re-index the groupby objects, because the 'income' \n",
    "# column no longer exists after the groupby and hence cannot be sorted directly"
   ]
  },
  {
   "cell_type": "code",
   "execution_count": null,
   "metadata": {},
   "outputs": [],
   "source": []
  }
 ],
 "metadata": {
  "language_info": {
   "codemirror_mode": {
    "name": "ipython",
    "version": 3
   },
   "file_extension": ".py",
   "mimetype": "text/x-python",
   "name": "python",
   "nbconvert_exporter": "python",
   "pygments_lexer": "ipython3",
   "version": "2.7.17-final"
  },
  "kernelspec": {
   "name": "python36964bitfc6fa5ef2fa04484af92077c76417ad1",
   "display_name": "Python 3.6.9 64-bit"
  }
 },
 "nbformat": 4,
 "nbformat_minor": 2
}